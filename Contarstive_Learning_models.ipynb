{
 "cells": [
  {
   "cell_type": "code",
   "execution_count": 1,
   "metadata": {},
   "outputs": [],
   "source": [
    "import yfinance as yf\n",
    "import pandas as pd\n",
    "import numpy as np\n",
    "from sklearn.model_selection import train_test_split\n",
    "from sklearn.preprocessing import StandardScaler\n",
    "from sklearn.linear_model import LogisticRegression\n",
    "from sklearn.ensemble import RandomForestClassifier\n",
    "from xgboost import XGBClassifier\n",
    "from sklearn.metrics import classification_report, accuracy_score, confusion_matrix\n",
    "import seaborn as sns\n",
    "import matplotlib.pyplot as plt\n",
    "import itertools\n",
    "from pathlib import Path\n",
    "\n",
    "from sklearn.preprocessing import LabelEncoder\n",
    "from sklearn.model_selection import KFold\n",
    "from imblearn.over_sampling import SMOTE\n",
    "\n",
    "import warnings\n",
    "warnings.filterwarnings(\"ignore\")\n",
    "\n",
    "import torch\n",
    "import torch.nn as nn\n",
    "import torch.optim as optim\n",
    "from torch.utils.data import DataLoader, Dataset\n",
    "import torch.nn.functional as F\n",
    "from torchviz import make_dot\n"
   ]
  },
  {
   "cell_type": "markdown",
   "metadata": {},
   "source": [
    "# Setup"
   ]
  },
  {
   "cell_type": "code",
   "execution_count": 2,
   "metadata": {},
   "outputs": [],
   "source": [
    "ETFtickers=['SPY','GLD','OIL','EWJ','XLK','QQQ','IVV','VTI','USO', 'BOND','IWM']\n",
    "Stocktickers= ['AAPL','ADBE','AMZN','BAC','IBM','MSFT','INTC', 'GOOGL','NFLX','NVDA','QCOM','TWTR','WFC','BA','C','JPM','TSLA']"
   ]
  },
  {
   "cell_type": "code",
   "execution_count": 3,
   "metadata": {},
   "outputs": [],
   "source": [
    "# for i in itertools.chain(Stocktickers,ETFtickers):\n",
    "#     try:\n",
    "        \n",
    "#         tickerdata=yf.download(i,group_by=\"ticker\",  start=\"2015-01-02\", end=\"2022-01-01\")\n",
    "#         tickerdata['ticker'] = i\n",
    "#         tickerdata.to_csv(f'ticker_{i}.csv')\n",
    "#     except KeyError:\n",
    "#         print ('ERROR') \n",
    "    \n",
    "#     print"
   ]
  },
  {
   "cell_type": "code",
   "execution_count": 4,
   "metadata": {},
   "outputs": [],
   "source": [
    "def eda(df):\n",
    "    \n",
    "    ticker = df['ticker'].unique()\n",
    "    print(ticker)\n",
    "    df = df.drop(columns=['ticker'])\n",
    "\n",
    "    # Plot Adjusted Close\n",
    "    plt.figure(figsize=(12, 6))\n",
    "    plt.plot(df['Adj Close'], label='Adjusted Close', color='blue')\n",
    "    plt.title(f'Adjusted Close Price Over Time for {ticker}')\n",
    "    plt.xlabel('Date')\n",
    "    plt.ylabel('Price')\n",
    "    plt.legend()\n",
    "    plt.grid()\n",
    "    plt.savefig(f'plots\\Adjusted Close Price Over Time for {ticker}')\n",
    "    plt.show()\n",
    "\n",
    "    # Plot Volume\n",
    "    plt.figure(figsize=(12, 6))\n",
    "    plt.plot(df['Volume'], label='Volume', color='orange')\n",
    "    plt.title(f'Volume Traded Over Time for {ticker}')\n",
    "    plt.xlabel('Date')\n",
    "    plt.ylabel('Volume')\n",
    "    plt.legend()\n",
    "    plt.grid()\n",
    "    plt.savefig(f'plots\\Volume Traded Over Time for {ticker}')\n",
    "    plt.show()\n",
    "\n",
    "    plt.figure(figsize=(8, 6))\n",
    "    sns.heatmap(df.corr(), annot=True, cmap='coolwarm', fmt='.2f')\n",
    "    plt.title(f'Correlation Matrix for {ticker}')\n",
    "    plt.savefig(f'plots\\Correlation Matrix for {ticker}')\n",
    "    plt.show()\n",
    "    print('---------------------------------------------------------------------------------')"
   ]
  },
  {
   "cell_type": "code",
   "execution_count": 5,
   "metadata": {},
   "outputs": [],
   "source": [
    "def modify(df):\n",
    "    # Calculate Daily Returns\n",
    "    df['Daily Return'] = df['Adj Close'].pct_change()\n",
    "\n",
    "    # Calculate Volatility (20-day rolling standard deviation of daily returns)\n",
    "    df['Volatility'] = df['Daily Return'].rolling(window=20).std()\n",
    "\n",
    "    # Label Market Regimes\n",
    "    df['Regime'] = 'Unknown'  # Initialize regime column\n",
    "\n",
    "    for i in range(20, len(df)):\n",
    "        recent_prices = df['Adj Close'].iloc[i-20:i]\n",
    "        recent_return = (recent_prices.iloc[-1] - recent_prices.iloc[0]) / recent_prices.iloc[0]\n",
    "        \n",
    "        # Bull and Bear market conditions\n",
    "        if recent_return > 0.05:\n",
    "            df.at[df.index[i], 'Regime'] = 'Bull'\n",
    "        elif recent_return < -0.05:\n",
    "            df.at[df.index[i], 'Regime'] = 'Bear'\n",
    "        elif -0.05 <= recent_return <= 0.05:\n",
    "            df.at[df.index[i], 'Regime'] = 'Sideways'\n",
    "        \n",
    "        # Volatile market condition\n",
    "        if df['Volatility'].iloc[i] > 0.02:\n",
    "            df.at[df.index[i], 'Regime'] = 'Volatile'\n",
    "        \n",
    "        # Crisis condition\n",
    "        if df['Daily Return'].iloc[i] < -0.10:\n",
    "            df.at[df.index[i], 'Regime'] = 'Crisis'\n",
    "\n",
    "    return df"
   ]
  },
  {
   "cell_type": "code",
   "execution_count": 6,
   "metadata": {},
   "outputs": [],
   "source": [
    "modified_dfs = []\n",
    "\n",
    "p = Path('dataset/')\n",
    "files = list(p.glob('ticker_*.csv'))\n",
    "\n",
    "for file in files:\n",
    "    df = pd.read_csv(file)\n",
    "    df['Date'] = pd.to_datetime(df['Date'])\n",
    "    df.set_index('Date', inplace=True)\n",
    "    # eda(df)  # Perform exploratory data analysis\n",
    "    modified_df = modify(df)  # Modify the DataFrame\n",
    "    modified_dfs.append(modified_df)  # Append modified DataFrame to the list\n",
    "\n",
    "# Combine all modified DataFrames into a single DataFrame\n",
    "combined_df = pd.concat(modified_dfs)"
   ]
  },
  {
   "cell_type": "code",
   "execution_count": 7,
   "metadata": {},
   "outputs": [
    {
     "data": {
      "text/html": [
       "<div>\n",
       "<style scoped>\n",
       "    .dataframe tbody tr th:only-of-type {\n",
       "        vertical-align: middle;\n",
       "    }\n",
       "\n",
       "    .dataframe tbody tr th {\n",
       "        vertical-align: top;\n",
       "    }\n",
       "\n",
       "    .dataframe thead th {\n",
       "        text-align: right;\n",
       "    }\n",
       "</style>\n",
       "<table border=\"1\" class=\"dataframe\">\n",
       "  <thead>\n",
       "    <tr style=\"text-align: right;\">\n",
       "      <th></th>\n",
       "      <th>Open</th>\n",
       "      <th>High</th>\n",
       "      <th>Low</th>\n",
       "      <th>Close</th>\n",
       "      <th>Adj Close</th>\n",
       "      <th>Volume</th>\n",
       "      <th>ticker</th>\n",
       "      <th>Daily Return</th>\n",
       "      <th>Volatility</th>\n",
       "      <th>Regime</th>\n",
       "    </tr>\n",
       "    <tr>\n",
       "      <th>Date</th>\n",
       "      <th></th>\n",
       "      <th></th>\n",
       "      <th></th>\n",
       "      <th></th>\n",
       "      <th></th>\n",
       "      <th></th>\n",
       "      <th></th>\n",
       "      <th></th>\n",
       "      <th></th>\n",
       "      <th></th>\n",
       "    </tr>\n",
       "  </thead>\n",
       "  <tbody>\n",
       "    <tr>\n",
       "      <th>2015-01-02</th>\n",
       "      <td>27.847500</td>\n",
       "      <td>27.860001</td>\n",
       "      <td>26.837500</td>\n",
       "      <td>27.332500</td>\n",
       "      <td>24.347174</td>\n",
       "      <td>212818400</td>\n",
       "      <td>AAPL</td>\n",
       "      <td>NaN</td>\n",
       "      <td>NaN</td>\n",
       "      <td>Unknown</td>\n",
       "    </tr>\n",
       "    <tr>\n",
       "      <th>2015-01-05</th>\n",
       "      <td>27.072500</td>\n",
       "      <td>27.162500</td>\n",
       "      <td>26.352501</td>\n",
       "      <td>26.562500</td>\n",
       "      <td>23.661272</td>\n",
       "      <td>257142000</td>\n",
       "      <td>AAPL</td>\n",
       "      <td>-0.028172</td>\n",
       "      <td>NaN</td>\n",
       "      <td>Unknown</td>\n",
       "    </tr>\n",
       "    <tr>\n",
       "      <th>2015-01-06</th>\n",
       "      <td>26.635000</td>\n",
       "      <td>26.857500</td>\n",
       "      <td>26.157499</td>\n",
       "      <td>26.565001</td>\n",
       "      <td>23.663504</td>\n",
       "      <td>263188400</td>\n",
       "      <td>AAPL</td>\n",
       "      <td>0.000094</td>\n",
       "      <td>NaN</td>\n",
       "      <td>Unknown</td>\n",
       "    </tr>\n",
       "    <tr>\n",
       "      <th>2015-01-07</th>\n",
       "      <td>26.799999</td>\n",
       "      <td>27.049999</td>\n",
       "      <td>26.674999</td>\n",
       "      <td>26.937500</td>\n",
       "      <td>23.995316</td>\n",
       "      <td>160423600</td>\n",
       "      <td>AAPL</td>\n",
       "      <td>0.014022</td>\n",
       "      <td>NaN</td>\n",
       "      <td>Unknown</td>\n",
       "    </tr>\n",
       "    <tr>\n",
       "      <th>2015-01-08</th>\n",
       "      <td>27.307501</td>\n",
       "      <td>28.037500</td>\n",
       "      <td>27.174999</td>\n",
       "      <td>27.972500</td>\n",
       "      <td>24.917265</td>\n",
       "      <td>237458000</td>\n",
       "      <td>AAPL</td>\n",
       "      <td>0.038422</td>\n",
       "      <td>NaN</td>\n",
       "      <td>Unknown</td>\n",
       "    </tr>\n",
       "    <tr>\n",
       "      <th>...</th>\n",
       "      <td>...</td>\n",
       "      <td>...</td>\n",
       "      <td>...</td>\n",
       "      <td>...</td>\n",
       "      <td>...</td>\n",
       "      <td>...</td>\n",
       "      <td>...</td>\n",
       "      <td>...</td>\n",
       "      <td>...</td>\n",
       "      <td>...</td>\n",
       "    </tr>\n",
       "    <tr>\n",
       "      <th>2021-12-27</th>\n",
       "      <td>173.630005</td>\n",
       "      <td>176.690002</td>\n",
       "      <td>173.589996</td>\n",
       "      <td>176.649994</td>\n",
       "      <td>172.528656</td>\n",
       "      <td>6633300</td>\n",
       "      <td>XLK</td>\n",
       "      <td>0.021453</td>\n",
       "      <td>0.018287</td>\n",
       "      <td>Sideways</td>\n",
       "    </tr>\n",
       "    <tr>\n",
       "      <th>2021-12-28</th>\n",
       "      <td>176.979996</td>\n",
       "      <td>177.039993</td>\n",
       "      <td>175.289993</td>\n",
       "      <td>175.729996</td>\n",
       "      <td>171.630127</td>\n",
       "      <td>5711100</td>\n",
       "      <td>XLK</td>\n",
       "      <td>-0.005208</td>\n",
       "      <td>0.017643</td>\n",
       "      <td>Sideways</td>\n",
       "    </tr>\n",
       "    <tr>\n",
       "      <th>2021-12-29</th>\n",
       "      <td>175.789993</td>\n",
       "      <td>176.589996</td>\n",
       "      <td>174.970001</td>\n",
       "      <td>175.880005</td>\n",
       "      <td>171.776642</td>\n",
       "      <td>4843900</td>\n",
       "      <td>XLK</td>\n",
       "      <td>0.000854</td>\n",
       "      <td>0.017482</td>\n",
       "      <td>Sideways</td>\n",
       "    </tr>\n",
       "    <tr>\n",
       "      <th>2021-12-30</th>\n",
       "      <td>175.949997</td>\n",
       "      <td>176.539993</td>\n",
       "      <td>174.509995</td>\n",
       "      <td>174.720001</td>\n",
       "      <td>170.643707</td>\n",
       "      <td>5263200</td>\n",
       "      <td>XLK</td>\n",
       "      <td>-0.006595</td>\n",
       "      <td>0.017210</td>\n",
       "      <td>Bull</td>\n",
       "    </tr>\n",
       "    <tr>\n",
       "      <th>2021-12-31</th>\n",
       "      <td>174.550003</td>\n",
       "      <td>174.970001</td>\n",
       "      <td>173.789993</td>\n",
       "      <td>173.869995</td>\n",
       "      <td>169.813538</td>\n",
       "      <td>5121500</td>\n",
       "      <td>XLK</td>\n",
       "      <td>-0.004865</td>\n",
       "      <td>0.017217</td>\n",
       "      <td>Sideways</td>\n",
       "    </tr>\n",
       "  </tbody>\n",
       "</table>\n",
       "<p>47601 rows × 10 columns</p>\n",
       "</div>"
      ],
      "text/plain": [
       "                  Open        High         Low       Close   Adj Close  \\\n",
       "Date                                                                     \n",
       "2015-01-02   27.847500   27.860001   26.837500   27.332500   24.347174   \n",
       "2015-01-05   27.072500   27.162500   26.352501   26.562500   23.661272   \n",
       "2015-01-06   26.635000   26.857500   26.157499   26.565001   23.663504   \n",
       "2015-01-07   26.799999   27.049999   26.674999   26.937500   23.995316   \n",
       "2015-01-08   27.307501   28.037500   27.174999   27.972500   24.917265   \n",
       "...                ...         ...         ...         ...         ...   \n",
       "2021-12-27  173.630005  176.690002  173.589996  176.649994  172.528656   \n",
       "2021-12-28  176.979996  177.039993  175.289993  175.729996  171.630127   \n",
       "2021-12-29  175.789993  176.589996  174.970001  175.880005  171.776642   \n",
       "2021-12-30  175.949997  176.539993  174.509995  174.720001  170.643707   \n",
       "2021-12-31  174.550003  174.970001  173.789993  173.869995  169.813538   \n",
       "\n",
       "               Volume ticker  Daily Return  Volatility    Regime  \n",
       "Date                                                              \n",
       "2015-01-02  212818400   AAPL           NaN         NaN   Unknown  \n",
       "2015-01-05  257142000   AAPL     -0.028172         NaN   Unknown  \n",
       "2015-01-06  263188400   AAPL      0.000094         NaN   Unknown  \n",
       "2015-01-07  160423600   AAPL      0.014022         NaN   Unknown  \n",
       "2015-01-08  237458000   AAPL      0.038422         NaN   Unknown  \n",
       "...               ...    ...           ...         ...       ...  \n",
       "2021-12-27    6633300    XLK      0.021453    0.018287  Sideways  \n",
       "2021-12-28    5711100    XLK     -0.005208    0.017643  Sideways  \n",
       "2021-12-29    4843900    XLK      0.000854    0.017482  Sideways  \n",
       "2021-12-30    5263200    XLK     -0.006595    0.017210      Bull  \n",
       "2021-12-31    5121500    XLK     -0.004865    0.017217  Sideways  \n",
       "\n",
       "[47601 rows x 10 columns]"
      ]
     },
     "execution_count": 7,
     "metadata": {},
     "output_type": "execute_result"
    }
   ],
   "source": [
    "combined_df"
   ]
  },
  {
   "cell_type": "code",
   "execution_count": 8,
   "metadata": {},
   "outputs": [],
   "source": [
    "combined_df = combined_df[combined_df['Regime'] != 'Unknown']"
   ]
  },
  {
   "cell_type": "code",
   "execution_count": 9,
   "metadata": {},
   "outputs": [
    {
     "data": {
      "text/plain": [
       "(47061, 10)"
      ]
     },
     "execution_count": 9,
     "metadata": {},
     "output_type": "execute_result"
    }
   ],
   "source": [
    "combined_df.shape"
   ]
  },
  {
   "cell_type": "code",
   "execution_count": 10,
   "metadata": {},
   "outputs": [
    {
     "data": {
      "text/plain": [
       "Open            0\n",
       "High            0\n",
       "Low             0\n",
       "Close           0\n",
       "Adj Close       0\n",
       "Volume          0\n",
       "ticker          0\n",
       "Daily Return    0\n",
       "Volatility      0\n",
       "Regime          0\n",
       "dtype: int64"
      ]
     },
     "execution_count": 10,
     "metadata": {},
     "output_type": "execute_result"
    }
   ],
   "source": [
    "combined_df.isnull().sum()"
   ]
  },
  {
   "cell_type": "code",
   "execution_count": 11,
   "metadata": {},
   "outputs": [
    {
     "data": {
      "text/plain": [
       "(47061, 10)"
      ]
     },
     "execution_count": 11,
     "metadata": {},
     "output_type": "execute_result"
    }
   ],
   "source": [
    "combined_df = combined_df.dropna()\n",
    "combined_df.shape"
   ]
  },
  {
   "cell_type": "code",
   "execution_count": 12,
   "metadata": {},
   "outputs": [
    {
     "data": {
      "text/plain": [
       "Regime\n",
       "Sideways    24819\n",
       "Volatile    10795\n",
       "Bull         8381\n",
       "Bear         2984\n",
       "Crisis         82\n",
       "Name: count, dtype: int64"
      ]
     },
     "execution_count": 12,
     "metadata": {},
     "output_type": "execute_result"
    }
   ],
   "source": [
    "combined_df['Regime'].value_counts()"
   ]
  },
  {
   "cell_type": "code",
   "execution_count": 13,
   "metadata": {},
   "outputs": [
    {
     "data": {
      "image/png": "[encoded data removed]",
      "text/plain": [
       "<Figure size 1000x600 with 1 Axes>"
      ]
     },
     "metadata": {},
     "output_type": "display_data"
    }
   ],
   "source": [
    "# Count the occurrences of each regime\n",
    "regime_counts = combined_df['Regime'].value_counts()\n",
    "\n",
    "# Create a bar plot\n",
    "plt.figure(figsize=(10, 6))\n",
    "sns.barplot(x=regime_counts.index, y=regime_counts.values, palette='viridis')\n",
    "\n",
    "# Add labels and title\n",
    "plt.xlabel('Regime', fontsize=14)\n",
    "plt.ylabel('Count', fontsize=14)\n",
    "plt.title('Distribution of Regime Classes', fontsize=16)\n",
    "plt.xticks(fontsize=12)\n",
    "plt.yticks(fontsize=12)\n",
    "\n",
    "# Show the values on top of each bar\n",
    "for i, value in enumerate(regime_counts.values):\n",
    "    plt.text(i, value + 50, str(value), ha='center', fontsize=12)\n",
    "\n",
    "# Save plot\n",
    "plt.savefig('plots\\Distribution of Regime Classes.png') \n",
    "\n",
    "# Display the plot\n",
    "plt.show()"
   ]
  },
  {
   "cell_type": "code",
   "execution_count": 14,
   "metadata": {},
   "outputs": [],
   "source": [
    "combined_df = combined_df.drop(columns=['ticker'])"
   ]
  },
  {
   "cell_type": "code",
   "execution_count": 15,
   "metadata": {},
   "outputs": [
    {
     "data": {
      "text/html": [
       "<div>\n",
       "<style scoped>\n",
       "    .dataframe tbody tr th:only-of-type {\n",
       "        vertical-align: middle;\n",
       "    }\n",
       "\n",
       "    .dataframe tbody tr th {\n",
       "        vertical-align: top;\n",
       "    }\n",
       "\n",
       "    .dataframe thead th {\n",
       "        text-align: right;\n",
       "    }\n",
       "</style>\n",
       "<table border=\"1\" class=\"dataframe\">\n",
       "  <thead>\n",
       "    <tr style=\"text-align: right;\">\n",
       "      <th></th>\n",
       "      <th>Open</th>\n",
       "      <th>High</th>\n",
       "      <th>Low</th>\n",
       "      <th>Close</th>\n",
       "      <th>Adj Close</th>\n",
       "      <th>Volume</th>\n",
       "      <th>Daily Return</th>\n",
       "      <th>Volatility</th>\n",
       "      <th>Regime</th>\n",
       "    </tr>\n",
       "    <tr>\n",
       "      <th>Date</th>\n",
       "      <th></th>\n",
       "      <th></th>\n",
       "      <th></th>\n",
       "      <th></th>\n",
       "      <th></th>\n",
       "      <th></th>\n",
       "      <th></th>\n",
       "      <th></th>\n",
       "      <th></th>\n",
       "    </tr>\n",
       "  </thead>\n",
       "  <tbody>\n",
       "    <tr>\n",
       "      <th>2015-02-02</th>\n",
       "      <td>29.512501</td>\n",
       "      <td>29.792500</td>\n",
       "      <td>29.020000</td>\n",
       "      <td>29.657499</td>\n",
       "      <td>26.418226</td>\n",
       "      <td>250956400</td>\n",
       "      <td>0.012547</td>\n",
       "      <td>0.023813</td>\n",
       "      <td>Volatile</td>\n",
       "    </tr>\n",
       "    <tr>\n",
       "      <th>2015-02-03</th>\n",
       "      <td>29.625000</td>\n",
       "      <td>29.772499</td>\n",
       "      <td>29.402500</td>\n",
       "      <td>29.662500</td>\n",
       "      <td>26.422686</td>\n",
       "      <td>207662800</td>\n",
       "      <td>0.000169</td>\n",
       "      <td>0.022588</td>\n",
       "      <td>Volatile</td>\n",
       "    </tr>\n",
       "    <tr>\n",
       "      <th>2015-02-04</th>\n",
       "      <td>29.625000</td>\n",
       "      <td>30.127501</td>\n",
       "      <td>29.577499</td>\n",
       "      <td>29.889999</td>\n",
       "      <td>26.625334</td>\n",
       "      <td>280598800</td>\n",
       "      <td>0.007669</td>\n",
       "      <td>0.022551</td>\n",
       "      <td>Volatile</td>\n",
       "    </tr>\n",
       "    <tr>\n",
       "      <th>2015-02-05</th>\n",
       "      <td>30.004999</td>\n",
       "      <td>30.057501</td>\n",
       "      <td>29.812500</td>\n",
       "      <td>29.985001</td>\n",
       "      <td>26.815376</td>\n",
       "      <td>168984800</td>\n",
       "      <td>0.007138</td>\n",
       "      <td>0.022477</td>\n",
       "      <td>Volatile</td>\n",
       "    </tr>\n",
       "    <tr>\n",
       "      <th>2015-02-06</th>\n",
       "      <td>30.004999</td>\n",
       "      <td>30.062500</td>\n",
       "      <td>29.612499</td>\n",
       "      <td>29.732500</td>\n",
       "      <td>26.589561</td>\n",
       "      <td>174826400</td>\n",
       "      <td>-0.008421</td>\n",
       "      <td>0.021310</td>\n",
       "      <td>Volatile</td>\n",
       "    </tr>\n",
       "    <tr>\n",
       "      <th>...</th>\n",
       "      <td>...</td>\n",
       "      <td>...</td>\n",
       "      <td>...</td>\n",
       "      <td>...</td>\n",
       "      <td>...</td>\n",
       "      <td>...</td>\n",
       "      <td>...</td>\n",
       "      <td>...</td>\n",
       "      <td>...</td>\n",
       "    </tr>\n",
       "    <tr>\n",
       "      <th>2021-12-27</th>\n",
       "      <td>173.630005</td>\n",
       "      <td>176.690002</td>\n",
       "      <td>173.589996</td>\n",
       "      <td>176.649994</td>\n",
       "      <td>172.528656</td>\n",
       "      <td>6633300</td>\n",
       "      <td>0.021453</td>\n",
       "      <td>0.018287</td>\n",
       "      <td>Sideways</td>\n",
       "    </tr>\n",
       "    <tr>\n",
       "      <th>2021-12-28</th>\n",
       "      <td>176.979996</td>\n",
       "      <td>177.039993</td>\n",
       "      <td>175.289993</td>\n",
       "      <td>175.729996</td>\n",
       "      <td>171.630127</td>\n",
       "      <td>5711100</td>\n",
       "      <td>-0.005208</td>\n",
       "      <td>0.017643</td>\n",
       "      <td>Sideways</td>\n",
       "    </tr>\n",
       "    <tr>\n",
       "      <th>2021-12-29</th>\n",
       "      <td>175.789993</td>\n",
       "      <td>176.589996</td>\n",
       "      <td>174.970001</td>\n",
       "      <td>175.880005</td>\n",
       "      <td>171.776642</td>\n",
       "      <td>4843900</td>\n",
       "      <td>0.000854</td>\n",
       "      <td>0.017482</td>\n",
       "      <td>Sideways</td>\n",
       "    </tr>\n",
       "    <tr>\n",
       "      <th>2021-12-30</th>\n",
       "      <td>175.949997</td>\n",
       "      <td>176.539993</td>\n",
       "      <td>174.509995</td>\n",
       "      <td>174.720001</td>\n",
       "      <td>170.643707</td>\n",
       "      <td>5263200</td>\n",
       "      <td>-0.006595</td>\n",
       "      <td>0.017210</td>\n",
       "      <td>Bull</td>\n",
       "    </tr>\n",
       "    <tr>\n",
       "      <th>2021-12-31</th>\n",
       "      <td>174.550003</td>\n",
       "      <td>174.970001</td>\n",
       "      <td>173.789993</td>\n",
       "      <td>173.869995</td>\n",
       "      <td>169.813538</td>\n",
       "      <td>5121500</td>\n",
       "      <td>-0.004865</td>\n",
       "      <td>0.017217</td>\n",
       "      <td>Sideways</td>\n",
       "    </tr>\n",
       "  </tbody>\n",
       "</table>\n",
       "<p>47061 rows × 9 columns</p>\n",
       "</div>"
      ],
      "text/plain": [
       "                  Open        High         Low       Close   Adj Close  \\\n",
       "Date                                                                     \n",
       "2015-02-02   29.512501   29.792500   29.020000   29.657499   26.418226   \n",
       "2015-02-03   29.625000   29.772499   29.402500   29.662500   26.422686   \n",
       "2015-02-04   29.625000   30.127501   29.577499   29.889999   26.625334   \n",
       "2015-02-05   30.004999   30.057501   29.812500   29.985001   26.815376   \n",
       "2015-02-06   30.004999   30.062500   29.612499   29.732500   26.589561   \n",
       "...                ...         ...         ...         ...         ...   \n",
       "2021-12-27  173.630005  176.690002  173.589996  176.649994  172.528656   \n",
       "2021-12-28  176.979996  177.039993  175.289993  175.729996  171.630127   \n",
       "2021-12-29  175.789993  176.589996  174.970001  175.880005  171.776642   \n",
       "2021-12-30  175.949997  176.539993  174.509995  174.720001  170.643707   \n",
       "2021-12-31  174.550003  174.970001  173.789993  173.869995  169.813538   \n",
       "\n",
       "               Volume  Daily Return  Volatility    Regime  \n",
       "Date                                                       \n",
       "2015-02-02  250956400      0.012547    0.023813  Volatile  \n",
       "2015-02-03  207662800      0.000169    0.022588  Volatile  \n",
       "2015-02-04  280598800      0.007669    0.022551  Volatile  \n",
       "2015-02-05  168984800      0.007138    0.022477  Volatile  \n",
       "2015-02-06  174826400     -0.008421    0.021310  Volatile  \n",
       "...               ...           ...         ...       ...  \n",
       "2021-12-27    6633300      0.021453    0.018287  Sideways  \n",
       "2021-12-28    5711100     -0.005208    0.017643  Sideways  \n",
       "2021-12-29    4843900      0.000854    0.017482  Sideways  \n",
       "2021-12-30    5263200     -0.006595    0.017210      Bull  \n",
       "2021-12-31    5121500     -0.004865    0.017217  Sideways  \n",
       "\n",
       "[47061 rows x 9 columns]"
      ]
     },
     "execution_count": 15,
     "metadata": {},
     "output_type": "execute_result"
    }
   ],
   "source": [
    "combined_df"
   ]
  },
  {
   "cell_type": "code",
   "execution_count": 38,
   "metadata": {},
   "outputs": [
    {
     "data": {
      "text/html": [
       "<div>\n",
       "<style scoped>\n",
       "    .dataframe tbody tr th:only-of-type {\n",
       "        vertical-align: middle;\n",
       "    }\n",
       "\n",
       "    .dataframe tbody tr th {\n",
       "        vertical-align: top;\n",
       "    }\n",
       "\n",
       "    .dataframe thead th {\n",
       "        text-align: right;\n",
       "    }\n",
       "</style>\n",
       "<table border=\"1\" class=\"dataframe\">\n",
       "  <thead>\n",
       "    <tr style=\"text-align: right;\">\n",
       "      <th></th>\n",
       "      <th>Open</th>\n",
       "      <th>High</th>\n",
       "      <th>Low</th>\n",
       "      <th>Close</th>\n",
       "      <th>Adj Close</th>\n",
       "      <th>Volume</th>\n",
       "      <th>Daily Return</th>\n",
       "      <th>Volatility</th>\n",
       "      <th>Regime</th>\n",
       "    </tr>\n",
       "    <tr>\n",
       "      <th>Date</th>\n",
       "      <th></th>\n",
       "      <th></th>\n",
       "      <th></th>\n",
       "      <th></th>\n",
       "      <th></th>\n",
       "      <th></th>\n",
       "      <th></th>\n",
       "      <th></th>\n",
       "      <th></th>\n",
       "    </tr>\n",
       "  </thead>\n",
       "  <tbody>\n",
       "    <tr>\n",
       "      <th>2015-02-02</th>\n",
       "      <td>29.512501</td>\n",
       "      <td>29.792500</td>\n",
       "      <td>29.020000</td>\n",
       "      <td>29.657499</td>\n",
       "      <td>26.418226</td>\n",
       "      <td>250956400</td>\n",
       "      <td>0.012547</td>\n",
       "      <td>0.023813</td>\n",
       "      <td>4</td>\n",
       "    </tr>\n",
       "    <tr>\n",
       "      <th>2015-02-03</th>\n",
       "      <td>29.625000</td>\n",
       "      <td>29.772499</td>\n",
       "      <td>29.402500</td>\n",
       "      <td>29.662500</td>\n",
       "      <td>26.422686</td>\n",
       "      <td>207662800</td>\n",
       "      <td>0.000169</td>\n",
       "      <td>0.022588</td>\n",
       "      <td>4</td>\n",
       "    </tr>\n",
       "    <tr>\n",
       "      <th>2015-02-04</th>\n",
       "      <td>29.625000</td>\n",
       "      <td>30.127501</td>\n",
       "      <td>29.577499</td>\n",
       "      <td>29.889999</td>\n",
       "      <td>26.625334</td>\n",
       "      <td>280598800</td>\n",
       "      <td>0.007669</td>\n",
       "      <td>0.022551</td>\n",
       "      <td>4</td>\n",
       "    </tr>\n",
       "    <tr>\n",
       "      <th>2015-02-05</th>\n",
       "      <td>30.004999</td>\n",
       "      <td>30.057501</td>\n",
       "      <td>29.812500</td>\n",
       "      <td>29.985001</td>\n",
       "      <td>26.815376</td>\n",
       "      <td>168984800</td>\n",
       "      <td>0.007138</td>\n",
       "      <td>0.022477</td>\n",
       "      <td>4</td>\n",
       "    </tr>\n",
       "    <tr>\n",
       "      <th>2015-02-06</th>\n",
       "      <td>30.004999</td>\n",
       "      <td>30.062500</td>\n",
       "      <td>29.612499</td>\n",
       "      <td>29.732500</td>\n",
       "      <td>26.589561</td>\n",
       "      <td>174826400</td>\n",
       "      <td>-0.008421</td>\n",
       "      <td>0.021310</td>\n",
       "      <td>4</td>\n",
       "    </tr>\n",
       "    <tr>\n",
       "      <th>...</th>\n",
       "      <td>...</td>\n",
       "      <td>...</td>\n",
       "      <td>...</td>\n",
       "      <td>...</td>\n",
       "      <td>...</td>\n",
       "      <td>...</td>\n",
       "      <td>...</td>\n",
       "      <td>...</td>\n",
       "      <td>...</td>\n",
       "    </tr>\n",
       "    <tr>\n",
       "      <th>2021-12-27</th>\n",
       "      <td>173.630005</td>\n",
       "      <td>176.690002</td>\n",
       "      <td>173.589996</td>\n",
       "      <td>176.649994</td>\n",
       "      <td>172.528656</td>\n",
       "      <td>6633300</td>\n",
       "      <td>0.021453</td>\n",
       "      <td>0.018287</td>\n",
       "      <td>3</td>\n",
       "    </tr>\n",
       "    <tr>\n",
       "      <th>2021-12-28</th>\n",
       "      <td>176.979996</td>\n",
       "      <td>177.039993</td>\n",
       "      <td>175.289993</td>\n",
       "      <td>175.729996</td>\n",
       "      <td>171.630127</td>\n",
       "      <td>5711100</td>\n",
       "      <td>-0.005208</td>\n",
       "      <td>0.017643</td>\n",
       "      <td>3</td>\n",
       "    </tr>\n",
       "    <tr>\n",
       "      <th>2021-12-29</th>\n",
       "      <td>175.789993</td>\n",
       "      <td>176.589996</td>\n",
       "      <td>174.970001</td>\n",
       "      <td>175.880005</td>\n",
       "      <td>171.776642</td>\n",
       "      <td>4843900</td>\n",
       "      <td>0.000854</td>\n",
       "      <td>0.017482</td>\n",
       "      <td>3</td>\n",
       "    </tr>\n",
       "    <tr>\n",
       "      <th>2021-12-30</th>\n",
       "      <td>175.949997</td>\n",
       "      <td>176.539993</td>\n",
       "      <td>174.509995</td>\n",
       "      <td>174.720001</td>\n",
       "      <td>170.643707</td>\n",
       "      <td>5263200</td>\n",
       "      <td>-0.006595</td>\n",
       "      <td>0.017210</td>\n",
       "      <td>1</td>\n",
       "    </tr>\n",
       "    <tr>\n",
       "      <th>2021-12-31</th>\n",
       "      <td>174.550003</td>\n",
       "      <td>174.970001</td>\n",
       "      <td>173.789993</td>\n",
       "      <td>173.869995</td>\n",
       "      <td>169.813538</td>\n",
       "      <td>5121500</td>\n",
       "      <td>-0.004865</td>\n",
       "      <td>0.017217</td>\n",
       "      <td>3</td>\n",
       "    </tr>\n",
       "  </tbody>\n",
       "</table>\n",
       "<p>47061 rows × 9 columns</p>\n",
       "</div>"
      ],
      "text/plain": [
       "                  Open        High         Low       Close   Adj Close  \\\n",
       "Date                                                                     \n",
       "2015-02-02   29.512501   29.792500   29.020000   29.657499   26.418226   \n",
       "2015-02-03   29.625000   29.772499   29.402500   29.662500   26.422686   \n",
       "2015-02-04   29.625000   30.127501   29.577499   29.889999   26.625334   \n",
       "2015-02-05   30.004999   30.057501   29.812500   29.985001   26.815376   \n",
       "2015-02-06   30.004999   30.062500   29.612499   29.732500   26.589561   \n",
       "...                ...         ...         ...         ...         ...   \n",
       "2021-12-27  173.630005  176.690002  173.589996  176.649994  172.528656   \n",
       "2021-12-28  176.979996  177.039993  175.289993  175.729996  171.630127   \n",
       "2021-12-29  175.789993  176.589996  174.970001  175.880005  171.776642   \n",
       "2021-12-30  175.949997  176.539993  174.509995  174.720001  170.643707   \n",
       "2021-12-31  174.550003  174.970001  173.789993  173.869995  169.813538   \n",
       "\n",
       "               Volume  Daily Return  Volatility  Regime  \n",
       "Date                                                     \n",
       "2015-02-02  250956400      0.012547    0.023813       4  \n",
       "2015-02-03  207662800      0.000169    0.022588       4  \n",
       "2015-02-04  280598800      0.007669    0.022551       4  \n",
       "2015-02-05  168984800      0.007138    0.022477       4  \n",
       "2015-02-06  174826400     -0.008421    0.021310       4  \n",
       "...               ...           ...         ...     ...  \n",
       "2021-12-27    6633300      0.021453    0.018287       3  \n",
       "2021-12-28    5711100     -0.005208    0.017643       3  \n",
       "2021-12-29    4843900      0.000854    0.017482       3  \n",
       "2021-12-30    5263200     -0.006595    0.017210       1  \n",
       "2021-12-31    5121500     -0.004865    0.017217       3  \n",
       "\n",
       "[47061 rows x 9 columns]"
      ]
     },
     "execution_count": 38,
     "metadata": {},
     "output_type": "execute_result"
    }
   ],
   "source": [
    "# Label encode Regime\n",
    "le = LabelEncoder()\n",
    "combined_df['Regime'] = le.fit_transform(combined_df['Regime']) \n",
    "combined_df"
   ]
  },
  {
   "cell_type": "code",
   "execution_count": 39,
   "metadata": {},
   "outputs": [
    {
     "name": "stdout",
     "output_type": "stream",
     "text": [
      "Class to Encoding Mapping:\n",
      "Bear -> 0\n",
      "Bull -> 1\n",
      "Crisis -> 2\n",
      "Sideways -> 3\n",
      "Volatile -> 4\n"
     ]
    }
   ],
   "source": [
    "# After fitting the LabelEncoder\n",
    "class_mapping = dict(zip(le.classes_, le.transform(le.classes_)))\n",
    "\n",
    "print(\"Class to Encoding Mapping:\")\n",
    "for class_name, encoding in class_mapping.items():\n",
    "    print(f\"{class_name} -> {encoding}\")\n"
   ]
  },
  {
   "cell_type": "code",
   "execution_count": null,
   "metadata": {},
   "outputs": [
    {
     "name": "stdout",
     "output_type": "stream",
     "text": [
      "Volume\n"
     ]
    }
   ],
   "source": [
    "# Convert to numerical\n",
    "for col in combined_df.columns:\n",
    "    if combined_df[col].dtype == 'object' and col != 'Regime':  # If the column is of object type and not 'Regime'\n",
    "        print(col)\n",
    "        combined_df[col] = pd.to_numeric(combined_df[col], errors='coerce')"
   ]
  },
  {
   "cell_type": "code",
   "execution_count": 18,
   "metadata": {},
   "outputs": [
    {
     "data": {
      "text/html": [
       "<div>\n",
       "<style scoped>\n",
       "    .dataframe tbody tr th:only-of-type {\n",
       "        vertical-align: middle;\n",
       "    }\n",
       "\n",
       "    .dataframe tbody tr th {\n",
       "        vertical-align: top;\n",
       "    }\n",
       "\n",
       "    .dataframe thead th {\n",
       "        text-align: right;\n",
       "    }\n",
       "</style>\n",
       "<table border=\"1\" class=\"dataframe\">\n",
       "  <thead>\n",
       "    <tr style=\"text-align: right;\">\n",
       "      <th></th>\n",
       "      <th>Open</th>\n",
       "      <th>High</th>\n",
       "      <th>Low</th>\n",
       "      <th>Close</th>\n",
       "      <th>Adj Close</th>\n",
       "      <th>Volume</th>\n",
       "      <th>Daily Return</th>\n",
       "      <th>Volatility</th>\n",
       "      <th>Regime</th>\n",
       "    </tr>\n",
       "    <tr>\n",
       "      <th>Date</th>\n",
       "      <th></th>\n",
       "      <th></th>\n",
       "      <th></th>\n",
       "      <th></th>\n",
       "      <th></th>\n",
       "      <th></th>\n",
       "      <th></th>\n",
       "      <th></th>\n",
       "      <th></th>\n",
       "    </tr>\n",
       "  </thead>\n",
       "  <tbody>\n",
       "    <tr>\n",
       "      <th>2015-02-02</th>\n",
       "      <td>29.512501</td>\n",
       "      <td>29.792500</td>\n",
       "      <td>29.020000</td>\n",
       "      <td>29.657499</td>\n",
       "      <td>26.418226</td>\n",
       "      <td>250956400</td>\n",
       "      <td>0.012547</td>\n",
       "      <td>0.023813</td>\n",
       "      <td>4</td>\n",
       "    </tr>\n",
       "    <tr>\n",
       "      <th>2015-02-03</th>\n",
       "      <td>29.625000</td>\n",
       "      <td>29.772499</td>\n",
       "      <td>29.402500</td>\n",
       "      <td>29.662500</td>\n",
       "      <td>26.422686</td>\n",
       "      <td>207662800</td>\n",
       "      <td>0.000169</td>\n",
       "      <td>0.022588</td>\n",
       "      <td>4</td>\n",
       "    </tr>\n",
       "    <tr>\n",
       "      <th>2015-02-04</th>\n",
       "      <td>29.625000</td>\n",
       "      <td>30.127501</td>\n",
       "      <td>29.577499</td>\n",
       "      <td>29.889999</td>\n",
       "      <td>26.625334</td>\n",
       "      <td>280598800</td>\n",
       "      <td>0.007669</td>\n",
       "      <td>0.022551</td>\n",
       "      <td>4</td>\n",
       "    </tr>\n",
       "    <tr>\n",
       "      <th>2015-02-05</th>\n",
       "      <td>30.004999</td>\n",
       "      <td>30.057501</td>\n",
       "      <td>29.812500</td>\n",
       "      <td>29.985001</td>\n",
       "      <td>26.815376</td>\n",
       "      <td>168984800</td>\n",
       "      <td>0.007138</td>\n",
       "      <td>0.022477</td>\n",
       "      <td>4</td>\n",
       "    </tr>\n",
       "    <tr>\n",
       "      <th>2015-02-06</th>\n",
       "      <td>30.004999</td>\n",
       "      <td>30.062500</td>\n",
       "      <td>29.612499</td>\n",
       "      <td>29.732500</td>\n",
       "      <td>26.589561</td>\n",
       "      <td>174826400</td>\n",
       "      <td>-0.008421</td>\n",
       "      <td>0.021310</td>\n",
       "      <td>4</td>\n",
       "    </tr>\n",
       "    <tr>\n",
       "      <th>...</th>\n",
       "      <td>...</td>\n",
       "      <td>...</td>\n",
       "      <td>...</td>\n",
       "      <td>...</td>\n",
       "      <td>...</td>\n",
       "      <td>...</td>\n",
       "      <td>...</td>\n",
       "      <td>...</td>\n",
       "      <td>...</td>\n",
       "    </tr>\n",
       "    <tr>\n",
       "      <th>2021-12-27</th>\n",
       "      <td>173.630005</td>\n",
       "      <td>176.690002</td>\n",
       "      <td>173.589996</td>\n",
       "      <td>176.649994</td>\n",
       "      <td>172.528656</td>\n",
       "      <td>6633300</td>\n",
       "      <td>0.021453</td>\n",
       "      <td>0.018287</td>\n",
       "      <td>3</td>\n",
       "    </tr>\n",
       "    <tr>\n",
       "      <th>2021-12-28</th>\n",
       "      <td>176.979996</td>\n",
       "      <td>177.039993</td>\n",
       "      <td>175.289993</td>\n",
       "      <td>175.729996</td>\n",
       "      <td>171.630127</td>\n",
       "      <td>5711100</td>\n",
       "      <td>-0.005208</td>\n",
       "      <td>0.017643</td>\n",
       "      <td>3</td>\n",
       "    </tr>\n",
       "    <tr>\n",
       "      <th>2021-12-29</th>\n",
       "      <td>175.789993</td>\n",
       "      <td>176.589996</td>\n",
       "      <td>174.970001</td>\n",
       "      <td>175.880005</td>\n",
       "      <td>171.776642</td>\n",
       "      <td>4843900</td>\n",
       "      <td>0.000854</td>\n",
       "      <td>0.017482</td>\n",
       "      <td>3</td>\n",
       "    </tr>\n",
       "    <tr>\n",
       "      <th>2021-12-30</th>\n",
       "      <td>175.949997</td>\n",
       "      <td>176.539993</td>\n",
       "      <td>174.509995</td>\n",
       "      <td>174.720001</td>\n",
       "      <td>170.643707</td>\n",
       "      <td>5263200</td>\n",
       "      <td>-0.006595</td>\n",
       "      <td>0.017210</td>\n",
       "      <td>1</td>\n",
       "    </tr>\n",
       "    <tr>\n",
       "      <th>2021-12-31</th>\n",
       "      <td>174.550003</td>\n",
       "      <td>174.970001</td>\n",
       "      <td>173.789993</td>\n",
       "      <td>173.869995</td>\n",
       "      <td>169.813538</td>\n",
       "      <td>5121500</td>\n",
       "      <td>-0.004865</td>\n",
       "      <td>0.017217</td>\n",
       "      <td>3</td>\n",
       "    </tr>\n",
       "  </tbody>\n",
       "</table>\n",
       "<p>47061 rows × 9 columns</p>\n",
       "</div>"
      ],
      "text/plain": [
       "                  Open        High         Low       Close   Adj Close  \\\n",
       "Date                                                                     \n",
       "2015-02-02   29.512501   29.792500   29.020000   29.657499   26.418226   \n",
       "2015-02-03   29.625000   29.772499   29.402500   29.662500   26.422686   \n",
       "2015-02-04   29.625000   30.127501   29.577499   29.889999   26.625334   \n",
       "2015-02-05   30.004999   30.057501   29.812500   29.985001   26.815376   \n",
       "2015-02-06   30.004999   30.062500   29.612499   29.732500   26.589561   \n",
       "...                ...         ...         ...         ...         ...   \n",
       "2021-12-27  173.630005  176.690002  173.589996  176.649994  172.528656   \n",
       "2021-12-28  176.979996  177.039993  175.289993  175.729996  171.630127   \n",
       "2021-12-29  175.789993  176.589996  174.970001  175.880005  171.776642   \n",
       "2021-12-30  175.949997  176.539993  174.509995  174.720001  170.643707   \n",
       "2021-12-31  174.550003  174.970001  173.789993  173.869995  169.813538   \n",
       "\n",
       "               Volume  Daily Return  Volatility  Regime  \n",
       "Date                                                     \n",
       "2015-02-02  250956400      0.012547    0.023813       4  \n",
       "2015-02-03  207662800      0.000169    0.022588       4  \n",
       "2015-02-04  280598800      0.007669    0.022551       4  \n",
       "2015-02-05  168984800      0.007138    0.022477       4  \n",
       "2015-02-06  174826400     -0.008421    0.021310       4  \n",
       "...               ...           ...         ...     ...  \n",
       "2021-12-27    6633300      0.021453    0.018287       3  \n",
       "2021-12-28    5711100     -0.005208    0.017643       3  \n",
       "2021-12-29    4843900      0.000854    0.017482       3  \n",
       "2021-12-30    5263200     -0.006595    0.017210       1  \n",
       "2021-12-31    5121500     -0.004865    0.017217       3  \n",
       "\n",
       "[47061 rows x 9 columns]"
      ]
     },
     "execution_count": 18,
     "metadata": {},
     "output_type": "execute_result"
    }
   ],
   "source": [
    "combined_df"
   ]
  },
  {
   "cell_type": "code",
   "execution_count": null,
   "metadata": {},
   "outputs": [
    {
     "name": "stdout",
     "output_type": "stream",
     "text": [
      "(47061, 9)\n"
     ]
    },
    {
     "data": {
      "image/png": "[encoded data removed]",
      "text/plain": [
       "<Figure size 1200x600 with 1 Axes>"
      ]
     },
     "metadata": {},
     "output_type": "display_data"
    },
    {
     "data": {
      "image/png": "[encoded data removed]",
      "text/plain": [
       "<Figure size 1200x600 with 1 Axes>"
      ]
     },
     "metadata": {},
     "output_type": "display_data"
    },
    {
     "data": {
      "image/png": "[encoded data removed]",
      "text/plain": [
       "<Figure size 800x600 with 2 Axes>"
      ]
     },
     "metadata": {},
     "output_type": "display_data"
    }
   ],
   "source": [
    "# Compplete df eda\n",
    "eda(combined_df)"
   ]
  },
  {
   "cell_type": "code",
   "execution_count": null,
   "metadata": {},
   "outputs": [
    {
     "name": "stdout",
     "output_type": "stream",
     "text": [
      "                Open      High       Low     Close  Adj Close    Volume  \\\n",
      "Date                                                                      \n",
      "2015-02-02 -0.851477 -0.850481 -0.854687 -0.850187  -0.820049  1.869345   \n",
      "2015-02-03 -0.850409 -0.850669 -0.851018 -0.850140  -0.820005  1.472904   \n",
      "2015-02-04 -0.850409 -0.847331 -0.849339 -0.847980  -0.818042  2.140782   \n",
      "2015-02-05 -0.846801 -0.847989 -0.847084 -0.847078  -0.816200  1.118727   \n",
      "2015-02-06 -0.846801 -0.847942 -0.849003 -0.849475  -0.818388  1.172219   \n",
      "...              ...       ...       ...       ...        ...       ...   \n",
      "2021-12-27  0.516812  0.531046  0.532393  0.545392   0.595792 -0.367933   \n",
      "2021-12-28  0.548617  0.534338  0.548704  0.536658   0.587085 -0.376378   \n",
      "2021-12-29  0.537319  0.530105  0.545634  0.538082   0.588504 -0.384319   \n",
      "2021-12-30  0.538838  0.529635  0.541220  0.527069   0.577526 -0.380479   \n",
      "2021-12-31  0.525546  0.514870  0.534312  0.518999   0.569482 -0.381777   \n",
      "\n",
      "            Daily Return  Volatility  Regime  \n",
      "Date                                          \n",
      "2015-02-02      0.601541    0.703267       4  \n",
      "2015-02-03     -0.036302    0.596453       4  \n",
      "2015-02-04      0.350216    0.593248       4  \n",
      "2015-02-05      0.322811    0.586800       4  \n",
      "2015-02-06     -0.478948    0.485124       4  \n",
      "...                  ...         ...     ...  \n",
      "2021-12-27      1.060471    0.221783       3  \n",
      "2021-12-28     -0.313374    0.165628       3  \n",
      "2021-12-29     -0.001010    0.151610       3  \n",
      "2021-12-30     -0.384868    0.127896       1  \n",
      "2021-12-31     -0.295695    0.128488       3  \n",
      "\n",
      "[47061 rows x 9 columns]\n"
     ]
    }
   ],
   "source": [
    "# Select numerical columns to normalize, excluding 'Regime'\n",
    "numerical_cols = combined_df.select_dtypes(include=['float64', 'int64']).columns\n",
    "numerical_cols = [col for col in numerical_cols if col != 'Regime']  # Exclude 'Regime'\n",
    "\n",
    "# Scaling numerical columns\n",
    "scaler = StandardScaler()\n",
    "combined_df[numerical_cols] = scaler.fit_transform(combined_df[numerical_cols])\n",
    "\n",
    "combined_df"
   ]
  },
  {
   "cell_type": "code",
   "execution_count": null,
   "metadata": {},
   "outputs": [],
   "source": [
    "# Function to evaluate models\n",
    "def evaluate_model(y_true, y_pred, model_name):\n",
    "    print(f\"Evaluation for {model_name}:\")\n",
    "    print(\"Confusion Matrix:\")\n",
    "    print(confusion_matrix(y_true, y_pred))\n",
    "    print(\"\\nClassification Report:\")\n",
    "    print(classification_report(y_true, y_pred))\n",
    "    print(\"Accuracy:\", accuracy_score(y_true, y_pred))"
   ]
  },
  {
   "cell_type": "code",
   "execution_count": null,
   "metadata": {},
   "outputs": [],
   "source": [
    "data = combined_df.drop(columns=['Regime']).values  # Features\n",
    "labels = combined_df['Regime'].values  # Labels"
   ]
  },
  {
   "cell_type": "code",
   "execution_count": null,
   "metadata": {},
   "outputs": [],
   "source": [
    "# 80-20 train-test split \n",
    "train_data, test_data, train_labels, test_labels = train_test_split(\n",
    "    data, labels, test_size=0.2, stratify=labels, random_state=42\n",
    ")"
   ]
  },
  {
   "cell_type": "markdown",
   "metadata": {},
   "source": [
    "# SimCLR"
   ]
  },
  {
   "cell_type": "code",
   "execution_count": null,
   "metadata": {},
   "outputs": [],
   "source": [
    "# Function to handle dataset and feed into SimCLR model\n",
    "class TabularDataset(Dataset):\n",
    "    def __init__(self, data, labels=None):\n",
    "        self.data = torch.Tensor(data)  # Convert the data to tensors\n",
    "        self.labels = torch.Tensor(labels).long() if labels is not None else None\n",
    "        self.length = len(data)\n",
    "\n",
    "    def __len__(self):\n",
    "        return self.length\n",
    "\n",
    "    def __getitem__(self, idx):\n",
    "        x = self.data[idx]\n",
    "        if self.labels is not None:\n",
    "            y = self.labels[idx]\n",
    "            return x, y\n",
    "        return x"
   ]
  },
  {
   "cell_type": "code",
   "execution_count": null,
   "metadata": {},
   "outputs": [],
   "source": [
    "# SimCLR model architecture\n",
    "class SimCLR(nn.Module):\n",
    "    def __init__(self, input_dim, hidden_dim=128, projection_dim=64):\n",
    "        \"\"\"\n",
    "        SimCLR model with an encoder, projection head, and decoder for reconstruction.\n",
    "\n",
    "        Args:\n",
    "            input_dim (int): Dimensionality of the input features.\n",
    "            hidden_dim (int): Dimensionality of the hidden layer in the encoder.\n",
    "            projection_dim (int): Dimensionality of the output embeddings from the projection head.\n",
    "        \"\"\"\n",
    "        super(SimCLR, self).__init__()\n",
    "        \n",
    "        # Encoder: Single hidden layer followed by ReLU activation\n",
    "        self.encoder = nn.Sequential(\n",
    "            nn.Linear(input_dim, hidden_dim),\n",
    "            nn.ReLU()\n",
    "        )\n",
    "        \n",
    "        # Projection Head: Maps encoder output to the embedding space\n",
    "        self.projection_head = nn.Linear(hidden_dim, projection_dim)\n",
    "        \n",
    "        # Decoder: Reconstructs input from the hidden representation\n",
    "        self.decoder = nn.Sequential(\n",
    "            nn.Linear(hidden_dim, input_dim),\n",
    "            nn.Sigmoid()  # Use Sigmoid if input data is normalized between 0 and 1\n",
    "        )\n",
    "\n",
    "    def forward(self, x):\n",
    "        \"\"\"\n",
    "        Forward pass of the SimCLR model.\n",
    "\n",
    "        Args:\n",
    "            x (torch.Tensor): Input tensor of shape (batch_size, input_dim).\n",
    "\n",
    "        Returns:\n",
    "            torch.Tensor: Embeddings from the projection head of shape (batch_size, projection_dim).\n",
    "            torch.Tensor: Reconstructed input of shape (batch_size, input_dim).\n",
    "        \"\"\"\n",
    "        # Extract features using the encoder\n",
    "        features = self.encoder(x)\n",
    "        \n",
    "        # Generate embeddings using the projection head\n",
    "        embeddings = self.projection_head(features)\n",
    "        \n",
    "        # Reconstruct the input using the decoder\n",
    "        reconstructed = self.decoder(features)\n",
    "        \n",
    "        return embeddings, reconstructed\n"
   ]
  },
  {
   "cell_type": "code",
   "execution_count": null,
   "metadata": {},
   "outputs": [],
   "source": [
    "#Contrastive Loss Function (NT-Xent Loss)\n",
    "def nt_xent_loss(x_i, x_j, temperature=0.5):\n",
    "    # Normalize the embeddings\n",
    "    x_i = F.normalize(x_i, p=2, dim=-1)\n",
    "    x_j = F.normalize(x_j, p=2, dim=-1)\n",
    "\n",
    "    # Compute similarity scores \n",
    "    sim_ij = torch.matmul(x_i, x_j.T)\n",
    "    sim_ji = torch.matmul(x_j, x_i.T)\n",
    "\n",
    "    # Compute contrastive loss\n",
    "    labels = torch.arange(x_i.size(0)).long().to(x_i.device)\n",
    "    loss_i = F.cross_entropy(sim_ij / temperature, labels)\n",
    "    loss_j = F.cross_entropy(sim_ji / temperature, labels)\n",
    "\n",
    "    loss = (loss_i + loss_j) / 2\n",
    "    return loss"
   ]
  },
  {
   "cell_type": "code",
   "execution_count": 25,
   "metadata": {},
   "outputs": [],
   "source": [
    "def combined_loss(z_i, z_j, reconstructed_i, reconstructed_j, original, temperature=0.5, lambda_reconstruction=1.0):\n",
    "    \"\"\"\n",
    "    Combined loss function for SimCLR, which includes both contrastive loss (NT-Xent) and reconstruction loss.\n",
    "    \n",
    "    Args:\n",
    "        z_i (torch.Tensor): Embeddings from the first view (n_samples, projection_dim).\n",
    "        z_j (torch.Tensor): Embeddings from the second view (n_samples, projection_dim).\n",
    "        reconstructed_i (torch.Tensor): Reconstructed input from the first view (n_samples, n_features).\n",
    "        reconstructed_j (torch.Tensor): Reconstructed input from the second view (n_samples, n_features).\n",
    "        original (torch.Tensor): The original data (n_samples, n_features), used for reconstruction loss.\n",
    "        temperature (float): Temperature parameter for NT-Xent loss.\n",
    "        lambda_reconstruction (float): Weighting factor for reconstruction loss.\n",
    "    \n",
    "    Returns:\n",
    "        torch.Tensor: Total loss (contrastive loss + reconstruction loss for both views).\n",
    "    \"\"\"\n",
    "    # Contrastive loss (NT-Xent) for the two views\n",
    "    contrastive_loss = nt_xent_loss(z_i, z_j, temperature)\n",
    "    \n",
    "    # Reconstruction loss for the first view\n",
    "    reconstruction_loss_i = F.mse_loss(reconstructed_i, original)\n",
    "    \n",
    "    # Reconstruction loss for the second view\n",
    "    reconstruction_loss_j = F.mse_loss(reconstructed_j, original)\n",
    "    \n",
    "    # Total loss: Combine contrastive loss and reconstruction losses for both views\n",
    "    total_loss = contrastive_loss + lambda_reconstruction * (reconstruction_loss_i + reconstruction_loss_j)\n",
    "    \n",
    "    return total_loss\n"
   ]
  },
  {
   "cell_type": "code",
   "execution_count": null,
   "metadata": {},
   "outputs": [],
   "source": [
    "CORRUPTION_RATE = 0.6  # Example corruption rate\n",
    "\n",
    "# Function to create a corrupted view of the data\n",
    "def generate_corrupted_view(x_batch):\n",
    "    \"\"\"\n",
    "    Generate a corrupted view of the input tensor x_batch using random masks.\n",
    "    \n",
    "    Args:\n",
    "        x_batch (torch.Tensor): Original data, shape (n_samples, n_features)\n",
    "    \n",
    "    Returns:\n",
    "        torch.Tensor: Corrupted data, same shape as x_batch\n",
    "    \"\"\"\n",
    "    n_samples, n_features = x_batch.shape\n",
    "    corruption_len = int(np.ceil(CORRUPTION_RATE * n_features))\n",
    "    \n",
    "    # Generate the corruption masks\n",
    "    corruption_masks = torch.zeros((n_samples, n_features), dtype=torch.bool, device=x_batch.device)\n",
    "    \n",
    "    # Generate random corruption masks\n",
    "    for i in range(n_samples):\n",
    "        corruption_idxes = torch.randperm(n_features, device=x_batch.device)[:corruption_len]\n",
    "        corruption_masks[i, corruption_idxes] = True\n",
    "\n",
    "    # Apply the corruption masks to generate the corrupted view\n",
    "    X_corrupted = x_batch.clone()  # Create a copy of the original tensor\n",
    "    random_noise = torch.randn_like(x_batch)  # Generate random noise with the same shape as x_batch\n",
    "    X_corrupted[corruption_masks] = random_noise[corruption_masks]  # Add random noise to the corrupted features\n",
    "    \n",
    "    return X_corrupted\n"
   ]
  },
  {
   "cell_type": "code",
   "execution_count": 29,
   "metadata": {},
   "outputs": [],
   "source": [
    "train_dataset = TabularDataset(train_data, train_labels)\n",
    "train_loader = DataLoader(train_dataset, batch_size=64, shuffle=True)"
   ]
  },
  {
   "cell_type": "code",
   "execution_count": 30,
   "metadata": {},
   "outputs": [
    {
     "data": {
      "text/plain": [
       "8"
      ]
     },
     "execution_count": 30,
     "metadata": {},
     "output_type": "execute_result"
    }
   ],
   "source": [
    "train_data.shape[1]"
   ]
  },
  {
   "cell_type": "code",
   "execution_count": 31,
   "metadata": {},
   "outputs": [
    {
     "data": {
      "text/plain": [
       "(37648, 8)"
      ]
     },
     "execution_count": 31,
     "metadata": {},
     "output_type": "execute_result"
    }
   ],
   "source": [
    "train_data.shape"
   ]
  },
  {
   "cell_type": "code",
   "execution_count": null,
   "metadata": {},
   "outputs": [
    {
     "name": "stdout",
     "output_type": "stream",
     "text": [
      "Parameter name: encoder.0.weight\n",
      "Parameter size: torch.Size([128, 8])\n",
      "--------------------------------------------------\n",
      "Parameter name: encoder.0.bias\n",
      "Parameter size: torch.Size([128])\n",
      "--------------------------------------------------\n",
      "Parameter name: projection_head.weight\n",
      "Parameter size: torch.Size([64, 128])\n",
      "--------------------------------------------------\n",
      "Parameter name: projection_head.bias\n",
      "Parameter size: torch.Size([64])\n",
      "--------------------------------------------------\n",
      "Parameter name: decoder.0.weight\n",
      "Parameter size: torch.Size([8, 128])\n",
      "--------------------------------------------------\n",
      "Parameter name: decoder.0.bias\n",
      "Parameter size: torch.Size([8])\n",
      "--------------------------------------------------\n"
     ]
    }
   ],
   "source": [
    "# Model architecture\n",
    "SimCLR_model = SimCLR(input_dim=train_data.shape[1])\n",
    "\n",
    "for name, param in SimCLR_model.named_parameters():\n",
    "    print(f\"Parameter name: {name}\")\n",
    "    print(f\"Parameter size: {param.size()}\")\n",
    "    print(\"-\" * 50)"
   ]
  },
  {
   "cell_type": "code",
   "execution_count": 33,
   "metadata": {},
   "outputs": [
    {
     "name": "stdout",
     "output_type": "stream",
     "text": [
      "SimCLR(\n",
      "  (encoder): Sequential(\n",
      "    (0): Linear(in_features=8, out_features=128, bias=True)\n",
      "    (1): ReLU()\n",
      "  )\n",
      "  (projection_head): Linear(in_features=128, out_features=64, bias=True)\n",
      "  (decoder): Sequential(\n",
      "    (0): Linear(in_features=128, out_features=8, bias=True)\n",
      "    (1): Sigmoid()\n",
      "  )\n",
      ")\n",
      "Epoch [1/100], Loss: 5.303135735879325\n",
      "Epoch [2/100], Loss: 5.085452824578018\n",
      "Epoch [3/100], Loss: 5.022452832887452\n",
      "Epoch [4/100], Loss: 4.9329848483786725\n",
      "Epoch [5/100], Loss: 4.881221994681755\n",
      "Epoch [6/100], Loss: 4.8215510533499595\n",
      "Epoch [7/100], Loss: 4.781671000255591\n",
      "Epoch [8/100], Loss: 4.767742834997906\n",
      "Epoch [9/100], Loss: 4.7524214094482575\n",
      "Epoch [10/100], Loss: 4.729730662749052\n",
      "Epoch [11/100], Loss: 4.721149515012732\n",
      "Epoch [12/100], Loss: 4.712989382104275\n",
      "Epoch [13/100], Loss: 4.697458546513815\n",
      "Epoch [14/100], Loss: 4.695980609981232\n",
      "Epoch [15/100], Loss: 4.673735014651546\n",
      "Epoch [16/100], Loss: 4.6674893788854215\n",
      "Epoch [17/100], Loss: 4.65884394920945\n",
      "Epoch [18/100], Loss: 4.632621802781758\n",
      "Epoch [19/100], Loss: 4.635679235685054\n",
      "Epoch [20/100], Loss: 4.604964169257768\n",
      "Epoch [21/100], Loss: 4.6071872403544765\n",
      "Epoch [22/100], Loss: 4.581165361080591\n",
      "Epoch [23/100], Loss: 4.577012109027856\n",
      "Epoch [24/100], Loss: 4.5738812889429425\n",
      "Epoch [25/100], Loss: 4.5648613486103775\n",
      "Epoch [26/100], Loss: 4.558886985017812\n",
      "Epoch [27/100], Loss: 4.557166212888242\n",
      "Epoch [28/100], Loss: 4.55258411422043\n",
      "Epoch [29/100], Loss: 4.551182273693117\n",
      "Epoch [30/100], Loss: 4.5371279315754185\n",
      "Epoch [31/100], Loss: 4.540667863369798\n",
      "Epoch [32/100], Loss: 4.538970776850987\n",
      "Epoch [33/100], Loss: 4.542321437890744\n",
      "Epoch [34/100], Loss: 4.533819895244009\n",
      "Epoch [35/100], Loss: 4.533425994963719\n",
      "Epoch [36/100], Loss: 4.535500686318441\n",
      "Epoch [37/100], Loss: 4.530501551053318\n",
      "Epoch [38/100], Loss: 4.534151273186624\n",
      "Epoch [39/100], Loss: 4.533837822378188\n",
      "Epoch [40/100], Loss: 4.528257689370769\n",
      "Epoch [41/100], Loss: 4.527864169183935\n",
      "Epoch [42/100], Loss: 4.524560085986385\n",
      "Epoch [43/100], Loss: 4.516737667935408\n",
      "Epoch [44/100], Loss: 4.523231553302758\n",
      "Epoch [45/100], Loss: 4.52244942297555\n",
      "Epoch [46/100], Loss: 4.519081200322797\n",
      "Epoch [47/100], Loss: 4.5156791343753735\n",
      "Epoch [48/100], Loss: 4.514079401569981\n",
      "Epoch [49/100], Loss: 4.51878963585418\n",
      "Epoch [50/100], Loss: 4.510599867394905\n",
      "Epoch [51/100], Loss: 4.5119634565149385\n",
      "Epoch [52/100], Loss: 4.514493038779811\n",
      "Epoch [53/100], Loss: 4.5178300504571105\n",
      "Epoch [54/100], Loss: 4.506973644266306\n",
      "Epoch [55/100], Loss: 4.508554577220275\n",
      "Epoch [56/100], Loss: 4.509055164350111\n",
      "Epoch [57/100], Loss: 4.507116761798567\n",
      "Epoch [58/100], Loss: 4.508370308803176\n",
      "Epoch [59/100], Loss: 4.508759813114419\n",
      "Epoch [60/100], Loss: 4.509870798357071\n",
      "Epoch [61/100], Loss: 4.500783046356486\n",
      "Epoch [62/100], Loss: 4.500625480010675\n",
      "Epoch [63/100], Loss: 4.504664991424121\n",
      "Epoch [64/100], Loss: 4.497764453418388\n",
      "Epoch [65/100], Loss: 4.501509986223308\n",
      "Epoch [66/100], Loss: 4.503674105594032\n",
      "Epoch [67/100], Loss: 4.4976462552826755\n",
      "Epoch [68/100], Loss: 4.49948364000369\n",
      "Epoch [69/100], Loss: 4.499516184746915\n",
      "Epoch [70/100], Loss: 4.4951747937194355\n",
      "Epoch [71/100], Loss: 4.494334563334648\n",
      "Epoch [72/100], Loss: 4.491519008306169\n",
      "Epoch [73/100], Loss: 4.485998373889761\n",
      "Epoch [74/100], Loss: 4.488804155780423\n",
      "Epoch [75/100], Loss: 4.480868152932522\n",
      "Epoch [76/100], Loss: 4.484060246592264\n",
      "Epoch [77/100], Loss: 4.483499157408502\n",
      "Epoch [78/100], Loss: 4.479648301880712\n",
      "Epoch [79/100], Loss: 4.4744152063424805\n",
      "Epoch [80/100], Loss: 4.473296979489675\n",
      "Epoch [81/100], Loss: 4.472880716032407\n",
      "Epoch [82/100], Loss: 4.471542466476129\n",
      "Epoch [83/100], Loss: 4.469342800069138\n",
      "Epoch [84/100], Loss: 4.465993649688358\n",
      "Epoch [85/100], Loss: 4.466654697784139\n",
      "Epoch [86/100], Loss: 4.465348385388256\n",
      "Epoch [87/100], Loss: 4.470543242877125\n",
      "Epoch [88/100], Loss: 4.459705314733379\n",
      "Epoch [89/100], Loss: 4.459174684433864\n",
      "Epoch [90/100], Loss: 4.458837891677442\n",
      "Epoch [91/100], Loss: 4.451672894440604\n",
      "Epoch [92/100], Loss: 4.455455617305581\n",
      "Epoch [93/100], Loss: 4.4536362609150855\n",
      "Epoch [94/100], Loss: 4.451693144233198\n",
      "Epoch [95/100], Loss: 4.448005504235752\n",
      "Epoch [96/100], Loss: 4.448463028274691\n",
      "Epoch [97/100], Loss: 4.44980027720155\n",
      "Epoch [98/100], Loss: 4.450371039136359\n",
      "Epoch [99/100], Loss: 4.446965030174709\n",
      "Epoch [100/100], Loss: 4.450377182968606\n"
     ]
    }
   ],
   "source": [
    "SimCLR_model = SimCLR(input_dim=train_data.shape[1])\n",
    "print(SimCLR_model)\n",
    "optimizer = optim.Adam(SimCLR_model.parameters(), lr=0.001)\n",
    "\n",
    "# Training loop\n",
    "epochs = 100\n",
    "for epoch in range(epochs):\n",
    "    SimCLR_model.train()\n",
    "    epoch_loss = 0.0\n",
    "\n",
    "    # Loop over batches\n",
    "    for batch_idx, (x_batch, _) in enumerate(train_loader):\n",
    "        x_batch = x_batch.float()  # Convert to float tensors\n",
    "        \n",
    "        # Augment the data (SimCLR-specific augmentation)\n",
    "        x_i = x_batch\n",
    "        x_j = generate_corrupted_view(x_batch)\n",
    "    \n",
    "        # Forward pass through the model\n",
    "        z_i,reconstructed_i = SimCLR_model(x_i)  # Embeddings for the first view\n",
    "        z_j,reconstructed_j = SimCLR_model(x_j)  # Embeddings for the second view\n",
    "        \n",
    "        # Compute contrastive loss\n",
    "        loss = combined_loss(z_i, z_j, reconstructed_i,reconstructed_j,x_batch)\n",
    "\n",
    "        # Backpropagation\n",
    "        optimizer.zero_grad()\n",
    "        loss.backward()\n",
    "        optimizer.step()\n",
    "\n",
    "        epoch_loss += loss.item()\n",
    "\n",
    "    # Average loss for the epoch\n",
    "    avg_epoch_loss = epoch_loss / len(train_loader)\n",
    "    print(f\"Epoch [{epoch+1}/{epochs}], Loss: {avg_epoch_loss}\")"
   ]
  },
  {
   "cell_type": "code",
   "execution_count": 34,
   "metadata": {},
   "outputs": [
    {
     "data": {
      "text/plain": [
       "(9413, 8)"
      ]
     },
     "execution_count": 34,
     "metadata": {},
     "output_type": "execute_result"
    }
   ],
   "source": [
    "test_data.shape"
   ]
  },
  {
   "cell_type": "code",
   "execution_count": null,
   "metadata": {},
   "outputs": [
    {
     "data": {
      "text/plain": [
       "tensor([[-0.3446, -0.3014,  0.3043,  ..., -0.0120,  0.2463, -0.0047],\n",
       "        [ 0.1344,  0.4734,  0.1084,  ..., -0.0774, -0.1334,  0.0584],\n",
       "        [ 0.9413, -0.2797, -1.0311,  ..., -0.1700,  0.9580,  0.0653],\n",
       "        ...,\n",
       "        [-0.0116, -0.4204, -0.0589,  ..., -0.0524,  0.0275,  0.1304],\n",
       "        [-0.1301,  0.3360,  0.0633,  ...,  0.1024, -0.1174, -0.1522],\n",
       "        [ 0.0322,  0.3882, -0.0598,  ...,  0.0037, -0.4154,  0.2683]],\n",
       "       grad_fn=<AddmmBackward0>)"
      ]
     },
     "execution_count": 35,
     "metadata": {},
     "output_type": "execute_result"
    }
   ],
   "source": [
    "# Learned embeddings for train and test data\n",
    "SimCLR_train_embeddings,_ = SimCLR_model(torch.tensor(train_data).float())\n",
    "SimCLR_test_embeddings,_ = SimCLR_model(torch.tensor(test_data).float())\n",
    "SimCLR_test_embeddings"
   ]
  },
  {
   "cell_type": "markdown",
   "metadata": {},
   "source": [
    "## Models on embeddings only"
   ]
  },
  {
   "cell_type": "code",
   "execution_count": null,
   "metadata": {},
   "outputs": [
    {
     "name": "stdout",
     "output_type": "stream",
     "text": [
      "(37648, 64) (37648,)\n",
      "(9413, 64) (9413,)\n",
      "[4 3 1 ... 3 3 3]\n"
     ]
    }
   ],
   "source": [
    "X_train = SimCLR_train_embeddings.detach().numpy()\n",
    "y_train = train_labels\n",
    "X_test = SimCLR_test_embeddings.detach().numpy()\n",
    "y_test = test_labels\n",
    "\n",
    "print(X_train.shape, y_train.shape)\n",
    "print(X_test.shape, y_test.shape)\n",
    "print(y_train)"
   ]
  },
  {
   "cell_type": "code",
   "execution_count": null,
   "metadata": {},
   "outputs": [
    {
     "name": "stdout",
     "output_type": "stream",
     "text": [
      "(99275, 64)\n"
     ]
    }
   ],
   "source": [
    "# Oversampling for logistic regression model\n",
    "smote = SMOTE(random_state=42)\n",
    "X_train_resampled, y_train_resampled = smote.fit_resample(X_train, y_train)\n",
    "print(X_train_resampled.shape)"
   ]
  },
  {
   "cell_type": "code",
   "execution_count": null,
   "metadata": {},
   "outputs": [
    {
     "name": "stdout",
     "output_type": "stream",
     "text": [
      "Evaluation for Logistic Regression:\n",
      "Confusion Matrix:\n",
      "[[ 358   84    0   89   66]\n",
      " [ 632  453    0  442  149]\n",
      " [   0    0   16    0    1]\n",
      " [1192  873    0 2663  236]\n",
      " [  46  175   13  123 1802]]\n",
      "\n",
      "Classification Report:\n",
      "              precision    recall  f1-score   support\n",
      "\n",
      "           0       0.16      0.60      0.25       597\n",
      "           1       0.29      0.27      0.28      1676\n",
      "           2       0.55      0.94      0.70        17\n",
      "           3       0.80      0.54      0.64      4964\n",
      "           4       0.80      0.83      0.82      2159\n",
      "\n",
      "    accuracy                           0.56      9413\n",
      "   macro avg       0.52      0.64      0.54      9413\n",
      "weighted avg       0.67      0.56      0.59      9413\n",
      "\n",
      "Accuracy: 0.5622012110910443\n"
     ]
    }
   ],
   "source": [
    "log_reg = LogisticRegression(max_iter=1000, class_weight='balanced')\n",
    "log_reg.fit(X_train_resampled, y_train_resampled)\n",
    "y_pred = log_reg.predict(X_test)\n",
    "evaluate_model(y_test, y_pred, \"Logistic Regression\")"
   ]
  },
  {
   "cell_type": "code",
   "execution_count": 39,
   "metadata": {},
   "outputs": [
    {
     "name": "stdout",
     "output_type": "stream",
     "text": [
      "Evaluation for Random Forest:\n",
      "Confusion Matrix:\n",
      "[[  76   59    0  391   71]\n",
      " [  38  464    0 1084   90]\n",
      " [   0    0    8    0    9]\n",
      " [  86  315    0 4457  106]\n",
      " [   2   13    0   64 2080]]\n",
      "\n",
      "Classification Report:\n",
      "              precision    recall  f1-score   support\n",
      "\n",
      "           0       0.38      0.13      0.19       597\n",
      "           1       0.55      0.28      0.37      1676\n",
      "           2       1.00      0.47      0.64        17\n",
      "           3       0.74      0.90      0.81      4964\n",
      "           4       0.88      0.96      0.92      2159\n",
      "\n",
      "    accuracy                           0.75      9413\n",
      "   macro avg       0.71      0.55      0.59      9413\n",
      "weighted avg       0.72      0.75      0.72      9413\n",
      "\n",
      "Accuracy: 0.752682460427069\n"
     ]
    }
   ],
   "source": [
    "rf_model = RandomForestClassifier(class_weight='balanced', random_state=42)\n",
    "rf_model.fit(X_train, y_train)\n",
    "y_pred = rf_model.predict(X_test)\n",
    "evaluate_model(y_test, y_pred, \"Random Forest\")"
   ]
  },
  {
   "cell_type": "code",
   "execution_count": null,
   "metadata": {},
   "outputs": [
    {
     "name": "stdout",
     "output_type": "stream",
     "text": [
      "Evaluation for XGBoost:\n",
      "Confusion Matrix:\n",
      "[[  52   47    0  434   64]\n",
      " [  29  350    0 1205   92]\n",
      " [   0    0   10    0    7]\n",
      " [  56  239    0 4542  127]\n",
      " [   3   12    0   48 2096]]\n",
      "\n",
      "Classification Report:\n",
      "              precision    recall  f1-score   support\n",
      "\n",
      "           0       0.37      0.09      0.14       597\n",
      "           1       0.54      0.21      0.30      1676\n",
      "           2       1.00      0.59      0.74        17\n",
      "           3       0.73      0.91      0.81      4964\n",
      "           4       0.88      0.97      0.92      2159\n",
      "\n",
      "    accuracy                           0.75      9413\n",
      "   macro avg       0.70      0.55      0.58      9413\n",
      "weighted avg       0.71      0.75      0.70      9413\n",
      "\n",
      "Accuracy: 0.7489641984489536\n"
     ]
    }
   ],
   "source": [
    "xgb_model = XGBClassifier(eval_metric='mlogloss', enable_categorical=True, random_state=42)  \n",
    "xgb_model.fit(X_train, y_train)\n",
    "y_pred = xgb_model.predict(X_test)\n",
    "evaluate_model(y_test, y_pred, \"XGBoost\")"
   ]
  },
  {
   "cell_type": "markdown",
   "metadata": {},
   "source": [
    "## Models on original features + embeddings"
   ]
  },
  {
   "cell_type": "code",
   "execution_count": 42,
   "metadata": {},
   "outputs": [
    {
     "data": {
      "text/plain": [
       "array([[ 0.45433953,  0.45562025,  0.46878141, ..., -0.01199813,\n",
       "         0.24627104, -0.00472274],\n",
       "       [-0.88862345, -0.8883118 , -0.89114666, ..., -0.07741588,\n",
       "        -0.1334485 ,  0.05840082],\n",
       "       [ 2.16700893,  2.21740329,  2.14811099, ..., -0.16997468,\n",
       "         0.95796561,  0.06533336],\n",
       "       ...,\n",
       "       [ 0.07048663,  0.07538817,  0.08077871, ..., -0.05243269,\n",
       "         0.02745986,  0.13037047],\n",
       "       [-0.65876743, -0.66052988, -0.6576159 , ...,  0.10242908,\n",
       "        -0.11737415, -0.15219696],\n",
       "       [-0.97017914, -0.96834583, -0.9701096 , ...,  0.00371596,\n",
       "        -0.4153598 ,  0.26828128]])"
      ]
     },
     "execution_count": 42,
     "metadata": {},
     "output_type": "execute_result"
    }
   ],
   "source": [
    "combined_train_data = np.hstack((train_data, X_train))\n",
    "combined_test_data = np.hstack((test_data, X_test)) \n",
    "combined_test_data"
   ]
  },
  {
   "cell_type": "code",
   "execution_count": null,
   "metadata": {},
   "outputs": [
    {
     "name": "stdout",
     "output_type": "stream",
     "text": [
      "(99275, 72)\n"
     ]
    }
   ],
   "source": [
    "# Oversampling for log reg\n",
    "smote = SMOTE(random_state=42)\n",
    "X_train_resampled, y_train_resampled = smote.fit_resample(combined_train_data, y_train)\n",
    "print(X_train_resampled.shape)"
   ]
  },
  {
   "cell_type": "code",
   "execution_count": 45,
   "metadata": {},
   "outputs": [
    {
     "name": "stdout",
     "output_type": "stream",
     "text": [
      "Evaluation for Logistic Regression:\n",
      "Confusion Matrix:\n",
      "[[ 409   98    0   87    3]\n",
      " [ 622  620    0  425    9]\n",
      " [   0    0   17    0    0]\n",
      " [1119 1094    0 2739   12]\n",
      " [   9    0    6    0 2144]]\n",
      "\n",
      "Classification Report:\n",
      "              precision    recall  f1-score   support\n",
      "\n",
      "           0       0.19      0.69      0.30       597\n",
      "           1       0.34      0.37      0.36      1676\n",
      "           2       0.74      1.00      0.85        17\n",
      "           3       0.84      0.55      0.67      4964\n",
      "           4       0.99      0.99      0.99      2159\n",
      "\n",
      "    accuracy                           0.63      9413\n",
      "   macro avg       0.62      0.72      0.63      9413\n",
      "weighted avg       0.75      0.63      0.66      9413\n",
      "\n",
      "Accuracy: 0.6298735790927441\n"
     ]
    }
   ],
   "source": [
    "log_reg = LogisticRegression(max_iter=1000, class_weight='balanced')\n",
    "log_reg.fit(X_train_resampled, y_train_resampled)\n",
    "y_pred = log_reg.predict(combined_test_data)\n",
    "evaluate_model(y_test, y_pred, \"Logistic Regression\")"
   ]
  },
  {
   "cell_type": "code",
   "execution_count": 46,
   "metadata": {},
   "outputs": [
    {
     "name": "stdout",
     "output_type": "stream",
     "text": [
      "Evaluation for Random Forest:\n",
      "Confusion Matrix:\n",
      "[[ 102   58    0  437    0]\n",
      " [  42  534    0 1099    1]\n",
      " [   0    0   12    0    5]\n",
      " [  80  289    0 4595    0]\n",
      " [   0    0    0    0 2159]]\n",
      "\n",
      "Classification Report:\n",
      "              precision    recall  f1-score   support\n",
      "\n",
      "           0       0.46      0.17      0.25       597\n",
      "           1       0.61      0.32      0.42      1676\n",
      "           2       1.00      0.71      0.83        17\n",
      "           3       0.75      0.93      0.83      4964\n",
      "           4       1.00      1.00      1.00      2159\n",
      "\n",
      "    accuracy                           0.79      9413\n",
      "   macro avg       0.76      0.62      0.66      9413\n",
      "weighted avg       0.76      0.79      0.76      9413\n",
      "\n",
      "Accuracy: 0.7863592903431424\n"
     ]
    }
   ],
   "source": [
    "rf_model = RandomForestClassifier(class_weight='balanced', random_state=42)\n",
    "rf_model.fit(combined_train_data, y_train)\n",
    "y_pred = rf_model.predict(combined_test_data)\n",
    "evaluate_model(y_test, y_pred, \"Random Forest\")"
   ]
  },
  {
   "cell_type": "code",
   "execution_count": 47,
   "metadata": {},
   "outputs": [
    {
     "name": "stdout",
     "output_type": "stream",
     "text": [
      "Evaluation for XGBoost:\n",
      "Confusion Matrix:\n",
      "[[  95   50    0  451    1]\n",
      " [  40  470    0 1164    2]\n",
      " [   0    0   12    0    5]\n",
      " [  74  253    0 4635    2]\n",
      " [   1    4    0    0 2154]]\n",
      "\n",
      "Classification Report:\n",
      "              precision    recall  f1-score   support\n",
      "\n",
      "           0       0.45      0.16      0.24       597\n",
      "           1       0.60      0.28      0.38      1676\n",
      "           2       1.00      0.71      0.83        17\n",
      "           3       0.74      0.93      0.83      4964\n",
      "           4       1.00      1.00      1.00      2159\n",
      "\n",
      "    accuracy                           0.78      9413\n",
      "   macro avg       0.76      0.62      0.65      9413\n",
      "weighted avg       0.76      0.78      0.75      9413\n",
      "\n",
      "Accuracy: 0.7825347923085095\n"
     ]
    }
   ],
   "source": [
    "xgb_model = XGBClassifier(eval_metric='mlogloss', enable_categorical=True, random_state=42)  # Adjust scale_pos_weight as needed\n",
    "xgb_model.fit(combined_train_data, y_train)\n",
    "y_pred = xgb_model.predict(combined_test_data)\n",
    "evaluate_model(y_test, y_pred, \"XGBoost\")"
   ]
  },
  {
   "cell_type": "markdown",
   "metadata": {},
   "source": [
    "# Transformer"
   ]
  },
  {
   "cell_type": "code",
   "execution_count": null,
   "metadata": {},
   "outputs": [],
   "source": [
    "class TabularDataset(Dataset):\n",
    "    def __init__(self, data, labels=None):\n",
    "        self.data = torch.Tensor(data)  # Convert the data to tensors\n",
    "        self.labels = torch.Tensor(labels).long() if labels is not None else None\n",
    "        self.length = len(data)\n",
    "\n",
    "    def __len__(self):\n",
    "        return self.length\n",
    "\n",
    "    def __getitem__(self, idx):\n",
    "        x = self.data[idx]\n",
    "        if self.labels is not None:\n",
    "            y = self.labels[idx]\n",
    "            return x, y\n",
    "        return x"
   ]
  },
  {
   "cell_type": "code",
   "execution_count": null,
   "metadata": {},
   "outputs": [],
   "source": [
    "class Transformer(nn.Module):\n",
    "    def __init__(self, input_dim, num_heads=2, num_layers=2, hidden_dim=128, projection_dim=64):\n",
    "        \"\"\"\n",
    "        Transformer model with an encoder, projection head, and decoder for reconstruction.\n",
    "\n",
    "        Args:\n",
    "            input_dim (int): Dimensionality of the input features.\n",
    "            num_heads(int): Number of attention heads\n",
    "            hidden_dim (int): Dimensionality of the hidden layer in the encoder.\n",
    "            projection_dim (int): Dimensionality of the output embeddings from the projection head.\n",
    "        \"\"\"\n",
    "        super(Transformer, self).__init__()\n",
    "\n",
    "        # Transformer Encoder Layer\n",
    "        self.encoder = nn.TransformerEncoderLayer(\n",
    "            d_model=input_dim,  # Input dimensionality\n",
    "            nhead=num_heads,    # Number of attention heads\n",
    "            dim_feedforward=hidden_dim  # Hidden layer size in feedforward network\n",
    "        )\n",
    "\n",
    "        # Transformer Encoder\n",
    "        self.transformer_encoder = nn.TransformerEncoder(\n",
    "            self.encoder, num_layers=num_layers\n",
    "        )\n",
    "\n",
    "        # Projection Head: Maps Transformer encoder output to the embedding space\n",
    "        self.projection_head = nn.Sequential(\n",
    "            nn.Linear(input_dim, projection_dim),\n",
    "            nn.ReLU(),\n",
    "            nn.Linear(projection_dim, projection_dim)\n",
    "        )\n",
    "\n",
    "        # Decoder: Reconstructs input from the contextualized features\n",
    "        self.decoder = nn.Sequential(\n",
    "            nn.Linear(input_dim, hidden_dim),\n",
    "            nn.ReLU(),\n",
    "            nn.Linear(hidden_dim, input_dim),\n",
    "            nn.Sigmoid()  # Use Sigmoid if input data is normalized between 0 and 1\n",
    "        )\n",
    "\n",
    "    def forward(self, x):\n",
    "        \"\"\"\n",
    "        Forward pass of the Transformer model.\n",
    "\n",
    "        Args:\n",
    "            x (torch.Tensor): Input tensor of shape (batch_size, input_dim).\n",
    "\n",
    "        Returns:\n",
    "            torch.Tensor: Embeddings from the projection head of shape (batch_size, projection_dim).\n",
    "            torch.Tensor: Reconstructed input of shape (batch_size, input_dim).\n",
    "        \"\"\"\n",
    "        # Extract features using the encoder\n",
    "        features = self.encoder(x)\n",
    "\n",
    "        # Generate embeddings using the projection head\n",
    "        embeddings = self.projection_head(features)\n",
    "\n",
    "        # Reconstruct the input using the decoder\n",
    "        reconstructed = self.decoder(features)\n",
    "\n",
    "        return embeddings, reconstructed\n"
   ]
  },
  {
   "cell_type": "code",
   "execution_count": null,
   "metadata": {},
   "outputs": [],
   "source": [
    "#Contrastive Loss Function (NT-Xent Loss)\n",
    "def nt_xent_loss(x_i, x_j, temperature=0.5):\n",
    "    # Normalize the embeddings\n",
    "    x_i = F.normalize(x_i, p=2, dim=-1)\n",
    "    x_j = F.normalize(x_j, p=2, dim=-1)\n",
    "\n",
    "    # Compute similarity scores (cosine similarity)\n",
    "    sim_ij = torch.matmul(x_i, x_j.T)\n",
    "    sim_ji = torch.matmul(x_j, x_i.T)\n",
    "\n",
    "    # Compute contrastive loss\n",
    "    labels = torch.arange(x_i.size(0)).long().to(x_i.device)\n",
    "    loss_i = F.cross_entropy(sim_ij / temperature, labels)\n",
    "    loss_j = F.cross_entropy(sim_ji / temperature, labels)\n",
    "\n",
    "    loss = (loss_i + loss_j) / 2\n",
    "    return loss"
   ]
  },
  {
   "cell_type": "code",
   "execution_count": null,
   "metadata": {},
   "outputs": [],
   "source": [
    "def combined_loss(z_i, z_j, reconstructed_i, reconstructed_j, original, temperature=0.5, lambda_reconstruction=1.0):\n",
    "    \"\"\"\n",
    "    Combined loss function for Transformer, which includes both contrastive loss (NT-Xent) and reconstruction loss.\n",
    "\n",
    "    Args:\n",
    "        z_i (torch.Tensor): Embeddings from the first view (n_samples, projection_dim).\n",
    "        z_j (torch.Tensor): Embeddings from the second view (n_samples, projection_dim).\n",
    "        reconstructed_i (torch.Tensor): Reconstructed input from the first view (n_samples, n_features).\n",
    "        reconstructed_j (torch.Tensor): Reconstructed input from the second view (n_samples, n_features).\n",
    "        original (torch.Tensor): The original data (n_samples, n_features), used for reconstruction loss.\n",
    "        temperature (float): Temperature parameter for NT-Xent loss.\n",
    "        lambda_reconstruction (float): Weighting factor for reconstruction loss.\n",
    "\n",
    "    Returns:\n",
    "        torch.Tensor: Total loss (contrastive loss + reconstruction loss for both views).\n",
    "    \"\"\"\n",
    "    # Contrastive loss (NT-Xent) for the two views\n",
    "    contrastive_loss = nt_xent_loss(z_i, z_j, temperature)\n",
    "\n",
    "    # Reconstruction loss for the first view\n",
    "    reconstruction_loss_i = F.mse_loss(reconstructed_i, original)\n",
    "\n",
    "    # Reconstruction loss for the second view\n",
    "    reconstruction_loss_j = F.mse_loss(reconstructed_j, original)\n",
    "\n",
    "    # Total loss: Combine contrastive loss and reconstruction losses for both views\n",
    "    total_loss = contrastive_loss + lambda_reconstruction * (reconstruction_loss_i + reconstruction_loss_j)\n",
    "\n",
    "    return total_loss\n"
   ]
  },
  {
   "cell_type": "code",
   "execution_count": null,
   "metadata": {},
   "outputs": [],
   "source": [
    "import torch\n",
    "\n",
    "CORRUPTION_RATE = 0.6  # Example corruption rate\n",
    "\n",
    "def generate_corrupted_view(x_batch):\n",
    "    \"\"\"\n",
    "    Generate a corrupted view of the input tensor x_batch using random masks.\n",
    "\n",
    "    Args:\n",
    "        x_batch (torch.Tensor): Original data, shape (n_samples, n_features)\n",
    "\n",
    "    Returns:\n",
    "        torch.Tensor: Corrupted data, same shape as x_batch\n",
    "    \"\"\"\n",
    "    n_samples, n_features = x_batch.shape\n",
    "    corruption_len = int(np.ceil(CORRUPTION_RATE * n_features))\n",
    "\n",
    "    # Generate the corruption masks\n",
    "    corruption_masks = torch.zeros((n_samples, n_features), dtype=torch.bool, device=x_batch.device)\n",
    "\n",
    "    # Generate random corruption masks\n",
    "    for i in range(n_samples):\n",
    "        corruption_idxes = torch.randperm(n_features, device=x_batch.device)[:corruption_len]\n",
    "        corruption_masks[i, corruption_idxes] = True\n",
    "\n",
    "    # Apply the corruption masks to generate the corrupted view\n",
    "    X_corrupted = x_batch.clone()  # Create a copy of the original tensor\n",
    "    random_noise = torch.randn_like(x_batch)  # Generate random noise with the same shape as x_batch\n",
    "    X_corrupted[corruption_masks] = random_noise[corruption_masks]  # Add random noise to the corrupted features\n",
    "\n",
    "    return X_corrupted"
   ]
  },
  {
   "cell_type": "code",
   "execution_count": null,
   "metadata": {},
   "outputs": [],
   "source": [
    "data = combined_df.drop(columns=['Regime']).values  # Features (without the 'Regime' column)\n",
    "labels = combined_df['Regime'].values  # Labels (encoded Regime)"
   ]
  },
  {
   "cell_type": "code",
   "execution_count": null,
   "metadata": {},
   "outputs": [],
   "source": [
    "train_data, test_data, train_labels, test_labels = train_test_split(\n",
    "    data, labels, test_size=0.2, stratify=labels, random_state=42\n",
    ")"
   ]
  },
  {
   "cell_type": "code",
   "execution_count": null,
   "metadata": {},
   "outputs": [],
   "source": [
    "train_dataset = TabularDataset(train_data, train_labels)\n",
    "train_loader = DataLoader(train_dataset, batch_size=64, shuffle=True)\n",
    "\n",
    "test_dataset = TabularDataset(test_data, test_labels)\n",
    "test_loader = DataLoader(test_dataset, batch_size=64, shuffle=True)"
   ]
  },
  {
   "cell_type": "code",
   "execution_count": null,
   "metadata": {},
   "outputs": [
    {
     "data": {
      "text/plain": [
       "8"
      ]
     },
     "metadata": {},
     "output_type": "display_data"
    }
   ],
   "source": [
    "train_data.shape[1]"
   ]
  },
  {
   "cell_type": "code",
   "execution_count": null,
   "metadata": {},
   "outputs": [
    {
     "name": "stdout",
     "output_type": "stream",
     "text": [
      "Drive already mounted at /content/drive; to attempt to forcibly remount, call drive.mount(\"/content/drive\", force_remount=True).\n",
      "Loading model from /content/drive/My Drive/Colab Notebooks/Transformer/SimCLR_model.pt\n",
      "Epoch [49/500], Avg Loss: 4.9450\n",
      "Epoch [50/500], Avg Loss: 4.9298\n",
      "Model saved with loss 4.9298\n",
      "Epoch [51/500], Avg Loss: 4.9409\n",
      "Epoch [52/500], Avg Loss: 4.9346\n",
      "Epoch [53/500], Avg Loss: 4.9313\n",
      "Epoch [54/500], Avg Loss: 4.9327\n",
      "Epoch [55/500], Avg Loss: 4.9356\n",
      "Epoch [56/500], Avg Loss: 4.9302\n",
      "Epoch [57/500], Avg Loss: 4.9323\n",
      "Epoch [58/500], Avg Loss: 4.9283\n",
      "Model saved with loss 4.9283\n",
      "Epoch [59/500], Avg Loss: 4.9303\n",
      "Epoch [60/500], Avg Loss: 4.9290\n",
      "Epoch [61/500], Avg Loss: 4.9248\n",
      "Model saved with loss 4.9248\n",
      "Epoch [62/500], Avg Loss: 4.9189\n",
      "Model saved with loss 4.9189\n",
      "Epoch [63/500], Avg Loss: 4.9263\n",
      "Epoch [64/500], Avg Loss: 4.9256\n",
      "Epoch [65/500], Avg Loss: 4.9255\n",
      "Epoch [66/500], Avg Loss: 4.9259\n",
      "Epoch [67/500], Avg Loss: 4.9133\n",
      "Model saved with loss 4.9133\n",
      "Epoch [68/500], Avg Loss: 4.9192\n",
      "Epoch [69/500], Avg Loss: 4.9186\n",
      "Epoch [70/500], Avg Loss: 4.9180\n",
      "Epoch [71/500], Avg Loss: 4.9208\n",
      "Epoch [72/500], Avg Loss: 4.9076\n",
      "Model saved with loss 4.9076\n",
      "Epoch [73/500], Avg Loss: 4.9111\n",
      "Epoch [74/500], Avg Loss: 4.9207\n",
      "Epoch [75/500], Avg Loss: 4.9159\n",
      "Epoch [76/500], Avg Loss: 4.9130\n",
      "Epoch [77/500], Avg Loss: 4.9040\n",
      "Model saved with loss 4.9040\n",
      "Epoch [78/500], Avg Loss: 4.9050\n",
      "Epoch [79/500], Avg Loss: 4.9019\n",
      "Model saved with loss 4.9019\n",
      "Epoch [80/500], Avg Loss: 4.9211\n",
      "Epoch [81/500], Avg Loss: 4.9123\n",
      "Epoch [82/500], Avg Loss: 4.9103\n",
      "Epoch [83/500], Avg Loss: 4.9085\n",
      "Epoch [84/500], Avg Loss: 4.8998\n",
      "Model saved with loss 4.8998\n",
      "Epoch [85/500], Avg Loss: 4.9108\n",
      "Epoch [86/500], Avg Loss: 4.9102\n",
      "Epoch [87/500], Avg Loss: 4.9028\n",
      "Epoch [88/500], Avg Loss: 4.9006\n",
      "Epoch [89/500], Avg Loss: 4.9040\n",
      "Epoch [90/500], Avg Loss: 4.9070\n",
      "Epoch [91/500], Avg Loss: 4.9057\n",
      "Epoch [92/500], Avg Loss: 4.9060\n",
      "Epoch [93/500], Avg Loss: 4.9009\n",
      "Epoch [94/500], Avg Loss: 4.9102\n",
      "Epoch [95/500], Avg Loss: 4.8943\n",
      "Model saved with loss 4.8943\n",
      "Epoch [96/500], Avg Loss: 4.9020\n",
      "Epoch [97/500], Avg Loss: 4.9043\n",
      "Epoch [98/500], Avg Loss: 4.8940\n",
      "Model saved with loss 4.8940\n",
      "Epoch [99/500], Avg Loss: 4.9042\n",
      "Epoch [100/500], Avg Loss: 4.8982\n",
      "Epoch [101/500], Avg Loss: 4.9011\n",
      "Epoch [102/500], Avg Loss: 4.8987\n",
      "Epoch [103/500], Avg Loss: 4.8950\n",
      "Epoch [104/500], Avg Loss: 4.8982\n",
      "Epoch [105/500], Avg Loss: 4.8958\n",
      "Epoch [106/500], Avg Loss: 4.9066\n",
      "Epoch [107/500], Avg Loss: 4.8924\n",
      "Model saved with loss 4.8924\n",
      "Epoch [108/500], Avg Loss: 4.8930\n",
      "Epoch [109/500], Avg Loss: 4.8988\n",
      "Epoch [110/500], Avg Loss: 4.9092\n",
      "Epoch [111/500], Avg Loss: 4.8971\n",
      "Epoch [112/500], Avg Loss: 4.8955\n",
      "Epoch [113/500], Avg Loss: 4.8917\n",
      "Model saved with loss 4.8917\n",
      "Epoch [114/500], Avg Loss: 4.8982\n",
      "Epoch [115/500], Avg Loss: 4.8966\n",
      "Epoch [116/500], Avg Loss: 4.8912\n",
      "Model saved with loss 4.8912\n",
      "Epoch [117/500], Avg Loss: 4.8849\n",
      "Model saved with loss 4.8849\n",
      "Epoch [118/500], Avg Loss: 4.8870\n",
      "Epoch [119/500], Avg Loss: 4.8957\n",
      "Epoch [120/500], Avg Loss: 4.8933\n",
      "Epoch [121/500], Avg Loss: 4.8836\n",
      "Model saved with loss 4.8836\n",
      "Epoch [122/500], Avg Loss: 4.8871\n",
      "Epoch [123/500], Avg Loss: 4.8884\n",
      "Epoch [124/500], Avg Loss: 4.8953\n",
      "Epoch [125/500], Avg Loss: 4.8848\n",
      "Epoch [126/500], Avg Loss: 4.8922\n",
      "Epoch [127/500], Avg Loss: 4.8791\n",
      "Model saved with loss 4.8791\n",
      "Epoch [128/500], Avg Loss: 4.8847\n",
      "Epoch [129/500], Avg Loss: 4.8862\n",
      "Epoch [130/500], Avg Loss: 4.8865\n",
      "Epoch [131/500], Avg Loss: 4.8976\n",
      "Epoch [132/500], Avg Loss: 4.8894\n",
      "Epoch [133/500], Avg Loss: 4.8798\n",
      "Epoch [134/500], Avg Loss: 4.8892\n",
      "Epoch [135/500], Avg Loss: 4.8909\n",
      "Epoch [136/500], Avg Loss: 4.8814\n",
      "Epoch [137/500], Avg Loss: 4.8862\n",
      "Epoch [138/500], Avg Loss: 4.8789\n",
      "Model saved with loss 4.8789\n",
      "Epoch [139/500], Avg Loss: 4.8798\n",
      "Epoch [140/500], Avg Loss: 4.8911\n",
      "Epoch [141/500], Avg Loss: 4.8854\n",
      "Epoch [142/500], Avg Loss: 4.8907\n",
      "Epoch [143/500], Avg Loss: 4.8867\n",
      "Epoch [144/500], Avg Loss: 4.8853\n",
      "Epoch [145/500], Avg Loss: 4.8810\n",
      "Epoch [146/500], Avg Loss: 4.8785\n",
      "Model saved with loss 4.8785\n",
      "Epoch [147/500], Avg Loss: 4.8808\n",
      "Epoch [148/500], Avg Loss: 4.8837\n",
      "Epoch [149/500], Avg Loss: 4.8692\n",
      "Model saved with loss 4.8692\n",
      "Epoch [150/500], Avg Loss: 4.8778\n",
      "Epoch [151/500], Avg Loss: 4.8870\n",
      "Epoch [152/500], Avg Loss: 4.8797\n",
      "Epoch [153/500], Avg Loss: 4.8768\n",
      "Epoch [154/500], Avg Loss: 4.8798\n",
      "Epoch [155/500], Avg Loss: 4.8769\n",
      "Epoch [156/500], Avg Loss: 4.8803\n",
      "Epoch [157/500], Avg Loss: 4.8790\n",
      "Epoch [158/500], Avg Loss: 4.8865\n",
      "Epoch [159/500], Avg Loss: 4.8774\n",
      "Epoch [160/500], Avg Loss: 4.8755\n",
      "Epoch [161/500], Avg Loss: 4.8844\n",
      "Epoch [162/500], Avg Loss: 4.8841\n",
      "Epoch [163/500], Avg Loss: 4.8717\n",
      "Epoch [164/500], Avg Loss: 4.8856\n",
      "Epoch [165/500], Avg Loss: 4.8773\n",
      "Epoch [166/500], Avg Loss: 4.8768\n",
      "Epoch [167/500], Avg Loss: 4.8790\n",
      "Epoch [168/500], Avg Loss: 4.8713\n",
      "Epoch [169/500], Avg Loss: 4.8806\n",
      "Epoch [170/500], Avg Loss: 4.8766\n",
      "Epoch [171/500], Avg Loss: 4.8703\n",
      "Epoch [172/500], Avg Loss: 4.8752\n",
      "Epoch [173/500], Avg Loss: 4.8756\n",
      "Epoch [174/500], Avg Loss: 4.8750\n",
      "Epoch [175/500], Avg Loss: 4.8832\n",
      "Epoch [176/500], Avg Loss: 4.8647\n",
      "Model saved with loss 4.8647\n",
      "Epoch [177/500], Avg Loss: 4.8725\n",
      "Epoch [178/500], Avg Loss: 4.8724\n",
      "Epoch [179/500], Avg Loss: 4.8771\n",
      "Epoch [180/500], Avg Loss: 4.8707\n",
      "Epoch [181/500], Avg Loss: 4.8701\n",
      "Epoch [182/500], Avg Loss: 4.8691\n",
      "Epoch [183/500], Avg Loss: 4.8709\n",
      "Epoch [184/500], Avg Loss: 4.8718\n",
      "Epoch [185/500], Avg Loss: 4.8793\n",
      "Epoch [186/500], Avg Loss: 4.8703\n",
      "Epoch [187/500], Avg Loss: 4.8739\n",
      "Epoch [188/500], Avg Loss: 4.8708\n",
      "Epoch [189/500], Avg Loss: 4.8775\n",
      "Epoch [190/500], Avg Loss: 4.8686\n",
      "Epoch [191/500], Avg Loss: 4.8675\n",
      "Epoch [192/500], Avg Loss: 4.8704\n",
      "Epoch [193/500], Avg Loss: 4.8664\n",
      "Epoch [194/500], Avg Loss: 4.8740\n",
      "Epoch [195/500], Avg Loss: 4.8771\n",
      "Epoch [196/500], Avg Loss: 4.8675\n",
      "Epoch [197/500], Avg Loss: 4.8753\n",
      "Epoch [198/500], Avg Loss: 4.8685\n",
      "Epoch [199/500], Avg Loss: 4.8722\n",
      "Epoch [200/500], Avg Loss: 4.8639\n",
      "Model saved with loss 4.8639\n",
      "Epoch [201/500], Avg Loss: 4.8629\n",
      "Model saved with loss 4.8629\n",
      "Epoch [202/500], Avg Loss: 4.8692\n",
      "Epoch [203/500], Avg Loss: 4.8583\n",
      "Model saved with loss 4.8583\n",
      "Epoch [204/500], Avg Loss: 4.8648\n",
      "Epoch [205/500], Avg Loss: 4.8688\n",
      "Epoch [206/500], Avg Loss: 4.8739\n",
      "Epoch [207/500], Avg Loss: 4.8650\n",
      "Epoch [208/500], Avg Loss: 4.8654\n",
      "Epoch [209/500], Avg Loss: 4.8683\n",
      "Epoch [210/500], Avg Loss: 4.8696\n",
      "Epoch [211/500], Avg Loss: 4.8587\n",
      "Epoch [212/500], Avg Loss: 4.8612\n",
      "Epoch [213/500], Avg Loss: 4.8585\n",
      "Epoch [214/500], Avg Loss: 4.8694\n",
      "Epoch [215/500], Avg Loss: 4.8593\n",
      "Epoch [216/500], Avg Loss: 4.8656\n",
      "Epoch [217/500], Avg Loss: 4.8568\n",
      "Model saved with loss 4.8568\n",
      "Epoch [218/500], Avg Loss: 4.8620\n",
      "Epoch [219/500], Avg Loss: 4.8642\n",
      "Epoch [220/500], Avg Loss: 4.8697\n",
      "Epoch [221/500], Avg Loss: 4.8677\n",
      "Epoch [222/500], Avg Loss: 4.8576\n",
      "Epoch [223/500], Avg Loss: 4.8620\n",
      "Epoch [224/500], Avg Loss: 4.8689\n",
      "Epoch [225/500], Avg Loss: 4.8607\n",
      "Epoch [226/500], Avg Loss: 4.8681\n",
      "Epoch [227/500], Avg Loss: 4.8646\n",
      "Epoch [228/500], Avg Loss: 4.8644\n",
      "Epoch [229/500], Avg Loss: 4.8623\n",
      "Epoch [230/500], Avg Loss: 4.8633\n",
      "Epoch [231/500], Avg Loss: 4.8547\n",
      "Model saved with loss 4.8547\n",
      "Epoch [232/500], Avg Loss: 4.8508\n",
      "Model saved with loss 4.8508\n",
      "Epoch [233/500], Avg Loss: 4.8586\n",
      "Epoch [234/500], Avg Loss: 4.8620\n",
      "Epoch [235/500], Avg Loss: 4.8600\n",
      "Epoch [236/500], Avg Loss: 4.8586\n",
      "Epoch [237/500], Avg Loss: 4.8663\n",
      "Epoch [238/500], Avg Loss: 4.8514\n",
      "Epoch [239/500], Avg Loss: 4.8661\n",
      "Epoch [240/500], Avg Loss: 4.8646\n",
      "Epoch [241/500], Avg Loss: 4.8615\n",
      "Epoch [242/500], Avg Loss: 4.8555\n",
      "Epoch [243/500], Avg Loss: 4.8513\n",
      "Epoch [244/500], Avg Loss: 4.8531\n",
      "Epoch [245/500], Avg Loss: 4.8681\n",
      "Epoch [246/500], Avg Loss: 4.8600\n",
      "Epoch [247/500], Avg Loss: 4.8587\n",
      "Epoch [248/500], Avg Loss: 4.8541\n",
      "Epoch [249/500], Avg Loss: 4.8576\n",
      "Epoch [250/500], Avg Loss: 4.8629\n",
      "Epoch [251/500], Avg Loss: 4.8583\n",
      "Epoch [252/500], Avg Loss: 4.8507\n",
      "Model saved with loss 4.8507\n",
      "Epoch [253/500], Avg Loss: 4.8565\n",
      "Epoch [254/500], Avg Loss: 4.8593\n",
      "Epoch [255/500], Avg Loss: 4.8558\n",
      "Epoch [256/500], Avg Loss: 4.8539\n",
      "Epoch [257/500], Avg Loss: 4.8677\n",
      "Epoch [258/500], Avg Loss: 4.8590\n",
      "Epoch [259/500], Avg Loss: 4.8664\n",
      "Epoch [260/500], Avg Loss: 4.8526\n",
      "Epoch [261/500], Avg Loss: 4.8599\n",
      "Epoch [262/500], Avg Loss: 4.8558\n",
      "Epoch [263/500], Avg Loss: 4.8543\n",
      "Epoch [265/500], Avg Loss: 4.8566\n",
      "Epoch [266/500], Avg Loss: 4.8554\n",
      "Epoch [267/500], Avg Loss: 4.8568\n",
      "Epoch [268/500], Avg Loss: 4.8560\n",
      "Epoch [269/500], Avg Loss: 4.8627\n",
      "Epoch [270/500], Avg Loss: 4.8571\n",
      "Epoch [271/500], Avg Loss: 4.8597\n",
      "Epoch [272/500], Avg Loss: 4.8477\n",
      "Model saved with loss 4.8477\n",
      "Epoch [273/500], Avg Loss: 4.8573\n",
      "Epoch [274/500], Avg Loss: 4.8586\n",
      "Epoch [275/500], Avg Loss: 4.8525\n",
      "Epoch [276/500], Avg Loss: 4.8580\n",
      "Epoch [277/500], Avg Loss: 4.8558\n",
      "Epoch [278/500], Avg Loss: 4.8539\n",
      "Epoch [279/500], Avg Loss: 4.8584\n",
      "Epoch [280/500], Avg Loss: 4.8530\n",
      "Epoch [281/500], Avg Loss: 4.8556\n",
      "Epoch [282/500], Avg Loss: 4.8598\n",
      "Epoch [283/500], Avg Loss: 4.8477\n",
      "Model saved with loss 4.8477\n",
      "Epoch [284/500], Avg Loss: 4.8556\n",
      "Epoch [285/500], Avg Loss: 4.8596\n",
      "Epoch [286/500], Avg Loss: 4.8517\n",
      "Epoch [287/500], Avg Loss: 4.8574\n",
      "Epoch [288/500], Avg Loss: 4.8555\n",
      "Epoch [289/500], Avg Loss: 4.8590\n",
      "Epoch [290/500], Avg Loss: 4.8502\n",
      "Epoch [291/500], Avg Loss: 4.8579\n",
      "Epoch [292/500], Avg Loss: 4.8569\n",
      "Epoch [293/500], Avg Loss: 4.8555\n",
      "Epoch [294/500], Avg Loss: 4.8491\n",
      "Epoch [295/500], Avg Loss: 4.8456\n",
      "Model saved with loss 4.8456\n",
      "Epoch [296/500], Avg Loss: 4.8515\n",
      "Epoch [297/500], Avg Loss: 4.8536\n",
      "Epoch [298/500], Avg Loss: 4.8603\n",
      "Epoch [299/500], Avg Loss: 4.8531\n",
      "Epoch [300/500], Avg Loss: 4.8528\n",
      "Epoch [301/500], Avg Loss: 4.8541\n",
      "Epoch [302/500], Avg Loss: 4.8569\n",
      "Epoch [303/500], Avg Loss: 4.8598\n",
      "Epoch [304/500], Avg Loss: 4.8494\n",
      "Epoch [305/500], Avg Loss: 4.8523\n",
      "Epoch [306/500], Avg Loss: 4.8497\n",
      "Epoch [307/500], Avg Loss: 4.8520\n",
      "Epoch [308/500], Avg Loss: 4.8481\n",
      "Epoch [309/500], Avg Loss: 4.8502\n",
      "Epoch [310/500], Avg Loss: 4.8542\n",
      "Epoch [311/500], Avg Loss: 4.8561\n",
      "Epoch [312/500], Avg Loss: 4.8597\n",
      "Epoch [313/500], Avg Loss: 4.8454\n",
      "Model saved with loss 4.8454\n",
      "Epoch [314/500], Avg Loss: 4.8446\n",
      "Model saved with loss 4.8446\n",
      "Epoch [315/500], Avg Loss: 4.8564\n",
      "Epoch [316/500], Avg Loss: 4.8537\n",
      "Epoch [317/500], Avg Loss: 4.8532\n",
      "Epoch [318/500], Avg Loss: 4.8512\n",
      "Epoch [319/500], Avg Loss: 4.8510\n",
      "Epoch [320/500], Avg Loss: 4.8470\n",
      "Epoch [321/500], Avg Loss: 4.8523\n",
      "Epoch [322/500], Avg Loss: 4.8530\n",
      "Epoch [323/500], Avg Loss: 4.8512\n",
      "Epoch [324/500], Avg Loss: 4.8482\n",
      "Epoch [325/500], Avg Loss: 4.8515\n",
      "Epoch [326/500], Avg Loss: 4.8438\n",
      "Model saved with loss 4.8438\n",
      "Epoch [327/500], Avg Loss: 4.8500\n",
      "Epoch [328/500], Avg Loss: 4.8524\n",
      "Epoch [329/500], Avg Loss: 4.8455\n",
      "Epoch [330/500], Avg Loss: 4.8528\n",
      "Epoch [331/500], Avg Loss: 4.8518\n",
      "Epoch [332/500], Avg Loss: 4.8535\n",
      "Epoch [333/500], Avg Loss: 4.8426\n",
      "Model saved with loss 4.8426\n",
      "Epoch [334/500], Avg Loss: 4.8513\n",
      "Epoch [335/500], Avg Loss: 4.8565\n",
      "Epoch [336/500], Avg Loss: 4.8541\n",
      "Epoch [337/500], Avg Loss: 4.8529\n",
      "Epoch [338/500], Avg Loss: 4.8585\n",
      "Epoch [339/500], Avg Loss: 4.8466\n",
      "Epoch [340/500], Avg Loss: 4.8515\n",
      "Epoch [341/500], Avg Loss: 4.8401\n",
      "Model saved with loss 4.8401\n",
      "Epoch [342/500], Avg Loss: 4.8540\n",
      "Epoch [343/500], Avg Loss: 4.8428\n",
      "Epoch [344/500], Avg Loss: 4.8454\n",
      "Epoch [345/500], Avg Loss: 4.8517\n",
      "Epoch [346/500], Avg Loss: 4.8488\n",
      "Epoch [347/500], Avg Loss: 4.8508\n",
      "Epoch [348/500], Avg Loss: 4.8444\n",
      "Epoch [349/500], Avg Loss: 4.8552\n",
      "Epoch [350/500], Avg Loss: 4.8429\n",
      "Epoch [351/500], Avg Loss: 4.8399\n",
      "Model saved with loss 4.8399\n",
      "Epoch [352/500], Avg Loss: 4.8513\n",
      "Epoch [353/500], Avg Loss: 4.8517\n",
      "Epoch [354/500], Avg Loss: 4.8569\n",
      "Epoch [355/500], Avg Loss: 4.8510\n",
      "Epoch [356/500], Avg Loss: 4.8441\n",
      "Epoch [357/500], Avg Loss: 4.8540\n",
      "Epoch [358/500], Avg Loss: 4.8494\n",
      "Epoch [359/500], Avg Loss: 4.8441\n",
      "Epoch [360/500], Avg Loss: 4.8533\n",
      "Epoch [361/500], Avg Loss: 4.8525\n",
      "Epoch [362/500], Avg Loss: 4.8495\n",
      "Epoch [363/500], Avg Loss: 4.8454\n",
      "Epoch [364/500], Avg Loss: 4.8436\n",
      "Epoch [365/500], Avg Loss: 4.8479\n",
      "Epoch [366/500], Avg Loss: 4.8434\n",
      "Epoch [367/500], Avg Loss: 4.8472\n",
      "Epoch [368/500], Avg Loss: 4.8415\n",
      "Epoch [369/500], Avg Loss: 4.8427\n",
      "Epoch [370/500], Avg Loss: 4.8465\n",
      "Epoch [371/500], Avg Loss: 4.8477\n",
      "Epoch [372/500], Avg Loss: 4.8419\n",
      "Epoch [373/500], Avg Loss: 4.8429\n",
      "Epoch [374/500], Avg Loss: 4.8473\n",
      "Epoch [375/500], Avg Loss: 4.8499\n",
      "Epoch [376/500], Avg Loss: 4.8487\n",
      "Epoch [377/500], Avg Loss: 4.8428\n",
      "Epoch [378/500], Avg Loss: 4.8498\n",
      "Epoch [379/500], Avg Loss: 4.8453\n",
      "Epoch [380/500], Avg Loss: 4.8464\n",
      "Epoch [381/500], Avg Loss: 4.8450\n",
      "Epoch [382/500], Avg Loss: 4.8409\n",
      "Epoch [383/500], Avg Loss: 4.8465\n",
      "Epoch [384/500], Avg Loss: 4.8487\n",
      "Epoch [385/500], Avg Loss: 4.8432\n",
      "Epoch [386/500], Avg Loss: 4.8513\n",
      "Epoch [387/500], Avg Loss: 4.8509\n",
      "Epoch [388/500], Avg Loss: 4.8390\n",
      "Model saved with loss 4.8390\n",
      "Epoch [389/500], Avg Loss: 4.8424\n",
      "Epoch [390/500], Avg Loss: 4.8483\n",
      "Epoch [391/500], Avg Loss: 4.8409\n",
      "Epoch [392/500], Avg Loss: 4.8419\n",
      "Epoch [393/500], Avg Loss: 4.8445\n",
      "Epoch [394/500], Avg Loss: 4.8445\n",
      "Epoch [395/500], Avg Loss: 4.8424\n",
      "Epoch [396/500], Avg Loss: 4.8430\n",
      "Epoch [397/500], Avg Loss: 4.8447\n",
      "Epoch [398/500], Avg Loss: 4.8424\n",
      "Epoch [399/500], Avg Loss: 4.8499\n",
      "Epoch [400/500], Avg Loss: 4.8427\n",
      "Epoch [401/500], Avg Loss: 4.8520\n",
      "Epoch [402/500], Avg Loss: 4.8448\n",
      "Epoch [403/500], Avg Loss: 4.8421\n",
      "Epoch [404/500], Avg Loss: 4.8451\n",
      "Epoch [405/500], Avg Loss: 4.8497\n",
      "Epoch [406/500], Avg Loss: 4.8520\n",
      "Epoch [407/500], Avg Loss: 4.8492\n",
      "Epoch [408/500], Avg Loss: 4.8415\n",
      "Epoch [409/500], Avg Loss: 4.8389\n",
      "Model saved with loss 4.8389\n",
      "Epoch [410/500], Avg Loss: 4.8438\n",
      "Epoch [411/500], Avg Loss: 4.8470\n",
      "Epoch [412/500], Avg Loss: 4.8418\n",
      "Epoch [413/500], Avg Loss: 4.8389\n",
      "Epoch [414/500], Avg Loss: 4.8401\n",
      "Epoch [415/500], Avg Loss: 4.8416\n",
      "Epoch [416/500], Avg Loss: 4.8408\n",
      "Epoch [417/500], Avg Loss: 4.8421\n",
      "Epoch [418/500], Avg Loss: 4.8430\n",
      "Epoch [419/500], Avg Loss: 4.8373\n",
      "Model saved with loss 4.8373\n",
      "Epoch [420/500], Avg Loss: 4.8392\n",
      "Epoch [421/500], Avg Loss: 4.8454\n",
      "Epoch [422/500], Avg Loss: 4.8384\n",
      "Epoch [423/500], Avg Loss: 4.8416\n",
      "Epoch [424/500], Avg Loss: 4.8451\n",
      "Epoch [425/500], Avg Loss: 4.8485\n",
      "Epoch [426/500], Avg Loss: 4.8410\n",
      "Epoch [427/500], Avg Loss: 4.8451\n",
      "Epoch [428/500], Avg Loss: 4.8434\n",
      "Epoch [429/500], Avg Loss: 4.8476\n",
      "Epoch [430/500], Avg Loss: 4.8413\n",
      "Epoch [431/500], Avg Loss: 4.8412\n",
      "Epoch [432/500], Avg Loss: 4.8439\n",
      "Epoch [433/500], Avg Loss: 4.8415\n",
      "Epoch [434/500], Avg Loss: 4.8407\n",
      "Epoch [435/500], Avg Loss: 4.8409\n",
      "Epoch [436/500], Avg Loss: 4.8411\n",
      "Epoch [437/500], Avg Loss: 4.8384\n",
      "Epoch [438/500], Avg Loss: 4.8433\n",
      "Epoch [439/500], Avg Loss: 4.8441\n",
      "Epoch [440/500], Avg Loss: 4.8456\n",
      "Epoch [441/500], Avg Loss: 4.8415\n",
      "Epoch [442/500], Avg Loss: 4.8396\n",
      "Epoch [443/500], Avg Loss: 4.8452\n",
      "Epoch [444/500], Avg Loss: 4.8492\n",
      "Epoch [445/500], Avg Loss: 4.8338\n",
      "Model saved with loss 4.8338\n",
      "Epoch [446/500], Avg Loss: 4.8330\n",
      "Model saved with loss 4.8330\n",
      "Epoch [447/500], Avg Loss: 4.8428\n",
      "Epoch [448/500], Avg Loss: 4.8357\n",
      "Epoch [449/500], Avg Loss: 4.8371\n",
      "Epoch [450/500], Avg Loss: 4.8460\n",
      "Epoch [451/500], Avg Loss: 4.8421\n",
      "Epoch [452/500], Avg Loss: 4.8395\n",
      "Epoch [453/500], Avg Loss: 4.8381\n",
      "Epoch [454/500], Avg Loss: 4.8413\n",
      "Epoch [455/500], Avg Loss: 4.8392\n",
      "Epoch [456/500], Avg Loss: 4.8500\n",
      "Epoch [457/500], Avg Loss: 4.8367\n",
      "Epoch [458/500], Avg Loss: 4.8403\n",
      "Epoch [459/500], Avg Loss: 4.8347\n",
      "Epoch [460/500], Avg Loss: 4.8477\n",
      "Epoch [461/500], Avg Loss: 4.8410\n",
      "Epoch [462/500], Avg Loss: 4.8392\n",
      "Epoch [463/500], Avg Loss: 4.8451\n",
      "Epoch [464/500], Avg Loss: 4.8462\n",
      "Epoch [465/500], Avg Loss: 4.8402\n",
      "Epoch [466/500], Avg Loss: 4.8439\n",
      "Epoch [467/500], Avg Loss: 4.8335\n",
      "Epoch [468/500], Avg Loss: 4.8444\n",
      "Epoch [469/500], Avg Loss: 4.8373\n",
      "Epoch [470/500], Avg Loss: 4.8475\n",
      "Epoch [471/500], Avg Loss: 4.8410\n",
      "Epoch [472/500], Avg Loss: 4.8313\n",
      "Model saved with loss 4.8313\n",
      "Epoch [473/500], Avg Loss: 4.8421\n",
      "Epoch [474/500], Avg Loss: 4.8420\n",
      "Epoch [475/500], Avg Loss: 4.8428\n",
      "Epoch [476/500], Avg Loss: 4.8443\n",
      "Epoch [477/500], Avg Loss: 4.8375\n",
      "Epoch [478/500], Avg Loss: 4.8415\n",
      "Epoch [479/500], Avg Loss: 4.8348\n",
      "Epoch [480/500], Avg Loss: 4.8427\n",
      "Epoch [481/500], Avg Loss: 4.8381\n",
      "Epoch [482/500], Avg Loss: 4.8345\n",
      "Epoch [483/500], Avg Loss: 4.8372\n",
      "Epoch [484/500], Avg Loss: 4.8399\n",
      "Epoch [485/500], Avg Loss: 4.8407\n",
      "Epoch [486/500], Avg Loss: 4.8470\n",
      "Epoch [487/500], Avg Loss: 4.8446\n",
      "Epoch [488/500], Avg Loss: 4.8360\n",
      "Epoch [489/500], Avg Loss: 4.8482\n",
      "Epoch [490/500], Avg Loss: 4.8482\n",
      "Epoch [492/500], Avg Loss: 4.8457\n",
      "Epoch [493/500], Avg Loss: 4.8364\n",
      "Epoch [494/500], Avg Loss: 4.8379\n",
      "Epoch [495/500], Avg Loss: 4.8272\n",
      "Model saved with loss 4.8272\n",
      "Epoch [496/500], Avg Loss: 4.8450\n",
      "Epoch [497/500], Avg Loss: 4.8438\n",
      "Epoch [498/500], Avg Loss: 4.8414\n",
      "Epoch [499/500], Avg Loss: 4.8358\n",
      "Epoch [500/500], Avg Loss: 4.8381\n"
     ]
    }
   ],
   "source": [
    "# Load the model\n",
    "Transformer_model = Transformer(input_dim=train_data.shape[1])\n",
    "optimizer = optim.Adam(Transformer_model.parameters(), lr=0.001)\n",
    "\n",
    "# Training loop\n",
    "epochs = 500\n",
    "for epoch in range(epochs):\n",
    "    Transformer_model.train()\n",
    "    epoch_loss = 0.0\n",
    "\n",
    "    # Loop over batches\n",
    "    for batch_idx, (x_batch, _) in enumerate(train_loader):\n",
    "        x_batch = x_batch.float()  # Convert to float tensors\n",
    "\n",
    "        # Augment the data (Transformer-specific augmentation)\n",
    "        x_i = x_batch\n",
    "        x_j = generate_corrupted_view(x_batch)\n",
    "\n",
    "        # Forward pass through the model\n",
    "        z_i, reconstructed_i = Transformer_model(x_i)  # Embeddings for the first view\n",
    "        z_j, reconstructed_j = Transformer_model(x_j)  # Embeddings for the second view\n",
    "\n",
    "        # Compute contrastive loss\n",
    "        loss = combined_loss(z_i, z_j, reconstructed_i, reconstructed_j, x_batch)\n",
    "\n",
    "        # Backpropagation\n",
    "        optimizer.zero_grad()\n",
    "        loss.backward()\n",
    "        optimizer.step()\n",
    "\n",
    "        epoch_loss += loss.item()\n",
    "\n",
    "    # Average loss for the epoch\n",
    "    avg_epoch_loss = epoch_loss / len(train_loader)\n",
    "\n",
    "    \n",
    "    print(f\"Epoch [{epoch + 1}/{epochs}], Avg Loss: {avg_epoch_loss:.4f}\")"
   ]
  },
  {
   "cell_type": "code",
   "execution_count": null,
   "metadata": {},
   "outputs": [],
   "source": [
    "Transformer_model = Transformer(input_dim=train_data.shape[1])\n",
    "\n",
    "# Process data in batches\n",
    "train_embeddings = []\n",
    "test_embeddings = []\n",
    "\n",
    "# Compute embeddings for the train data\n",
    "Transformer_model.eval()\n",
    "with torch.no_grad():  # Disable gradients for inference\n",
    "    for batch in train_loader:\n",
    "        batch_data = batch[0]  # Get data from the DataLoader\n",
    "        embeddings, _ = Transformer_model(batch_data)\n",
    "        train_embeddings.append(embeddings)\n",
    "\n",
    "# Compute embeddings for the test data\n",
    "with torch.no_grad():\n",
    "    for batch in test_loader:\n",
    "        batch_data = batch[0]\n",
    "        embeddings, _ = Transformer_model(batch_data)\n",
    "        test_embeddings.append(embeddings)\n",
    "\n",
    "# Concatenate embeddings into tensors\n",
    "Transformer_train_embeddings = torch.cat(train_embeddings, dim=0)\n",
    "Transformer_test_embeddings = torch.cat(test_embeddings, dim=0)"
   ]
  },
  {
   "cell_type": "code",
   "execution_count": null,
   "metadata": {},
   "outputs": [
    {
     "name": "stdout",
     "output_type": "stream",
     "text": [
      "(37648, 64) (37648,)\n",
      "(9413, 64) (9413,)\n",
      "[4 3 1 ... 3 3 3]\n"
     ]
    }
   ],
   "source": [
    "X_train = Transformer_train_embeddings.detach().numpy()\n",
    "y_train = train_labels\n",
    "X_test = Transformer_test_embeddings.detach().numpy()\n",
    "y_test = test_labels\n",
    "\n",
    "print(X_train.shape, y_train.shape)\n",
    "print(X_test.shape, y_test.shape)\n",
    "print(y_train)"
   ]
  },
  {
   "cell_type": "code",
   "execution_count": null,
   "metadata": {},
   "outputs": [
    {
     "name": "stdout",
     "output_type": "stream",
     "text": [
      "(99275, 64)\n"
     ]
    }
   ],
   "source": [
    "smote = SMOTE(random_state=42)\n",
    "X_train_resampled, y_train_resampled = smote.fit_resample(X_train, y_train)\n",
    "print(X_train_resampled.shape)"
   ]
  },
  {
   "cell_type": "code",
   "execution_count": null,
   "metadata": {},
   "outputs": [
    {
     "name": "stdout",
     "output_type": "stream",
     "text": [
      "Evaluation for Logistic Regression:\n",
      "Confusion Matrix:\n",
      "[[ 181   75  200   60   81]\n",
      " [ 450  243  554  210  219]\n",
      " [   3    2    5    3    4]\n",
      " [1441  692 1553  539  739]\n",
      " [ 599  327  682  257  294]]\n",
      "\n",
      "Classification Report:\n",
      "              precision    recall  f1-score   support\n",
      "\n",
      "           0       0.07      0.30      0.11       597\n",
      "           1       0.18      0.14      0.16      1676\n",
      "           2       0.00      0.29      0.00        17\n",
      "           3       0.50      0.11      0.18      4964\n",
      "           4       0.22      0.14      0.17      2159\n",
      "\n",
      "    accuracy                           0.13      9413\n",
      "   macro avg       0.19      0.20      0.12      9413\n",
      "weighted avg       0.35      0.13      0.17      9413\n",
      "\n",
      "Accuracy: 0.13406990332518856\n"
     ]
    }
   ],
   "source": [
    "log_reg = LogisticRegression(max_iter=1000, class_weight='balanced')\n",
    "log_reg.fit(X_train_resampled, y_train_resampled)\n",
    "y_pred = log_reg.predict(X_test)\n",
    "evaluate_model(y_test, y_pred, \"Logistic Regression\")"
   ]
  },
  {
   "cell_type": "code",
   "execution_count": null,
   "metadata": {},
   "outputs": [
    {
     "name": "stdout",
     "output_type": "stream",
     "text": [
      "Evaluation for Random Forest:\n",
      "Confusion Matrix:\n",
      "[[   5   25    0  534   33]\n",
      " [   3   55    0 1500  118]\n",
      " [   0    0    0   16    1]\n",
      " [  16  174    0 4452  322]\n",
      " [   3   80    0 1943  133]]\n",
      "\n",
      "Classification Report:\n",
      "              precision    recall  f1-score   support\n",
      "\n",
      "           0       0.19      0.01      0.02       597\n",
      "           1       0.16      0.03      0.05      1676\n",
      "           2       0.00      0.00      0.00        17\n",
      "           3       0.53      0.90      0.66      4964\n",
      "           4       0.22      0.06      0.10      2159\n",
      "\n",
      "    accuracy                           0.49      9413\n",
      "   macro avg       0.22      0.20      0.17      9413\n",
      "weighted avg       0.37      0.49      0.38      9413\n",
      "\n",
      "Accuracy: 0.4934664825241687\n"
     ]
    }
   ],
   "source": [
    "rf_model = RandomForestClassifier(class_weight='balanced', random_state=42)\n",
    "rf_model.fit(X_train, y_train)\n",
    "y_pred = rf_model.predict(X_test)\n",
    "evaluate_model(y_test, y_pred, \"Random Forest\")"
   ]
  },
  {
   "cell_type": "code",
   "execution_count": null,
   "metadata": {},
   "outputs": [
    {
     "name": "stdout",
     "output_type": "stream",
     "text": [
      "Evaluation for XGBoost:\n",
      "Confusion Matrix:\n",
      "[[   0    4    0  586    7]\n",
      " [   0   29    0 1605   42]\n",
      " [   0    0    0   17    0]\n",
      " [   4   61    1 4736  162]\n",
      " [   1   36    0 2053   69]]\n",
      "\n",
      "Classification Report:\n",
      "              precision    recall  f1-score   support\n",
      "\n",
      "           0       0.00      0.00      0.00       597\n",
      "           1       0.22      0.02      0.03      1676\n",
      "           2       0.00      0.00      0.00        17\n",
      "           3       0.53      0.95      0.68      4964\n",
      "           4       0.25      0.03      0.06      2159\n",
      "\n",
      "    accuracy                           0.51      9413\n",
      "   macro avg       0.20      0.20      0.15      9413\n",
      "weighted avg       0.37      0.51      0.38      9413\n",
      "\n",
      "Accuracy: 0.5135450972059917\n"
     ]
    }
   ],
   "source": [
    "xgb_model = XGBClassifier(eval_metric='mlogloss', enable_categorical=True, random_state=42)  # Adjust scale_pos_weight as needed\n",
    "xgb_model.fit(X_train, y_train)\n",
    "y_pred = xgb_model.predict(X_test)\n",
    "evaluate_model(y_test, y_pred, \"XGBoost\")"
   ]
  },
  {
   "cell_type": "code",
   "execution_count": null,
   "metadata": {},
   "outputs": [
    {
     "name": "stdout",
     "output_type": "stream",
     "text": [
      "(37648, 8)\n",
      "(37648, 64)\n"
     ]
    }
   ],
   "source": [
    "print(train_data.shape)\n",
    "print(X_train.shape)"
   ]
  },
  {
   "cell_type": "code",
   "execution_count": null,
   "metadata": {},
   "outputs": [
    {
     "data": {
      "text/plain": [
       "array([[-0.89820317, -0.89878864, -0.89728715, ...,  0.67608833,\n",
       "        -0.20880631,  0.17346631],\n",
       "       [ 0.17758179,  0.18598743,  0.18852526, ..., -0.25964195,\n",
       "        -0.25146773, -0.30085239],\n",
       "       [ 1.64064718,  1.6666639 ,  1.53492485, ...,  0.41150832,\n",
       "        -0.16568246,  0.29907149],\n",
       "       ...,\n",
       "       [-0.56078668, -0.55867697, -0.55725717, ..., -0.10628188,\n",
       "        -0.3831923 , -0.20192137],\n",
       "       [ 0.32060022,  0.31303185,  0.32651303, ..., -0.43089277,\n",
       "        -0.5843395 , -0.47131053],\n",
       "       [-0.38098918, -0.38125726, -0.37755172, ...,  0.40665343,\n",
       "        -0.3939462 ,  0.33272642]])"
      ]
     },
     "metadata": {},
     "output_type": "display_data"
    }
   ],
   "source": [
    "combined_train_data = np.hstack((train_data, X_train))\n",
    "combined_test_data = np.hstack((test_data, X_test))\n",
    "combined_test_data"
   ]
  },
  {
   "cell_type": "code",
   "execution_count": null,
   "metadata": {},
   "outputs": [
    {
     "data": {
      "text/plain": [
       "array([3, 1, 4, ..., 3, 3, 1])"
      ]
     },
     "metadata": {},
     "output_type": "display_data"
    }
   ],
   "source": [
    "y_test"
   ]
  },
  {
   "cell_type": "code",
   "execution_count": null,
   "metadata": {},
   "outputs": [
    {
     "name": "stdout",
     "output_type": "stream",
     "text": [
      "(99275, 72)\n"
     ]
    }
   ],
   "source": [
    "smote = SMOTE(random_state=42)\n",
    "X_train_resampled, y_train_resampled = smote.fit_resample(combined_train_data, y_train)\n",
    "print(X_train_resampled.shape)"
   ]
  },
  {
   "cell_type": "code",
   "execution_count": null,
   "metadata": {},
   "outputs": [],
   "source": [
    "def evaluate_model(y_true, y_pred, model_name):\n",
    "    print(f\"Evaluation for {model_name}:\")\n",
    "    print(\"Confusion Matrix:\")\n",
    "    print(confusion_matrix(y_true, y_pred))\n",
    "    print(\"\\nClassification Report:\")\n",
    "    print(classification_report(y_true, y_pred))\n",
    "    print(\"Accuracy:\", accuracy_score(y_true, y_pred))"
   ]
  },
  {
   "cell_type": "code",
   "execution_count": null,
   "metadata": {},
   "outputs": [
    {
     "name": "stdout",
     "output_type": "stream",
     "text": [
      "Evaluation for Logistic Regression:\n",
      "Confusion Matrix:\n",
      "[[ 377  127    0   92    1]\n",
      " [ 550  567    0  556    3]\n",
      " [   0    0   17    0    0]\n",
      " [ 953  941    0 3066    4]\n",
      " [  13    0    3    0 2143]]\n",
      "\n",
      "Classification Report:\n",
      "              precision    recall  f1-score   support\n",
      "\n",
      "           0       0.20      0.63      0.30       597\n",
      "           1       0.35      0.34      0.34      1676\n",
      "           2       0.85      1.00      0.92        17\n",
      "           3       0.83      0.62      0.71      4964\n",
      "           4       1.00      0.99      0.99      2159\n",
      "\n",
      "    accuracy                           0.66      9413\n",
      "   macro avg       0.64      0.72      0.65      9413\n",
      "weighted avg       0.74      0.66      0.68      9413\n",
      "\n",
      "Accuracy: 0.6554764687134813\n"
     ]
    }
   ],
   "source": [
    "log_reg = LogisticRegression(max_iter=1000, class_weight='balanced')\n",
    "log_reg.fit(X_train_resampled, y_train_resampled)\n",
    "y_pred = log_reg.predict(combined_test_data)\n",
    "evaluate_model(y_test, y_pred, \"Logistic Regression\")"
   ]
  },
  {
   "cell_type": "code",
   "execution_count": null,
   "metadata": {},
   "outputs": [
    {
     "name": "stdout",
     "output_type": "stream",
     "text": [
      "Evaluation for Random Forest:\n",
      "Confusion Matrix:\n",
      "[[   8   24    0  565    0]\n",
      " [   4  149    0 1522    1]\n",
      " [   0    0   15    0    2]\n",
      " [   8   87    0 4868    1]\n",
      " [   0    0    0    0 2159]]\n",
      "\n",
      "Classification Report:\n",
      "              precision    recall  f1-score   support\n",
      "\n",
      "           0       0.40      0.01      0.03       597\n",
      "           1       0.57      0.09      0.15      1676\n",
      "           2       1.00      0.88      0.94        17\n",
      "           3       0.70      0.98      0.82      4964\n",
      "           4       1.00      1.00      1.00      2159\n",
      "\n",
      "    accuracy                           0.76      9413\n",
      "   macro avg       0.73      0.59      0.59      9413\n",
      "weighted avg       0.73      0.76      0.69      9413\n",
      "\n",
      "Accuracy: 0.7647933708700733\n"
     ]
    }
   ],
   "source": [
    "rf_model = RandomForestClassifier(class_weight='balanced', random_state=42)\n",
    "rf_model.fit(combined_train_data, y_train)\n",
    "y_pred = rf_model.predict(combined_test_data)\n",
    "evaluate_model(y_test, y_pred, \"Random Forest\")"
   ]
  },
  {
   "cell_type": "code",
   "execution_count": null,
   "metadata": {},
   "outputs": [
    {
     "name": "stdout",
     "output_type": "stream",
     "text": [
      "Evaluation for XGBoost:\n",
      "Confusion Matrix:\n",
      "[[  55   45    0  497    0]\n",
      " [  19  311    0 1343    3]\n",
      " [   0    0   12    0    5]\n",
      " [  51  241    0 4670    2]\n",
      " [   2    2    7    2 2146]]\n",
      "\n",
      "Classification Report:\n",
      "              precision    recall  f1-score   support\n",
      "\n",
      "           0       0.43      0.09      0.15       597\n",
      "           1       0.52      0.19      0.27      1676\n",
      "           2       0.63      0.71      0.67        17\n",
      "           3       0.72      0.94      0.81      4964\n",
      "           4       1.00      0.99      0.99      2159\n",
      "\n",
      "    accuracy                           0.76      9413\n",
      "   macro avg       0.66      0.58      0.58      9413\n",
      "weighted avg       0.73      0.76      0.72      9413\n",
      "\n",
      "Accuracy: 0.7642621905874853\n"
     ]
    }
   ],
   "source": [
    "xgb_model = XGBClassifier(eval_metric='mlogloss', enable_categorical=True, random_state=42)  # Adjust scale_pos_weight as needed\n",
    "xgb_model.fit(combined_train_data, y_train)\n",
    "y_pred = xgb_model.predict(combined_test_data)\n",
    "evaluate_model(y_test, y_pred, \"XGBoost\")"
   ]
  },
  {
   "cell_type": "markdown",
   "metadata": {},
   "source": [
    "# LSTM\n"
   ]
  },
  {
   "cell_type": "code",
   "execution_count": null,
   "metadata": {},
   "outputs": [],
   "source": [
    "# Function to create two views\n",
    "def augment_data(df):\n",
    "    augmented_data = []\n",
    "    \n",
    "    # Augmentation 1: Add random noise\n",
    "    noise = np.random.normal(0, 0.001, df.shape)\n",
    "    df_noise = df.copy()\n",
    "    df_noise['Adj Close'] = df['Adj Close'] + noise[:, 0]\n",
    "    augmented_data.append(df_noise)\n",
    "\n",
    "    # Augmentation 2: Scaling\n",
    "    scale_factor = np.random.uniform(0.98, 1.02)\n",
    "    df_scaled = df.copy()\n",
    "    df_scaled['Adj Close'] *= scale_factor\n",
    "    augmented_data.append(df_scaled)\n",
    "\n",
    "    # Combine all augmented views\n",
    "    return augmented_data\n",
    "\n",
    "augmented_views = augment_data(df)\n"
   ]
  },
  {
   "cell_type": "code",
   "execution_count": 51,
   "metadata": {},
   "outputs": [
    {
     "name": "stdout",
     "output_type": "stream",
     "text": [
      "2\n",
      "(37648, 8)\n"
     ]
    }
   ],
   "source": [
    "augmented_views = augment_data(train_data)\n",
    "print(len(augmented_views))\n",
    "print(augmented_views[0].shape)"
   ]
  },
  {
   "cell_type": "code",
   "execution_count": null,
   "metadata": {},
   "outputs": [],
   "source": [
    "# LSTM architecture\n",
    "class LSTM(nn.Module):\n",
    "    def __init__(self, input_size, hidden_size, num_layers, embedding_size):\n",
    "        super(LSTM, self).__init__()\n",
    "        \n",
    "        # Encoder\n",
    "        self.encoder_lstm = nn.LSTM(input_size, hidden_size, num_layers, batch_first=True)\n",
    "        self.embedding_layer = nn.Linear(hidden_size, embedding_size)  # Embedding projection layer\n",
    "        \n",
    "        # Decoder\n",
    "        self.decoder_lstm = nn.LSTM(embedding_size, hidden_size, num_layers, batch_first=True)\n",
    "        self.reconstruction_layer = nn.Linear(hidden_size, input_size)  # Reconstruction layer\n",
    "    \n",
    "    def forward(self, x):\n",
    "        # Encoder\n",
    "        _, (hn, _) = self.encoder_lstm(x)\n",
    "        embeddings = self.embedding_layer(hn[-1])  # Use the last hidden state for embeddings\n",
    "        \n",
    "        # Decoder\n",
    "        embeddings_repeated = embeddings.unsqueeze(1).repeat(1, x.size(1), 1)  # Repeat embeddings for each time step\n",
    "        decoder_out, _ = self.decoder_lstm(embeddings_repeated)\n",
    "        reconstructed = self.reconstruction_layer(decoder_out)\n",
    "        \n",
    "        return embeddings, reconstructed\n"
   ]
  },
  {
   "cell_type": "code",
   "execution_count": null,
   "metadata": {},
   "outputs": [
    {
     "name": "stdout",
     "output_type": "stream",
     "text": [
      "Parameter name: encoder_lstm.weight_ih_l0\n",
      "Parameter size: torch.Size([512, 8])\n",
      "--------------------------------------------------\n",
      "Parameter name: encoder_lstm.weight_hh_l0\n",
      "Parameter size: torch.Size([512, 128])\n",
      "--------------------------------------------------\n",
      "Parameter name: encoder_lstm.bias_ih_l0\n",
      "Parameter size: torch.Size([512])\n",
      "--------------------------------------------------\n",
      "Parameter name: encoder_lstm.bias_hh_l0\n",
      "Parameter size: torch.Size([512])\n",
      "--------------------------------------------------\n",
      "Parameter name: encoder_lstm.weight_ih_l1\n",
      "Parameter size: torch.Size([512, 128])\n",
      "--------------------------------------------------\n",
      "Parameter name: encoder_lstm.weight_hh_l1\n",
      "Parameter size: torch.Size([512, 128])\n",
      "--------------------------------------------------\n",
      "Parameter name: encoder_lstm.bias_ih_l1\n",
      "Parameter size: torch.Size([512])\n",
      "--------------------------------------------------\n",
      "Parameter name: encoder_lstm.bias_hh_l1\n",
      "Parameter size: torch.Size([512])\n",
      "--------------------------------------------------\n",
      "Parameter name: encoder_lstm.weight_ih_l2\n",
      "Parameter size: torch.Size([512, 128])\n",
      "--------------------------------------------------\n",
      "Parameter name: encoder_lstm.weight_hh_l2\n",
      "Parameter size: torch.Size([512, 128])\n",
      "--------------------------------------------------\n",
      "Parameter name: encoder_lstm.bias_ih_l2\n",
      "Parameter size: torch.Size([512])\n",
      "--------------------------------------------------\n",
      "Parameter name: encoder_lstm.bias_hh_l2\n",
      "Parameter size: torch.Size([512])\n",
      "--------------------------------------------------\n",
      "Parameter name: embedding_layer.weight\n",
      "Parameter size: torch.Size([64, 128])\n",
      "--------------------------------------------------\n",
      "Parameter name: embedding_layer.bias\n",
      "Parameter size: torch.Size([64])\n",
      "--------------------------------------------------\n",
      "Parameter name: decoder_lstm.weight_ih_l0\n",
      "Parameter size: torch.Size([512, 64])\n",
      "--------------------------------------------------\n",
      "Parameter name: decoder_lstm.weight_hh_l0\n",
      "Parameter size: torch.Size([512, 128])\n",
      "--------------------------------------------------\n",
      "Parameter name: decoder_lstm.bias_ih_l0\n",
      "Parameter size: torch.Size([512])\n",
      "--------------------------------------------------\n",
      "Parameter name: decoder_lstm.bias_hh_l0\n",
      "Parameter size: torch.Size([512])\n",
      "--------------------------------------------------\n",
      "Parameter name: decoder_lstm.weight_ih_l1\n",
      "Parameter size: torch.Size([512, 128])\n",
      "--------------------------------------------------\n",
      "Parameter name: decoder_lstm.weight_hh_l1\n",
      "Parameter size: torch.Size([512, 128])\n",
      "--------------------------------------------------\n",
      "Parameter name: decoder_lstm.bias_ih_l1\n",
      "Parameter size: torch.Size([512])\n",
      "--------------------------------------------------\n",
      "Parameter name: decoder_lstm.bias_hh_l1\n",
      "Parameter size: torch.Size([512])\n",
      "--------------------------------------------------\n",
      "Parameter name: decoder_lstm.weight_ih_l2\n",
      "Parameter size: torch.Size([512, 128])\n",
      "--------------------------------------------------\n",
      "Parameter name: decoder_lstm.weight_hh_l2\n",
      "Parameter size: torch.Size([512, 128])\n",
      "--------------------------------------------------\n",
      "Parameter name: decoder_lstm.bias_ih_l2\n",
      "Parameter size: torch.Size([512])\n",
      "--------------------------------------------------\n",
      "Parameter name: decoder_lstm.bias_hh_l2\n",
      "Parameter size: torch.Size([512])\n",
      "--------------------------------------------------\n",
      "Parameter name: reconstruction_layer.weight\n",
      "Parameter size: torch.Size([8, 128])\n",
      "--------------------------------------------------\n",
      "Parameter name: reconstruction_layer.bias\n",
      "Parameter size: torch.Size([8])\n",
      "--------------------------------------------------\n"
     ]
    }
   ],
   "source": [
    "# LSTM architecture\n",
    "LSTM_model = LSTM(input_size=train_data.shape[1], hidden_size=128, num_layers=3,embedding_size=64)\n",
    "\n",
    "for name, param in LSTM_model.named_parameters():\n",
    "    print(f\"Parameter name: {name}\")\n",
    "    print(f\"Parameter size: {param.size()}\")\n",
    "    print(\"-\" * 50)"
   ]
  },
  {
   "cell_type": "code",
   "execution_count": null,
   "metadata": {},
   "outputs": [
    {
     "name": "stdout",
     "output_type": "stream",
     "text": [
      "Epoch 1/100, Loss: 0.9598814107718552\n",
      "Epoch 2/100, Loss: 0.8510644591402344\n",
      "Epoch 3/100, Loss: 0.8158389329910278\n",
      "Epoch 4/100, Loss: 0.8018492006538811\n",
      "Epoch 5/100, Loss: 0.7906625075429525\n",
      "Epoch 6/100, Loss: 0.7832659704740658\n",
      "Epoch 7/100, Loss: 0.7779074168245832\n",
      "Epoch 8/100, Loss: 0.7742820107253925\n",
      "Epoch 9/100, Loss: 0.7717237089820295\n",
      "Epoch 10/100, Loss: 0.7696358577405872\n",
      "Epoch 11/100, Loss: 0.7679145223906415\n",
      "Epoch 12/100, Loss: 0.7666059351751768\n",
      "Epoch 13/100, Loss: 0.7656391452674628\n",
      "Epoch 14/100, Loss: 0.7648852834360746\n",
      "Epoch 15/100, Loss: 0.7642695009201275\n",
      "Epoch 16/100, Loss: 0.7637479857700628\n",
      "Epoch 17/100, Loss: 0.7633055491807172\n",
      "Epoch 18/100, Loss: 0.7629157005895354\n",
      "Epoch 19/100, Loss: 0.7625651972846963\n",
      "Epoch 20/100, Loss: 0.762245919105348\n",
      "Epoch 21/100, Loss: 0.7619427807007875\n",
      "Epoch 22/100, Loss: 0.7616533502150312\n",
      "Epoch 23/100, Loss: 0.7613769214530595\n",
      "Epoch 24/100, Loss: 0.7611250786097024\n",
      "Epoch 25/100, Loss: 0.7608966337843369\n",
      "Epoch 26/100, Loss: 0.76066550516095\n",
      "Epoch 27/100, Loss: 0.7604441377025265\n",
      "Epoch 28/100, Loss: 0.76024619436237\n",
      "Epoch 29/100, Loss: 0.7600576259571926\n",
      "Epoch 30/100, Loss: 0.7598774475058708\n",
      "Epoch 31/100, Loss: 0.7597046014739246\n",
      "Epoch 32/100, Loss: 0.759547024373635\n",
      "Epoch 33/100, Loss: 0.7594041597822885\n",
      "Epoch 34/100, Loss: 0.7592755332969496\n",
      "Epoch 35/100, Loss: 0.7591582411605393\n",
      "Epoch 36/100, Loss: 0.7590509968864194\n",
      "Epoch 37/100, Loss: 0.7589572157564991\n",
      "Epoch 38/100, Loss: 0.7588557437003098\n",
      "Epoch 39/100, Loss: 0.7587455491484124\n",
      "Epoch 40/100, Loss: 0.7586497117765776\n",
      "Epoch 41/100, Loss: 0.7585554906609243\n",
      "Epoch 42/100, Loss: 0.7584615426515221\n",
      "Epoch 43/100, Loss: 0.758369781385412\n",
      "Epoch 44/100, Loss: 0.7582853202852281\n",
      "Epoch 45/100, Loss: 0.7581860114415127\n",
      "Epoch 46/100, Loss: 0.7580768013974177\n",
      "Epoch 47/100, Loss: 0.7579726521020848\n",
      "Epoch 48/100, Loss: 0.7578785005646271\n",
      "Epoch 49/100, Loss: 0.7577856637778366\n",
      "Epoch 50/100, Loss: 0.7576960312393803\n",
      "Epoch 51/100, Loss: 0.7576136577555352\n",
      "Epoch 52/100, Loss: 0.7575418479863176\n",
      "Epoch 53/100, Loss: 0.7574841268888874\n",
      "Epoch 54/100, Loss: 0.757406631992814\n",
      "Epoch 55/100, Loss: 0.7573251441602875\n",
      "Epoch 56/100, Loss: 0.7572526743110445\n",
      "Epoch 57/100, Loss: 0.7571887959151936\n",
      "Epoch 58/100, Loss: 0.7571216727682494\n",
      "Epoch 59/100, Loss: 0.7570534498260161\n",
      "Epoch 60/100, Loss: 0.7569849952945503\n",
      "Epoch 61/100, Loss: 0.7569183424935041\n",
      "Epoch 62/100, Loss: 0.7568518301335777\n",
      "Epoch 63/100, Loss: 0.7567822593082032\n",
      "Epoch 64/100, Loss: 0.7567147781953039\n",
      "Epoch 65/100, Loss: 0.7566566815514221\n",
      "Epoch 66/100, Loss: 0.7566028913853863\n",
      "Epoch 67/100, Loss: 0.7565497359428903\n",
      "Epoch 68/100, Loss: 0.7564983419309066\n",
      "Epoch 69/100, Loss: 0.756444938062472\n",
      "Epoch 70/100, Loss: 0.7563849062116323\n",
      "Epoch 71/100, Loss: 0.7563233324836346\n",
      "Epoch 72/100, Loss: 0.756269540086228\n",
      "Epoch 73/100, Loss: 0.7562192430296069\n",
      "Epoch 74/100, Loss: 0.7561699166868603\n",
      "Epoch 75/100, Loss: 0.7561195163110137\n",
      "Epoch 76/100, Loss: 0.7560739976333342\n",
      "Epoch 77/100, Loss: 0.756030082770254\n",
      "Epoch 78/100, Loss: 0.755988191895639\n",
      "Epoch 79/100, Loss: 0.7559472560476864\n",
      "Epoch 80/100, Loss: 0.7559073498758888\n",
      "Epoch 81/100, Loss: 0.7558688757707636\n",
      "Epoch 82/100, Loss: 0.7558295030317993\n",
      "Epoch 83/100, Loss: 0.7557888002606595\n",
      "Epoch 84/100, Loss: 0.7557486027259416\n",
      "Epoch 85/100, Loss: 0.7557076590343828\n",
      "Epoch 86/100, Loss: 0.7556736106163929\n",
      "Epoch 87/100, Loss: 0.755643530995482\n",
      "Epoch 88/100, Loss: 0.7556135207499148\n",
      "Epoch 89/100, Loss: 0.7555808641663073\n",
      "Epoch 90/100, Loss: 0.7555524415071891\n",
      "Epoch 91/100, Loss: 0.7555194729373865\n",
      "Epoch 92/100, Loss: 0.7554807644031025\n",
      "Epoch 93/100, Loss: 0.7554492052481787\n",
      "Epoch 94/100, Loss: 0.7554194104989279\n",
      "Epoch 95/100, Loss: 0.7553844542511471\n",
      "Epoch 96/100, Loss: 0.7553487561740323\n",
      "Epoch 97/100, Loss: 0.7553118733066898\n",
      "Epoch 98/100, Loss: 0.7552777474668982\n",
      "Epoch 99/100, Loss: 0.7552482805939067\n",
      "Epoch 100/100, Loss: 0.7552156211027555\n"
     ]
    }
   ],
   "source": [
    "# Initialize the model, optimizer, and loss function\n",
    "LSTM_model = LSTM(input_size=train_data.shape[1], hidden_size=128, num_layers=3,embedding_size=64)\n",
    "optimizer = optim.Adam(LSTM_model.parameters(), lr=0.001)\n",
    "\n",
    "# Example training loop\n",
    "epochs = 100\n",
    "batch_size = 64\n",
    "\n",
    "for epoch in range(epochs):\n",
    "    epoch_loss = 0\n",
    "    \n",
    "    for batch in range(0, len(train_data), batch_size):\n",
    "        # Sample two augmented views\n",
    "        view1 = augmented_views[0][batch:batch+batch_size].values\n",
    "        view2 = augmented_views[1][batch:batch+batch_size].values\n",
    "        \n",
    "        # Convert to PyTorch tensors\n",
    "        view1 = torch.FloatTensor(view1).unsqueeze(1)  # Add sequence_length dimension\n",
    "        view2 = torch.FloatTensor(view2).unsqueeze(1)\n",
    "    \n",
    "        # Forward pass through the encoder\n",
    "        z_i,reconstructed_i = LSTM_model(view1)\n",
    "        z_j,reconstructed_j = LSTM_model(view2)\n",
    "        \n",
    "        # Compute contrastive loss\n",
    "        loss = combined_loss(z_i, z_j, reconstructed_i,reconstructed_j,x_batch)\n",
    "        \n",
    "        # Backpropagation\n",
    "        optimizer.zero_grad()\n",
    "        loss.backward()\n",
    "        optimizer.step()\n",
    "        \n",
    "        epoch_loss += loss.item()\n",
    "    \n",
    "    print(f'Epoch {epoch+1}/{epochs}, Loss: {epoch_loss/len(df)}')\n"
   ]
  },
  {
   "cell_type": "code",
   "execution_count": null,
   "metadata": {},
   "outputs": [
    {
     "data": {
      "text/plain": [
       "tensor([[-0.3241, -0.1939, -0.5399,  ..., -1.7791,  0.1323, -0.5443],\n",
       "        [ 0.0337,  1.2196, -1.3982,  ...,  0.5540,  0.1053,  0.6407],\n",
       "        [ 0.2039, -1.1924, -0.3168,  ...,  0.5760,  0.0539, -0.0223],\n",
       "        ...,\n",
       "        [-0.0434, -0.2594,  0.2533,  ..., -0.3588, -0.2206,  0.1318],\n",
       "        [-0.0447, -0.3140, -0.5150,  ..., -0.2575, -0.0728,  0.2242],\n",
       "        [-0.0805, -0.5590,  0.1641,  ...,  0.5973, -0.4325, -2.5404]],\n",
       "       grad_fn=<AddmmBackward0>)"
      ]
     },
     "execution_count": 56,
     "metadata": {},
     "output_type": "execute_result"
    }
   ],
   "source": [
    "# Learned embeddings for train and test\n",
    "LSTM_train_embeddings,_ = LSTM_model(torch.tensor(train_data.to_numpy()).float().unsqueeze(1))\n",
    "LSTM_test_embeddings,_= LSTM_model(torch.tensor(test_data.to_numpy()).float().unsqueeze(1))\n",
    "LSTM_test_embeddings"
   ]
  },
  {
   "cell_type": "markdown",
   "metadata": {},
   "source": [
    "## Models on embeddings only"
   ]
  },
  {
   "cell_type": "code",
   "execution_count": 57,
   "metadata": {},
   "outputs": [
    {
     "name": "stdout",
     "output_type": "stream",
     "text": [
      "(37648, 64) (37648,)\n",
      "(9413, 64) (9413,)\n"
     ]
    }
   ],
   "source": [
    "X_train = LSTM_train_embeddings.detach().numpy()\n",
    "y_train = train_labels\n",
    "X_test = LSTM_test_embeddings.detach().numpy()\n",
    "y_test = test_labels\n",
    "\n",
    "print(X_train.shape, y_train.shape)\n",
    "print(X_test.shape, y_test.shape)"
   ]
  },
  {
   "cell_type": "code",
   "execution_count": 58,
   "metadata": {},
   "outputs": [
    {
     "data": {
      "text/plain": [
       "Date\n",
       "2020-12-07    4\n",
       "2018-01-02    3\n",
       "2018-05-22    1\n",
       "2019-11-01    3\n",
       "2020-09-17    3\n",
       "             ..\n",
       "2017-07-21    3\n",
       "2021-10-11    1\n",
       "2020-11-05    3\n",
       "2016-05-27    3\n",
       "2017-09-13    3\n",
       "Name: Regime, Length: 37648, dtype: int32"
      ]
     },
     "execution_count": 58,
     "metadata": {},
     "output_type": "execute_result"
    }
   ],
   "source": [
    "y_train"
   ]
  },
  {
   "cell_type": "code",
   "execution_count": 59,
   "metadata": {},
   "outputs": [
    {
     "name": "stdout",
     "output_type": "stream",
     "text": [
      "(99275, 64)\n"
     ]
    }
   ],
   "source": [
    "smote = SMOTE(random_state=42)\n",
    "X_train_resampled, y_train_resampled = smote.fit_resample(X_train, y_train)\n",
    "print(X_train_resampled.shape)"
   ]
  },
  {
   "cell_type": "code",
   "execution_count": 60,
   "metadata": {},
   "outputs": [
    {
     "name": "stdout",
     "output_type": "stream",
     "text": [
      "Evaluation for Logistic Regression:\n",
      "Confusion Matrix:\n",
      "[[ 219  115    4  143  116]\n",
      " [ 445  449    6  429  347]\n",
      " [   3    0   12    0    2]\n",
      " [1066 1068   15 1726 1089]\n",
      " [ 332  204   58  280 1285]]\n",
      "\n",
      "Classification Report:\n",
      "              precision    recall  f1-score   support\n",
      "\n",
      "           0       0.11      0.37      0.16       597\n",
      "           1       0.24      0.27      0.26      1676\n",
      "           2       0.13      0.71      0.21        17\n",
      "           3       0.67      0.35      0.46      4964\n",
      "           4       0.45      0.60      0.51      2159\n",
      "\n",
      "    accuracy                           0.39      9413\n",
      "   macro avg       0.32      0.46      0.32      9413\n",
      "weighted avg       0.51      0.39      0.42      9413\n",
      "\n",
      "Accuracy: 0.3921172846063954\n"
     ]
    }
   ],
   "source": [
    "log_reg = LogisticRegression(max_iter=1000, class_weight='balanced')\n",
    "log_reg.fit(X_train_resampled, y_train_resampled)\n",
    "y_pred = log_reg.predict(X_test)\n",
    "evaluate_model(y_test, y_pred, \"Logistic Regression\")"
   ]
  },
  {
   "cell_type": "code",
   "execution_count": null,
   "metadata": {},
   "outputs": [
    {
     "name": "stdout",
     "output_type": "stream",
     "text": [
      "Evaluation for Random Forest:\n",
      "Confusion Matrix:\n",
      "[[  76   59    0  391   71]\n",
      " [  38  464    0 1084   90]\n",
      " [   0    0    8    0    9]\n",
      " [  86  315    0 4457  106]\n",
      " [   2   13    0   64 2080]]\n",
      "\n",
      "Classification Report:\n",
      "              precision    recall  f1-score   support\n",
      "\n",
      "           0       0.38      0.13      0.19       597\n",
      "           1       0.55      0.28      0.37      1676\n",
      "           2       1.00      0.47      0.64        17\n",
      "           3       0.74      0.90      0.81      4964\n",
      "           4       0.88      0.96      0.92      2159\n",
      "\n",
      "    accuracy                           0.75      9413\n",
      "   macro avg       0.71      0.55      0.59      9413\n",
      "weighted avg       0.72      0.75      0.72      9413\n",
      "\n",
      "Accuracy: 0.752682460427069\n"
     ]
    }
   ],
   "source": [
    "rf_model = RandomForestClassifier(class_weight='balanced', random_state=42)\n",
    "rf_model.fit(X_train, y_train)\n",
    "y_pred = rf_model.predict(X_test)\n",
    "evaluate_model(y_test, y_pred, \"Random Forest\")"
   ]
  },
  {
   "cell_type": "code",
   "execution_count": null,
   "metadata": {},
   "outputs": [
    {
     "name": "stdout",
     "output_type": "stream",
     "text": [
      "Evaluation for XGBoost:\n",
      "Confusion Matrix:\n",
      "[[  52   47    0  434   64]\n",
      " [  29  350    0 1205   92]\n",
      " [   0    0   10    0    7]\n",
      " [  56  239    0 4542  127]\n",
      " [   3   12    0   48 2096]]\n",
      "\n",
      "Classification Report:\n",
      "              precision    recall  f1-score   support\n",
      "\n",
      "           0       0.37      0.09      0.14       597\n",
      "           1       0.54      0.21      0.30      1676\n",
      "           2       1.00      0.59      0.74        17\n",
      "           3       0.73      0.91      0.81      4964\n",
      "           4       0.88      0.97      0.92      2159\n",
      "\n",
      "    accuracy                           0.75      9413\n",
      "   macro avg       0.70      0.55      0.58      9413\n",
      "weighted avg       0.71      0.75      0.70      9413\n",
      "\n",
      "Accuracy: 0.7489641984489536\n"
     ]
    }
   ],
   "source": [
    "xgb_model = XGBClassifier(eval_metric='mlogloss', enable_categorical=True, random_state=42)  # Adjust scale_pos_weight as needed\n",
    "xgb_model.fit(X_train, y_train)\n",
    "y_pred = xgb_model.predict(X_test)\n",
    "evaluate_model(y_test, y_pred, \"XGBoost\")"
   ]
  },
  {
   "cell_type": "markdown",
   "metadata": {},
   "source": [
    "## Models on original features and embeddings combined"
   ]
  },
  {
   "cell_type": "code",
   "execution_count": 62,
   "metadata": {},
   "outputs": [
    {
     "data": {
      "text/plain": [
       "array([[ 0.45433953,  0.45562025,  0.46878141, ..., -1.77913725,\n",
       "         0.13228662, -0.54432148],\n",
       "       [-0.88862345, -0.8883118 , -0.89114666, ...,  0.55400342,\n",
       "         0.10528414,  0.64069635],\n",
       "       [ 2.16700893,  2.21740329,  2.14811099, ...,  0.57599837,\n",
       "         0.05388779, -0.02232256],\n",
       "       ...,\n",
       "       [ 0.07048663,  0.07538817,  0.08077871, ..., -0.3588379 ,\n",
       "        -0.22055498,  0.13181682],\n",
       "       [-0.65876743, -0.66052988, -0.6576159 , ..., -0.25752449,\n",
       "        -0.07282312,  0.22421253],\n",
       "       [-0.97017914, -0.96834583, -0.9701096 , ...,  0.59727937,\n",
       "        -0.43252128, -2.54043627]])"
      ]
     },
     "execution_count": 62,
     "metadata": {},
     "output_type": "execute_result"
    }
   ],
   "source": [
    "combined_train_data = np.hstack((train_data, X_train))\n",
    "combined_test_data = np.hstack((test_data, X_test)) \n",
    "combined_test_data"
   ]
  },
  {
   "cell_type": "code",
   "execution_count": 64,
   "metadata": {},
   "outputs": [
    {
     "name": "stdout",
     "output_type": "stream",
     "text": [
      "(99275, 72)\n"
     ]
    }
   ],
   "source": [
    "smote = SMOTE(random_state=42)\n",
    "X_train_resampled, y_train_resampled = smote.fit_resample(combined_train_data, y_train)\n",
    "print(X_train_resampled.shape)"
   ]
  },
  {
   "cell_type": "code",
   "execution_count": 65,
   "metadata": {},
   "outputs": [
    {
     "name": "stdout",
     "output_type": "stream",
     "text": [
      "Evaluation for Logistic Regression:\n",
      "Confusion Matrix:\n",
      "[[ 367  129    0   99    2]\n",
      " [ 550  589    0  527   10]\n",
      " [   0    0   16    0    1]\n",
      " [1013  942    0 3001    8]\n",
      " [  12    0    7    0 2140]]\n",
      "\n",
      "Classification Report:\n",
      "              precision    recall  f1-score   support\n",
      "\n",
      "           0       0.19      0.61      0.29       597\n",
      "           1       0.35      0.35      0.35      1676\n",
      "           2       0.70      0.94      0.80        17\n",
      "           3       0.83      0.60      0.70      4964\n",
      "           4       0.99      0.99      0.99      2159\n",
      "\n",
      "    accuracy                           0.65      9413\n",
      "   macro avg       0.61      0.70      0.63      9413\n",
      "weighted avg       0.74      0.65      0.68      9413\n",
      "\n",
      "Accuracy: 0.6494210134919792\n"
     ]
    }
   ],
   "source": [
    "log_reg = LogisticRegression(max_iter=1000, class_weight='balanced')\n",
    "log_reg.fit(X_train_resampled, y_train_resampled)\n",
    "y_pred = log_reg.predict(combined_test_data)\n",
    "evaluate_model(y_test, y_pred, \"Logistic Regression\")"
   ]
  },
  {
   "cell_type": "code",
   "execution_count": null,
   "metadata": {},
   "outputs": [
    {
     "name": "stdout",
     "output_type": "stream",
     "text": [
      "Evaluation for Random Forest:\n",
      "Confusion Matrix:\n",
      "[[ 102   58    0  437    0]\n",
      " [  42  534    0 1099    1]\n",
      " [   0    0   12    0    5]\n",
      " [  80  289    0 4595    0]\n",
      " [   0    0    0    0 2159]]\n",
      "\n",
      "Classification Report:\n",
      "              precision    recall  f1-score   support\n",
      "\n",
      "           0       0.46      0.17      0.25       597\n",
      "           1       0.61      0.32      0.42      1676\n",
      "           2       1.00      0.71      0.83        17\n",
      "           3       0.75      0.93      0.83      4964\n",
      "           4       1.00      1.00      1.00      2159\n",
      "\n",
      "    accuracy                           0.79      9413\n",
      "   macro avg       0.76      0.62      0.66      9413\n",
      "weighted avg       0.76      0.79      0.76      9413\n",
      "\n",
      "Accuracy: 0.7863592903431424\n"
     ]
    }
   ],
   "source": [
    "rf_model = RandomForestClassifier(class_weight='balanced', random_state=42)\n",
    "rf_model.fit(combined_train_data, y_train)\n",
    "y_pred = rf_model.predict(combined_test_data)\n",
    "evaluate_model(y_test, y_pred, \"Random Forest\")"
   ]
  },
  {
   "cell_type": "code",
   "execution_count": null,
   "metadata": {},
   "outputs": [
    {
     "name": "stdout",
     "output_type": "stream",
     "text": [
      "Evaluation for XGBoost:\n",
      "Confusion Matrix:\n",
      "[[  95   50    0  451    1]\n",
      " [  40  470    0 1164    2]\n",
      " [   0    0   12    0    5]\n",
      " [  74  253    0 4635    2]\n",
      " [   1    4    0    0 2154]]\n",
      "\n",
      "Classification Report:\n",
      "              precision    recall  f1-score   support\n",
      "\n",
      "           0       0.45      0.16      0.24       597\n",
      "           1       0.60      0.28      0.38      1676\n",
      "           2       1.00      0.71      0.83        17\n",
      "           3       0.74      0.93      0.83      4964\n",
      "           4       1.00      1.00      1.00      2159\n",
      "\n",
      "    accuracy                           0.78      9413\n",
      "   macro avg       0.76      0.62      0.65      9413\n",
      "weighted avg       0.76      0.78      0.75      9413\n",
      "\n",
      "Accuracy: 0.7825347923085095\n"
     ]
    }
   ],
   "source": [
    "xgb_model = XGBClassifier(eval_metric='mlogloss', enable_categorical=True, random_state=42)  # Adjust scale_pos_weight as needed\n",
    "xgb_model.fit(combined_train_data, y_train)\n",
    "y_pred = xgb_model.predict(combined_test_data)\n",
    "evaluate_model(y_test, y_pred, \"XGBoost\")"
   ]
  },
  {
   "cell_type": "code",
   "execution_count": 70,
   "metadata": {},
   "outputs": [
    {
     "data": {
      "text/plain": [
       "tensor([[ 0.4543,  0.4556,  0.4688,  ..., -0.2408, -0.1892, -0.7796],\n",
       "        [-0.8886, -0.8883, -0.8911,  ...,  0.5357,  0.0572, -0.1727],\n",
       "        [ 2.1670,  2.2174,  2.1481,  ..., -0.3092,  0.7525,  0.8875],\n",
       "        ...,\n",
       "        [ 0.0705,  0.0754,  0.0808,  ..., -0.2877,  0.2677,  0.0243],\n",
       "        [-0.6588, -0.6605, -0.6576,  ..., -0.2989,  0.0896, -0.6504],\n",
       "        [-0.9702, -0.9683, -0.9701,  ...,  0.1769,  0.3175,  0.1566]])"
      ]
     },
     "execution_count": 70,
     "metadata": {},
     "output_type": "execute_result"
    }
   ],
   "source": [
    "X_train_tensor = torch.FloatTensor(train_data.to_numpy())\n",
    "X_test_tensor = torch.FloatTensor(test_data.to_numpy())\n",
    "X_test_tensor"
   ]
  },
  {
   "cell_type": "code",
   "execution_count": null,
   "metadata": {},
   "outputs": [],
   "source": [
    "# Autoencoder architecture\n",
    "class Autoencoder(nn.Module):\n",
    "    def __init__(self, input_size, hidden_size):\n",
    "        super(Autoencoder, self).__init__()\n",
    "        # Encoder\n",
    "        self.encoder = nn.Sequential(\n",
    "            nn.Linear(input_size, hidden_size),\n",
    "            nn.ReLU()\n",
    "        )\n",
    "        # Decoder\n",
    "        self.decoder = nn.Sequential(\n",
    "            nn.Linear(hidden_size, input_size),\n",
    "            nn.Sigmoid()  # Use Sigmoid if input data is normalized between 0 and 1\n",
    "        )\n",
    "    \n",
    "    def forward(self, x):\n",
    "        z = self.encoder(x)\n",
    "        reconstructed = self.decoder(z)\n",
    "        return z, reconstructed"
   ]
  },
  {
   "cell_type": "code",
   "execution_count": null,
   "metadata": {},
   "outputs": [
    {
     "name": "stdout",
     "output_type": "stream",
     "text": [
      "Parameter name: encoder.0.weight\n",
      "Parameter size: torch.Size([32, 8])\n",
      "--------------------------------------------------\n",
      "Parameter name: encoder.0.bias\n",
      "Parameter size: torch.Size([32])\n",
      "--------------------------------------------------\n",
      "Parameter name: decoder.0.weight\n",
      "Parameter size: torch.Size([8, 32])\n",
      "--------------------------------------------------\n",
      "Parameter name: decoder.0.bias\n",
      "Parameter size: torch.Size([8])\n",
      "--------------------------------------------------\n"
     ]
    }
   ],
   "source": [
    "# Autoencoder architecture\n",
    "Autoencoder_model = Autoencoder(train_data.shape[1] , 32)\n",
    "\n",
    "for name, param in Autoencoder_model.named_parameters():\n",
    "    print(f\"Parameter name: {name}\")\n",
    "    print(f\"Parameter size: {param.size()}\")\n",
    "    print(\"-\" * 50)"
   ]
  },
  {
   "cell_type": "code",
   "execution_count": 74,
   "metadata": {},
   "outputs": [
    {
     "name": "stdout",
     "output_type": "stream",
     "text": [
      "Training Autoencoder...\n",
      "Epoch 1/50, Loss: 0.7276757788577185\n",
      "Epoch 2/50, Loss: 0.5948633018292879\n",
      "Epoch 3/50, Loss: 0.5841537929046741\n",
      "Epoch 4/50, Loss: 0.5814366621963034\n",
      "Epoch 5/50, Loss: 0.5804263029266497\n",
      "Epoch 6/50, Loss: 0.5803898363951309\n",
      "Epoch 7/50, Loss: 0.5789097808617687\n",
      "Epoch 8/50, Loss: 0.5789602870953305\n",
      "Epoch 9/50, Loss: 0.5784059122381874\n",
      "Epoch 10/50, Loss: 0.5790378035936372\n",
      "Epoch 11/50, Loss: 0.5783732390262073\n",
      "Epoch 12/50, Loss: 0.5782919053513247\n",
      "Epoch 13/50, Loss: 0.5781096580781435\n",
      "Epoch 14/50, Loss: 0.5780109805141929\n",
      "Epoch 15/50, Loss: 0.5780447482657959\n",
      "Epoch 16/50, Loss: 0.5783743845434869\n",
      "Epoch 17/50, Loss: 0.5777117258573429\n",
      "Epoch 18/50, Loss: 0.5775132969603676\n",
      "Epoch 19/50, Loss: 0.5776152440262974\n",
      "Epoch 20/50, Loss: 0.5774775326555572\n",
      "Epoch 21/50, Loss: 0.5774846048377366\n",
      "Epoch 22/50, Loss: 0.5781676187883613\n",
      "Epoch 23/50, Loss: 0.5781928381814616\n",
      "Epoch 24/50, Loss: 0.5776600499711741\n",
      "Epoch 25/50, Loss: 0.5779859018852027\n",
      "Epoch 26/50, Loss: 0.5773155078266594\n",
      "Epoch 27/50, Loss: 0.5773952521371113\n",
      "Epoch 28/50, Loss: 0.5772092763859469\n",
      "Epoch 29/50, Loss: 0.5772750116062488\n",
      "Epoch 30/50, Loss: 0.5779970768959292\n",
      "Epoch 31/50, Loss: 0.5771960211832373\n",
      "Epoch 32/50, Loss: 0.5771334452620993\n",
      "Epoch 33/50, Loss: 0.5780334699589045\n",
      "Epoch 34/50, Loss: 0.5777012551478498\n",
      "Epoch 35/50, Loss: 0.5772548248589747\n",
      "Epoch 36/50, Loss: 0.5772321837968454\n",
      "Epoch 37/50, Loss: 0.5777012480641059\n",
      "Epoch 38/50, Loss: 0.5771403715191551\n",
      "Epoch 39/50, Loss: 0.5772915935880665\n",
      "Epoch 40/50, Loss: 0.5772402862336721\n",
      "Epoch 41/50, Loss: 0.5772871101853803\n",
      "Epoch 42/50, Loss: 0.5773084637011656\n",
      "Epoch 43/50, Loss: 0.5771038370595926\n",
      "Epoch 44/50, Loss: 0.5776593856171962\n",
      "Epoch 45/50, Loss: 0.577292371534937\n",
      "Epoch 46/50, Loss: 0.5773215263019393\n",
      "Epoch 47/50, Loss: 0.5772033640403295\n",
      "Epoch 48/50, Loss: 0.5771818792981891\n",
      "Epoch 49/50, Loss: 0.5811572415921805\n",
      "Epoch 50/50, Loss: 0.5770229369857315\n"
     ]
    }
   ],
   "source": [
    "input_size = train_data.shape[1]  \n",
    "hidden_size = 32  \n",
    "Autoencoder_model = Autoencoder(input_size, hidden_size)\n",
    "criterion = nn.MSELoss()\n",
    "optimizer = optim.Adam(Autoencoder_model.parameters(), lr=0.001)\n",
    "\n",
    "# Training Loop\n",
    "epochs = 50\n",
    "batch_size = 64\n",
    "X_train_data = torch.utils.data.TensorDataset(X_train_tensor)\n",
    "train_loader = torch.utils.data.DataLoader(X_train_data, batch_size=batch_size, shuffle=True)\n",
    "\n",
    "print(\"Training Autoencoder...\")\n",
    "for epoch in range(epochs):\n",
    "    Autoencoder_model.train()\n",
    "    epoch_loss = 0\n",
    "    for batch in train_loader:\n",
    "        inputs = batch[0]\n",
    "        \n",
    "        # Forward pass\n",
    "        embeddings, reconstructed = Autoencoder_model(inputs)\n",
    "        loss = criterion(reconstructed, inputs)\n",
    "        \n",
    "        # Backpropagation\n",
    "        optimizer.zero_grad()\n",
    "        loss.backward()\n",
    "        optimizer.step()\n",
    "        \n",
    "        epoch_loss += loss.item()\n",
    "    \n",
    "    print(f\"Epoch {epoch+1}/{epochs}, Loss: {epoch_loss/len(train_loader)}\")\n"
   ]
  },
  {
   "cell_type": "code",
   "execution_count": null,
   "metadata": {},
   "outputs": [
    {
     "data": {
      "text/plain": [
       "array([[0.        , 1.2682765 , 0.        , ..., 1.2437865 , 0.        ,\n",
       "        0.2833777 ],\n",
       "       [4.1585035 , 0.        , 3.3253727 , ..., 1.6417277 , 3.3813217 ,\n",
       "        1.9307685 ],\n",
       "       [0.        , 1.5681963 , 0.        , ..., 0.8889185 , 0.        ,\n",
       "        0.        ],\n",
       "       ...,\n",
       "       [0.        , 1.4358871 , 0.        , ..., 1.0680566 , 0.26093882,\n",
       "        0.4680205 ],\n",
       "       [2.8622947 , 1.4653666 , 2.3002768 , ..., 1.2177036 , 2.9217386 ,\n",
       "        2.5224516 ],\n",
       "       [4.225261  , 0.        , 3.6186912 , ..., 1.348075  , 4.015074  ,\n",
       "        2.123168  ]], dtype=float32)"
      ]
     },
     "execution_count": 75,
     "metadata": {},
     "output_type": "execute_result"
    }
   ],
   "source": [
    "# Learned embeddings for train and test\n",
    "Autoencoder_model.eval()\n",
    "with torch.no_grad():\n",
    "    Autoencoder_train_embeddings = Autoencoder_model.encoder(X_train_tensor).numpy()\n",
    "    Autoencoder_test_embeddings = Autoencoder_model.encoder(X_test_tensor).numpy()\n",
    "Autoencoder_test_embeddings"
   ]
  },
  {
   "cell_type": "markdown",
   "metadata": {},
   "source": [
    "## Models for embeddings only"
   ]
  },
  {
   "cell_type": "code",
   "execution_count": 76,
   "metadata": {},
   "outputs": [
    {
     "name": "stdout",
     "output_type": "stream",
     "text": [
      "(37648, 32) (37648,)\n",
      "(9413, 32) (9413,)\n"
     ]
    }
   ],
   "source": [
    "X_train = Autoencoder_train_embeddings\n",
    "y_train = train_labels\n",
    "X_test = Autoencoder_test_embeddings\n",
    "y_test = test_labels\n",
    "\n",
    "\n",
    "print(X_train.shape, y_train.shape)\n",
    "print(X_test.shape, y_test.shape)"
   ]
  },
  {
   "cell_type": "code",
   "execution_count": 77,
   "metadata": {},
   "outputs": [
    {
     "name": "stdout",
     "output_type": "stream",
     "text": [
      "(99275, 32)\n"
     ]
    }
   ],
   "source": [
    "smote = SMOTE(random_state=42)\n",
    "X_train_resampled, y_train_resampled = smote.fit_resample(X_train, y_train)\n",
    "print(X_train_resampled.shape)"
   ]
  },
  {
   "cell_type": "code",
   "execution_count": 78,
   "metadata": {},
   "outputs": [
    {
     "name": "stdout",
     "output_type": "stream",
     "text": [
      "Evaluation for Logistic Regression:\n",
      "Confusion Matrix:\n",
      "[[ 399   93    0  100    5]\n",
      " [ 599  562    0  502   13]\n",
      " [   0    0   17    0    0]\n",
      " [1054  915    0 2984   11]\n",
      " [   2    1    5    0 2151]]\n",
      "\n",
      "Classification Report:\n",
      "              precision    recall  f1-score   support\n",
      "\n",
      "           0       0.19      0.67      0.30       597\n",
      "           1       0.36      0.34      0.35      1676\n",
      "           2       0.77      1.00      0.87        17\n",
      "           3       0.83      0.60      0.70      4964\n",
      "           4       0.99      1.00      0.99      2159\n",
      "\n",
      "    accuracy                           0.65      9413\n",
      "   macro avg       0.63      0.72      0.64      9413\n",
      "weighted avg       0.74      0.65      0.68      9413\n",
      "\n",
      "Accuracy: 0.6494210134919792\n"
     ]
    }
   ],
   "source": [
    "log_reg = LogisticRegression(max_iter=1000, class_weight='balanced')\n",
    "log_reg.fit(X_train_resampled, y_train_resampled)\n",
    "y_pred = log_reg.predict(X_test)\n",
    "evaluate_model(y_test, y_pred, \"Logistic Regression\")"
   ]
  },
  {
   "cell_type": "code",
   "execution_count": null,
   "metadata": {},
   "outputs": [
    {
     "name": "stdout",
     "output_type": "stream",
     "text": [
      "Evaluation for Random Forest:\n",
      "Confusion Matrix:\n",
      "[[  76   59    0  391   71]\n",
      " [  38  464    0 1084   90]\n",
      " [   0    0    8    0    9]\n",
      " [  86  315    0 4457  106]\n",
      " [   2   13    0   64 2080]]\n",
      "\n",
      "Classification Report:\n",
      "              precision    recall  f1-score   support\n",
      "\n",
      "           0       0.38      0.13      0.19       597\n",
      "           1       0.55      0.28      0.37      1676\n",
      "           2       1.00      0.47      0.64        17\n",
      "           3       0.74      0.90      0.81      4964\n",
      "           4       0.88      0.96      0.92      2159\n",
      "\n",
      "    accuracy                           0.75      9413\n",
      "   macro avg       0.71      0.55      0.59      9413\n",
      "weighted avg       0.72      0.75      0.72      9413\n",
      "\n",
      "Accuracy: 0.752682460427069\n"
     ]
    }
   ],
   "source": [
    "rf_model = RandomForestClassifier(class_weight='balanced', random_state=42)\n",
    "rf_model.fit(X_train, y_train)\n",
    "y_pred = rf_model.predict(X_test)\n",
    "evaluate_model(y_test, y_pred, \"Random Forest\")"
   ]
  },
  {
   "cell_type": "code",
   "execution_count": null,
   "metadata": {},
   "outputs": [
    {
     "name": "stdout",
     "output_type": "stream",
     "text": [
      "Evaluation for XGBoost:\n",
      "Confusion Matrix:\n",
      "[[  52   47    0  434   64]\n",
      " [  29  350    0 1205   92]\n",
      " [   0    0   10    0    7]\n",
      " [  56  239    0 4542  127]\n",
      " [   3   12    0   48 2096]]\n",
      "\n",
      "Classification Report:\n",
      "              precision    recall  f1-score   support\n",
      "\n",
      "           0       0.37      0.09      0.14       597\n",
      "           1       0.54      0.21      0.30      1676\n",
      "           2       1.00      0.59      0.74        17\n",
      "           3       0.73      0.91      0.81      4964\n",
      "           4       0.88      0.97      0.92      2159\n",
      "\n",
      "    accuracy                           0.75      9413\n",
      "   macro avg       0.70      0.55      0.58      9413\n",
      "weighted avg       0.71      0.75      0.70      9413\n",
      "\n",
      "Accuracy: 0.7489641984489536\n"
     ]
    }
   ],
   "source": [
    "xgb_model = XGBClassifier(eval_metric='mlogloss', enable_categorical=True, random_state=42)  # Adjust scale_pos_weight as needed\n",
    "xgb_model.fit(X_train, y_train)\n",
    "y_pred = xgb_model.predict(X_test)\n",
    "evaluate_model(y_test, y_pred, \"XGBoost\")"
   ]
  },
  {
   "cell_type": "markdown",
   "metadata": {},
   "source": [
    "## Models for original features and embeddings combined"
   ]
  },
  {
   "cell_type": "code",
   "execution_count": 80,
   "metadata": {},
   "outputs": [
    {
     "data": {
      "text/plain": [
       "(9413, 40)"
      ]
     },
     "execution_count": 80,
     "metadata": {},
     "output_type": "execute_result"
    }
   ],
   "source": [
    "combined_train_data = np.hstack((train_data, X_train))\n",
    "combined_test_data = np.hstack((test_data, X_test)) \n",
    "combined_test_data.shape"
   ]
  },
  {
   "cell_type": "code",
   "execution_count": 81,
   "metadata": {},
   "outputs": [
    {
     "data": {
      "text/plain": [
       "Date\n",
       "2018-08-10    3\n",
       "2017-03-08    1\n",
       "2018-09-06    4\n",
       "2016-03-24    1\n",
       "2015-11-18    4\n",
       "             ..\n",
       "2021-04-14    3\n",
       "2021-10-06    0\n",
       "2019-05-22    3\n",
       "2016-09-08    3\n",
       "2015-11-03    1\n",
       "Name: Regime, Length: 9413, dtype: int32"
      ]
     },
     "execution_count": 81,
     "metadata": {},
     "output_type": "execute_result"
    }
   ],
   "source": [
    "y_test"
   ]
  },
  {
   "cell_type": "code",
   "execution_count": 82,
   "metadata": {},
   "outputs": [
    {
     "name": "stdout",
     "output_type": "stream",
     "text": [
      "(99275, 40)\n"
     ]
    }
   ],
   "source": [
    "smote = SMOTE(random_state=42)\n",
    "X_train_resampled, y_train_resampled = smote.fit_resample(combined_train_data, y_train)\n",
    "print(X_train_resampled.shape)"
   ]
  },
  {
   "cell_type": "code",
   "execution_count": 83,
   "metadata": {},
   "outputs": [
    {
     "name": "stdout",
     "output_type": "stream",
     "text": [
      "Evaluation for Logistic Regression:\n",
      "Confusion Matrix:\n",
      "[[ 408   88    0   99    2]\n",
      " [ 595  569    0  500   12]\n",
      " [   0    0   17    0    0]\n",
      " [1059  906    0 2989   10]\n",
      " [   2    0    6    0 2151]]\n",
      "\n",
      "Classification Report:\n",
      "              precision    recall  f1-score   support\n",
      "\n",
      "           0       0.20      0.68      0.31       597\n",
      "           1       0.36      0.34      0.35      1676\n",
      "           2       0.74      1.00      0.85        17\n",
      "           3       0.83      0.60      0.70      4964\n",
      "           4       0.99      1.00      0.99      2159\n",
      "\n",
      "    accuracy                           0.65      9413\n",
      "   macro avg       0.62      0.72      0.64      9413\n",
      "weighted avg       0.74      0.65      0.68      9413\n",
      "\n",
      "Accuracy: 0.6516519706788484\n"
     ]
    }
   ],
   "source": [
    "log_reg = LogisticRegression(max_iter=1000, class_weight='balanced')\n",
    "log_reg.fit(X_train_resampled, y_train_resampled)\n",
    "y_pred = log_reg.predict(combined_test_data)\n",
    "evaluate_model(y_test, y_pred, \"Logistic Regression\")"
   ]
  },
  {
   "cell_type": "code",
   "execution_count": null,
   "metadata": {},
   "outputs": [
    {
     "name": "stdout",
     "output_type": "stream",
     "text": [
      "Evaluation for Random Forest:\n",
      "Confusion Matrix:\n",
      "[[ 102   58    0  437    0]\n",
      " [  42  534    0 1099    1]\n",
      " [   0    0   12    0    5]\n",
      " [  80  289    0 4595    0]\n",
      " [   0    0    0    0 2159]]\n",
      "\n",
      "Classification Report:\n",
      "              precision    recall  f1-score   support\n",
      "\n",
      "           0       0.46      0.17      0.25       597\n",
      "           1       0.61      0.32      0.42      1676\n",
      "           2       1.00      0.71      0.83        17\n",
      "           3       0.75      0.93      0.83      4964\n",
      "           4       1.00      1.00      1.00      2159\n",
      "\n",
      "    accuracy                           0.79      9413\n",
      "   macro avg       0.76      0.62      0.66      9413\n",
      "weighted avg       0.76      0.79      0.76      9413\n",
      "\n",
      "Accuracy: 0.7863592903431424\n"
     ]
    }
   ],
   "source": [
    "rf_model = RandomForestClassifier(class_weight='balanced', random_state=42)\n",
    "rf_model.fit(combined_train_data, y_train)\n",
    "y_pred = rf_model.predict(combined_test_data)\n",
    "evaluate_model(y_test, y_pred, \"Random Forest\")"
   ]
  },
  {
   "cell_type": "code",
   "execution_count": null,
   "metadata": {},
   "outputs": [
    {
     "name": "stdout",
     "output_type": "stream",
     "text": [
      "Evaluation for XGBoost:\n",
      "Confusion Matrix:\n",
      "[[  95   50    0  451    1]\n",
      " [  40  470    0 1164    2]\n",
      " [   0    0   12    0    5]\n",
      " [  74  253    0 4635    2]\n",
      " [   1    4    0    0 2154]]\n",
      "\n",
      "Classification Report:\n",
      "              precision    recall  f1-score   support\n",
      "\n",
      "           0       0.45      0.16      0.24       597\n",
      "           1       0.60      0.28      0.38      1676\n",
      "           2       1.00      0.71      0.83        17\n",
      "           3       0.74      0.93      0.83      4964\n",
      "           4       1.00      1.00      1.00      2159\n",
      "\n",
      "    accuracy                           0.78      9413\n",
      "   macro avg       0.76      0.62      0.65      9413\n",
      "weighted avg       0.76      0.78      0.75      9413\n",
      "\n",
      "Accuracy: 0.7825347923085095\n"
     ]
    }
   ],
   "source": [
    "xgb_model = XGBClassifier(eval_metric='mlogloss', enable_categorical=True, random_state=42)  # Adjust scale_pos_weight as needed\n",
    "xgb_model.fit(combined_train_data, y_train)\n",
    "y_pred = xgb_model.predict(combined_test_data)\n",
    "evaluate_model(y_test, y_pred, \"XGBoost\")"
   ]
  },
  {
   "cell_type": "markdown",
   "metadata": {},
   "source": [
    "# Base model"
   ]
  },
  {
   "cell_type": "code",
   "execution_count": null,
   "metadata": {},
   "outputs": [
    {
     "name": "stdout",
     "output_type": "stream",
     "text": [
      "(47061, 8)\n",
      "(47061,)\n"
     ]
    }
   ],
   "source": [
    "X = data\n",
    "y = labels"
   ]
  },
  {
   "cell_type": "code",
   "execution_count": 87,
   "metadata": {},
   "outputs": [
    {
     "data": {
      "image/png": "[encoded data removed]",
      "text/plain": [
       "<Figure size 1200x800 with 2 Axes>"
      ]
     },
     "metadata": {},
     "output_type": "display_data"
    }
   ],
   "source": [
    "corr_matrix = X.corr()\n",
    "\n",
    "# Display the correlation matrix as a heatmap\n",
    "plt.figure(figsize=(12, 8))\n",
    "sns.heatmap(corr_matrix, annot=True, cmap='coolwarm', fmt='.2f')\n",
    "plt.title('Correlation Matrix of Combined DataFrame')\n",
    "plt.show()"
   ]
  },
  {
   "cell_type": "code",
   "execution_count": 88,
   "metadata": {},
   "outputs": [],
   "source": [
    "X = X.drop(columns=['Open','High','Low','Close'])"
   ]
  },
  {
   "cell_type": "code",
   "execution_count": 90,
   "metadata": {},
   "outputs": [
    {
     "data": {
      "text/plain": [
       "(47061, 4)"
      ]
     },
     "execution_count": 90,
     "metadata": {},
     "output_type": "execute_result"
    }
   ],
   "source": [
    "X.shape"
   ]
  },
  {
   "cell_type": "code",
   "execution_count": null,
   "metadata": {},
   "outputs": [],
   "source": [
    "X_train, X_test, y_train, y_test = train_test_split(X, y, test_size=0.2, stratify=y, random_state=42)"
   ]
  },
  {
   "cell_type": "code",
   "execution_count": 92,
   "metadata": {},
   "outputs": [
    {
     "name": "stdout",
     "output_type": "stream",
     "text": [
      "(99275, 4)\n"
     ]
    }
   ],
   "source": [
    "smote = SMOTE(random_state=42)\n",
    "X_train_resampled, y_train_resampled = smote.fit_resample(X_train, y_train)\n",
    "print(X_train_resampled.shape)"
   ]
  },
  {
   "cell_type": "code",
   "execution_count": 93,
   "metadata": {},
   "outputs": [
    {
     "name": "stdout",
     "output_type": "stream",
     "text": [
      "Evaluation for Logistic Regression:\n",
      "Confusion Matrix:\n",
      "[[ 389  108    0  100    0]\n",
      " [ 618  420    0  632    6]\n",
      " [   0    0   17    0    0]\n",
      " [1053  713    0 3195    3]\n",
      " [   2    0    8    0 2149]]\n",
      "\n",
      "Classification Report:\n",
      "              precision    recall  f1-score   support\n",
      "\n",
      "           0       0.19      0.65      0.29       597\n",
      "           1       0.34      0.25      0.29      1676\n",
      "           2       0.68      1.00      0.81        17\n",
      "           3       0.81      0.64      0.72      4964\n",
      "           4       1.00      1.00      1.00      2159\n",
      "\n",
      "    accuracy                           0.66      9413\n",
      "   macro avg       0.60      0.71      0.62      9413\n",
      "weighted avg       0.73      0.66      0.68      9413\n",
      "\n",
      "Accuracy: 0.6554764687134813\n"
     ]
    }
   ],
   "source": [
    "log_reg = LogisticRegression(max_iter=1000, class_weight='balanced')\n",
    "log_reg.fit(X_train_resampled, y_train_resampled)\n",
    "y_pred = log_reg.predict(X_test)\n",
    "evaluate_model(y_test, y_pred, \"Logistic Regression\")"
   ]
  },
  {
   "cell_type": "code",
   "execution_count": 94,
   "metadata": {},
   "outputs": [
    {
     "name": "stdout",
     "output_type": "stream",
     "text": [
      "Evaluation for Random Forest:\n",
      "Confusion Matrix:\n",
      "[[ 117   55    0  425    0]\n",
      " [  42  522    0 1112    0]\n",
      " [   0    0   17    0    0]\n",
      " [  81  269    0 4614    0]\n",
      " [   0    0    0    0 2159]]\n",
      "\n",
      "Classification Report:\n",
      "              precision    recall  f1-score   support\n",
      "\n",
      "           0       0.49      0.20      0.28       597\n",
      "           1       0.62      0.31      0.41      1676\n",
      "           2       1.00      1.00      1.00        17\n",
      "           3       0.75      0.93      0.83      4964\n",
      "           4       1.00      1.00      1.00      2159\n",
      "\n",
      "    accuracy                           0.79      9413\n",
      "   macro avg       0.77      0.69      0.70      9413\n",
      "weighted avg       0.77      0.79      0.76      9413\n",
      "\n",
      "Accuracy: 0.7892276638691171\n"
     ]
    }
   ],
   "source": [
    "rf_model = RandomForestClassifier(class_weight='balanced', random_state=42)\n",
    "rf_model.fit(X_train, y_train)\n",
    "y_pred = rf_model.predict(X_test)\n",
    "evaluate_model(y_test, y_pred, \"Random Forest\")"
   ]
  },
  {
   "cell_type": "code",
   "execution_count": 95,
   "metadata": {},
   "outputs": [
    {
     "name": "stdout",
     "output_type": "stream",
     "text": [
      "Evaluation for XGBoost:\n",
      "Confusion Matrix:\n",
      "[[  90   62    0  444    1]\n",
      " [  34  449    0 1190    3]\n",
      " [   0    0    8    0    9]\n",
      " [  67  254    0 4641    2]\n",
      " [   0    3    5    2 2149]]\n",
      "\n",
      "Classification Report:\n",
      "              precision    recall  f1-score   support\n",
      "\n",
      "           0       0.47      0.15      0.23       597\n",
      "           1       0.58      0.27      0.37      1676\n",
      "           2       0.62      0.47      0.53        17\n",
      "           3       0.74      0.93      0.83      4964\n",
      "           4       0.99      1.00      0.99      2159\n",
      "\n",
      "    accuracy                           0.78      9413\n",
      "   macro avg       0.68      0.56      0.59      9413\n",
      "weighted avg       0.75      0.78      0.74      9413\n",
      "\n",
      "Accuracy: 0.7794539466694996\n"
     ]
    }
   ],
   "source": [
    "xgb_model = XGBClassifier(eval_metric='mlogloss', enable_categorical=True, random_state=42)  # Adjust scale_pos_weight as needed\n",
    "xgb_model.fit(X_train, y_train)\n",
    "y_pred = xgb_model.predict(X_test)\n",
    "evaluate_model(y_test, y_pred, \"XGBoost\")"
   ]
  },
  {
   "cell_type": "markdown",
   "metadata": {},
   "source": [
    "# Maksed row prediction"
   ]
  },
  {
   "cell_type": "markdown",
   "metadata": {},
   "source": [
    "## Base model (Replacing masked entry by column mean)"
   ]
  },
  {
   "cell_type": "code",
   "execution_count": null,
   "metadata": {},
   "outputs": [],
   "source": [
    "# Function to create masked data\n",
    "def create_masked_input(data, missing_rate=0.3, mask_value='mask'):\n",
    "    \"\"\"\n",
    "    Mask a portion of the data to simulate missing features.\n",
    "\n",
    "    Args:\n",
    "        data (np.ndarray): Input data array.\n",
    "        missing_rate (float): Proportion of features to mask.\n",
    "        mask_value (float): Value to use for masking (e.g., np.inf or -np.inf).\n",
    "\n",
    "    Returns:\n",
    "        masked_data (np.ndarray): Data with missing features replaced by mask_value.\n",
    "        mask (np.ndarray): Boolean mask indicating which features are missing.\n",
    "    \"\"\"\n",
    "    \n",
    "    mask = np.random.rand(*data.shape) > missing_rate\n",
    "    masked_data = np.where(mask, data, mask_value)\n",
    "    \n",
    "    return masked_data, mask\n"
   ]
  },
  {
   "cell_type": "code",
   "execution_count": null,
   "metadata": {},
   "outputs": [
    {
     "data": {
      "text/html": [
       "<div>\n",
       "<style scoped>\n",
       "    .dataframe tbody tr th:only-of-type {\n",
       "        vertical-align: middle;\n",
       "    }\n",
       "\n",
       "    .dataframe tbody tr th {\n",
       "        vertical-align: top;\n",
       "    }\n",
       "\n",
       "    .dataframe thead th {\n",
       "        text-align: right;\n",
       "    }\n",
       "</style>\n",
       "<table border=\"1\" class=\"dataframe\">\n",
       "  <thead>\n",
       "    <tr style=\"text-align: right;\">\n",
       "      <th></th>\n",
       "      <th>Open</th>\n",
       "      <th>High</th>\n",
       "      <th>Low</th>\n",
       "      <th>Close</th>\n",
       "      <th>Adj Close</th>\n",
       "      <th>Volume</th>\n",
       "      <th>Daily Return</th>\n",
       "      <th>Volatility</th>\n",
       "    </tr>\n",
       "    <tr>\n",
       "      <th>Date</th>\n",
       "      <th></th>\n",
       "      <th></th>\n",
       "      <th></th>\n",
       "      <th></th>\n",
       "      <th></th>\n",
       "      <th></th>\n",
       "      <th></th>\n",
       "      <th></th>\n",
       "    </tr>\n",
       "  </thead>\n",
       "  <tbody>\n",
       "    <tr>\n",
       "      <th>2015-02-02</th>\n",
       "      <td>-0.851477</td>\n",
       "      <td>-0.850481</td>\n",
       "      <td>-0.854687</td>\n",
       "      <td>-0.850187</td>\n",
       "      <td>-0.820049</td>\n",
       "      <td>1.869345</td>\n",
       "      <td>0.601541</td>\n",
       "      <td>0.703267</td>\n",
       "    </tr>\n",
       "    <tr>\n",
       "      <th>2015-02-03</th>\n",
       "      <td>-0.850409</td>\n",
       "      <td>-0.850669</td>\n",
       "      <td>-0.851018</td>\n",
       "      <td>-0.850140</td>\n",
       "      <td>-0.820005</td>\n",
       "      <td>1.472904</td>\n",
       "      <td>-0.036302</td>\n",
       "      <td>0.596453</td>\n",
       "    </tr>\n",
       "    <tr>\n",
       "      <th>2015-02-04</th>\n",
       "      <td>-0.850409</td>\n",
       "      <td>-0.847331</td>\n",
       "      <td>-0.849339</td>\n",
       "      <td>-0.847980</td>\n",
       "      <td>-0.818042</td>\n",
       "      <td>2.140782</td>\n",
       "      <td>0.350216</td>\n",
       "      <td>0.593248</td>\n",
       "    </tr>\n",
       "    <tr>\n",
       "      <th>2015-02-05</th>\n",
       "      <td>-0.846801</td>\n",
       "      <td>-0.847989</td>\n",
       "      <td>-0.847084</td>\n",
       "      <td>-0.847078</td>\n",
       "      <td>-0.816200</td>\n",
       "      <td>1.118727</td>\n",
       "      <td>0.322811</td>\n",
       "      <td>0.586800</td>\n",
       "    </tr>\n",
       "    <tr>\n",
       "      <th>2015-02-06</th>\n",
       "      <td>-0.846801</td>\n",
       "      <td>-0.847942</td>\n",
       "      <td>-0.849003</td>\n",
       "      <td>-0.849475</td>\n",
       "      <td>-0.818388</td>\n",
       "      <td>1.172219</td>\n",
       "      <td>-0.478948</td>\n",
       "      <td>0.485124</td>\n",
       "    </tr>\n",
       "    <tr>\n",
       "      <th>...</th>\n",
       "      <td>...</td>\n",
       "      <td>...</td>\n",
       "      <td>...</td>\n",
       "      <td>...</td>\n",
       "      <td>...</td>\n",
       "      <td>...</td>\n",
       "      <td>...</td>\n",
       "      <td>...</td>\n",
       "    </tr>\n",
       "    <tr>\n",
       "      <th>2021-12-27</th>\n",
       "      <td>0.516812</td>\n",
       "      <td>0.531046</td>\n",
       "      <td>0.532393</td>\n",
       "      <td>0.545392</td>\n",
       "      <td>0.595792</td>\n",
       "      <td>-0.367933</td>\n",
       "      <td>1.060471</td>\n",
       "      <td>0.221783</td>\n",
       "    </tr>\n",
       "    <tr>\n",
       "      <th>2021-12-28</th>\n",
       "      <td>0.548617</td>\n",
       "      <td>0.534338</td>\n",
       "      <td>0.548704</td>\n",
       "      <td>0.536658</td>\n",
       "      <td>0.587085</td>\n",
       "      <td>-0.376378</td>\n",
       "      <td>-0.313374</td>\n",
       "      <td>0.165628</td>\n",
       "    </tr>\n",
       "    <tr>\n",
       "      <th>2021-12-29</th>\n",
       "      <td>0.537319</td>\n",
       "      <td>0.530105</td>\n",
       "      <td>0.545634</td>\n",
       "      <td>0.538082</td>\n",
       "      <td>0.588504</td>\n",
       "      <td>-0.384319</td>\n",
       "      <td>-0.001010</td>\n",
       "      <td>0.151610</td>\n",
       "    </tr>\n",
       "    <tr>\n",
       "      <th>2021-12-30</th>\n",
       "      <td>0.538838</td>\n",
       "      <td>0.529635</td>\n",
       "      <td>0.541220</td>\n",
       "      <td>0.527069</td>\n",
       "      <td>0.577526</td>\n",
       "      <td>-0.380479</td>\n",
       "      <td>-0.384868</td>\n",
       "      <td>0.127896</td>\n",
       "    </tr>\n",
       "    <tr>\n",
       "      <th>2021-12-31</th>\n",
       "      <td>0.525546</td>\n",
       "      <td>0.514870</td>\n",
       "      <td>0.534312</td>\n",
       "      <td>0.518999</td>\n",
       "      <td>0.569482</td>\n",
       "      <td>-0.381777</td>\n",
       "      <td>-0.295695</td>\n",
       "      <td>0.128488</td>\n",
       "    </tr>\n",
       "  </tbody>\n",
       "</table>\n",
       "<p>47061 rows × 8 columns</p>\n",
       "</div>"
      ],
      "text/plain": [
       "                Open      High       Low     Close  Adj Close    Volume  \\\n",
       "Date                                                                      \n",
       "2015-02-02 -0.851477 -0.850481 -0.854687 -0.850187  -0.820049  1.869345   \n",
       "2015-02-03 -0.850409 -0.850669 -0.851018 -0.850140  -0.820005  1.472904   \n",
       "2015-02-04 -0.850409 -0.847331 -0.849339 -0.847980  -0.818042  2.140782   \n",
       "2015-02-05 -0.846801 -0.847989 -0.847084 -0.847078  -0.816200  1.118727   \n",
       "2015-02-06 -0.846801 -0.847942 -0.849003 -0.849475  -0.818388  1.172219   \n",
       "...              ...       ...       ...       ...        ...       ...   \n",
       "2021-12-27  0.516812  0.531046  0.532393  0.545392   0.595792 -0.367933   \n",
       "2021-12-28  0.548617  0.534338  0.548704  0.536658   0.587085 -0.376378   \n",
       "2021-12-29  0.537319  0.530105  0.545634  0.538082   0.588504 -0.384319   \n",
       "2021-12-30  0.538838  0.529635  0.541220  0.527069   0.577526 -0.380479   \n",
       "2021-12-31  0.525546  0.514870  0.534312  0.518999   0.569482 -0.381777   \n",
       "\n",
       "            Daily Return  Volatility  \n",
       "Date                                  \n",
       "2015-02-02      0.601541    0.703267  \n",
       "2015-02-03     -0.036302    0.596453  \n",
       "2015-02-04      0.350216    0.593248  \n",
       "2015-02-05      0.322811    0.586800  \n",
       "2015-02-06     -0.478948    0.485124  \n",
       "...                  ...         ...  \n",
       "2021-12-27      1.060471    0.221783  \n",
       "2021-12-28     -0.313374    0.165628  \n",
       "2021-12-29     -0.001010    0.151610  \n",
       "2021-12-30     -0.384868    0.127896  \n",
       "2021-12-31     -0.295695    0.128488  \n",
       "\n",
       "[47061 rows x 8 columns]"
      ]
     },
     "execution_count": 97,
     "metadata": {},
     "output_type": "execute_result"
    }
   ],
   "source": [
    "X = data\n",
    "y = labels\n",
    "\n",
    "X"
   ]
  },
  {
   "cell_type": "code",
   "execution_count": 98,
   "metadata": {},
   "outputs": [
    {
     "data": {
      "text/plain": [
       "Date\n",
       "2015-02-02    4\n",
       "2015-02-03    4\n",
       "2015-02-04    4\n",
       "2015-02-05    4\n",
       "2015-02-06    4\n",
       "             ..\n",
       "2021-12-27    3\n",
       "2021-12-28    3\n",
       "2021-12-29    3\n",
       "2021-12-30    1\n",
       "2021-12-31    3\n",
       "Name: Regime, Length: 47061, dtype: int32"
      ]
     },
     "execution_count": 98,
     "metadata": {},
     "output_type": "execute_result"
    }
   ],
   "source": [
    "y"
   ]
  },
  {
   "cell_type": "code",
   "execution_count": 99,
   "metadata": {},
   "outputs": [
    {
     "name": "stdout",
     "output_type": "stream",
     "text": [
      "Number of 0 cells in X: 0\n"
     ]
    }
   ],
   "source": [
    "num_zeros = (X == 0).sum().sum()\n",
    "print(f\"Number of 0 cells in X: {num_zeros}\")"
   ]
  },
  {
   "cell_type": "code",
   "execution_count": null,
   "metadata": {},
   "outputs": [],
   "source": [
    "X_train, X_test, y_train, y_test = train_test_split(X, y, test_size=0.2, stratify=y, random_state=42)"
   ]
  },
  {
   "cell_type": "code",
   "execution_count": 101,
   "metadata": {},
   "outputs": [
    {
     "name": "stdout",
     "output_type": "stream",
     "text": [
      "(99275, 8)\n"
     ]
    }
   ],
   "source": [
    "smote = SMOTE(random_state=42)\n",
    "X_train_resampled, y_train_resampled = smote.fit_resample(X_train, y_train)\n",
    "print(X_train_resampled.shape)"
   ]
  },
  {
   "cell_type": "code",
   "execution_count": 102,
   "metadata": {},
   "outputs": [],
   "source": [
    "def replace_masked_values_with_mean(X, mask_value='mask'):\n",
    "    \"\"\"\n",
    "    Replace masked (masked_value) values with the column-wise mean.\n",
    "    \n",
    "    Args:\n",
    "        X (np.ndarray): Input data array.\n",
    "        mask_value: The value to be masked and replaced.\n",
    "\n",
    "    Returns:\n",
    "        np.ndarray: Data array with masked values replaced by column means.\n",
    "    \"\"\"\n",
    "    # Ensure the input array is of type that can compare string values\n",
    "    if isinstance(mask_value, str):\n",
    "        X = np.array(X, dtype=object)\n",
    "\n",
    "    # Create a mask where the value is equal to the mask_value\n",
    "    mask = (X == mask_value)\n",
    "    \n",
    "    # Compute the column means, ignoring the mask_value\n",
    "    col_means = []\n",
    "    for i in range(X.shape[1]):\n",
    "        valid_values = X[~mask[:, i], i]\n",
    "        if valid_values.size > 0:\n",
    "            valid_values = valid_values.astype(float)  # Convert valid entries to float\n",
    "            col_means.append(valid_values.mean())\n",
    "        else:\n",
    "            col_means.append(0)  # Default mean if all values in the column are masked\n",
    "    \n",
    "    col_means = np.array(col_means)\n",
    "    print(\"Column Means:\", col_means)\n",
    "    \n",
    "    # Create a copy of the original data\n",
    "    X_imputed = X.copy()\n",
    "    \n",
    "    # Impute the missing values (mask_value) with the column means\n",
    "    for i in range(X.shape[1]):\n",
    "        X_imputed[mask[:, i], i] = col_means[i]\n",
    "    \n",
    "    return X_imputed.astype(float)  # Ensure the final array is numeric\n"
   ]
  },
  {
   "cell_type": "code",
   "execution_count": null,
   "metadata": {},
   "outputs": [
    {
     "name": "stdout",
     "output_type": "stream",
     "text": [
      "Column Means: [-0.00995008 -0.0287205  -0.00560559 -0.01428621 -0.01698686 -0.01538561\n",
      "  0.0180778  -0.00787693]\n"
     ]
    }
   ],
   "source": [
    "# Mask the testing data\n",
    "missing_rate = 0.4\n",
    "X_test_masked, test_mask = create_masked_input(X_test, missing_rate=missing_rate)\n",
    "\n",
    "# Replace masked values with column-wise mean\n",
    "X_test_imputed = replace_masked_values_with_mean(X_test_masked)"
   ]
  },
  {
   "cell_type": "code",
   "execution_count": 105,
   "metadata": {},
   "outputs": [
    {
     "data": {
      "text/plain": [
       "(99275, 8)"
      ]
     },
     "execution_count": 105,
     "metadata": {},
     "output_type": "execute_result"
    }
   ],
   "source": [
    "X_train_resampled.shape"
   ]
  },
  {
   "cell_type": "code",
   "execution_count": 106,
   "metadata": {},
   "outputs": [
    {
     "data": {
      "text/plain": [
       "array([[-0.00995008, -0.0287205 ,  0.46878141, ..., -0.01538561,\n",
       "        -0.18916644, -0.00787693],\n",
       "       [-0.00995008, -0.8883118 , -0.89114666, ...,  0.53569617,\n",
       "         0.05719477, -0.00787693],\n",
       "       [ 2.16700893,  2.21740329,  2.14811099, ..., -0.30917346,\n",
       "         0.75247866, -0.00787693],\n",
       "       ...,\n",
       "       [-0.00995008, -0.0287205 ,  0.08077871, ..., -0.01538561,\n",
       "         0.0180778 ,  0.02425371],\n",
       "       [-0.00995008, -0.66052988, -0.6576159 , ..., -0.01538561,\n",
       "         0.08959588, -0.00787693],\n",
       "       [-0.00995008, -0.96834583, -0.00560559, ...,  0.17685431,\n",
       "         0.3174824 ,  0.15659891]])"
      ]
     },
     "execution_count": 106,
     "metadata": {},
     "output_type": "execute_result"
    }
   ],
   "source": [
    "X_test_imputed"
   ]
  },
  {
   "cell_type": "code",
   "execution_count": null,
   "metadata": {},
   "outputs": [
    {
     "name": "stdout",
     "output_type": "stream",
     "text": [
      "Evaluation for Logistic Regression:\n",
      "Confusion Matrix:\n",
      "[[ 301  259    0   36    1]\n",
      " [ 736  762    0  176    2]\n",
      " [   3    3    7    0    4]\n",
      " [1935 1941    0 1086    2]\n",
      " [ 514  448    5   17 1175]]\n",
      "\n",
      "Classification Report:\n",
      "              precision    recall  f1-score   support\n",
      "\n",
      "           0       0.09      0.50      0.15       597\n",
      "           1       0.22      0.45      0.30      1676\n",
      "           2       0.58      0.41      0.48        17\n",
      "           3       0.83      0.22      0.35      4964\n",
      "           4       0.99      0.54      0.70      2159\n",
      "\n",
      "    accuracy                           0.35      9413\n",
      "   macro avg       0.54      0.43      0.40      9413\n",
      "weighted avg       0.71      0.35      0.41      9413\n",
      "\n",
      "Accuracy: 0.3538723042600659\n"
     ]
    }
   ],
   "source": [
    "log_reg = LogisticRegression(max_iter=1000, class_weight='balanced')\n",
    "log_reg.fit(X_train_resampled, y_train_resampled)\n",
    "y_pred = log_reg.predict(X_test_imputed)\n",
    "\n",
    "# Evaluate the model\n",
    "evaluate_model(y_test, y_pred, \"Logistic Regression\")"
   ]
  },
  {
   "cell_type": "code",
   "execution_count": null,
   "metadata": {},
   "outputs": [
    {
     "name": "stdout",
     "output_type": "stream",
     "text": [
      "Evaluation for Random Forest:\n",
      "Confusion Matrix:\n",
      "[[  32   12    0  553    0]\n",
      " [  18  155    0 1503    0]\n",
      " [   0    0   11    2    4]\n",
      " [  36  106    0 4822    0]\n",
      " [  22   53    0  767 1317]]\n",
      "\n",
      "Classification Report:\n",
      "              precision    recall  f1-score   support\n",
      "\n",
      "           0       0.30      0.05      0.09       597\n",
      "           1       0.48      0.09      0.15      1676\n",
      "           2       1.00      0.65      0.79        17\n",
      "           3       0.63      0.97      0.76      4964\n",
      "           4       1.00      0.61      0.76      2159\n",
      "\n",
      "    accuracy                           0.67      9413\n",
      "   macro avg       0.68      0.47      0.51      9413\n",
      "weighted avg       0.67      0.67      0.61      9413\n",
      "\n",
      "Accuracy: 0.6732178901519176\n"
     ]
    }
   ],
   "source": [
    "rf_model = RandomForestClassifier(class_weight='balanced', random_state=42)\n",
    "rf_model.fit(X_train, y_train)\n",
    "y_pred = rf_model.predict(X_test_imputed)\n",
    "\n",
    "evaluate_model(y_test, y_pred, \"Random Forest\")"
   ]
  },
  {
   "cell_type": "code",
   "execution_count": null,
   "metadata": {},
   "outputs": [
    {
     "name": "stdout",
     "output_type": "stream",
     "text": [
      "Evaluation for XGBoost:\n",
      "Confusion Matrix:\n",
      "[[ 110  171    0  316    0]\n",
      " [ 167  630    0  879    0]\n",
      " [   1    1    4    5    6]\n",
      " [ 421 1054    0 3487    2]\n",
      " [ 151  277    2  418 1311]]\n",
      "\n",
      "Classification Report:\n",
      "              precision    recall  f1-score   support\n",
      "\n",
      "           0       0.13      0.18      0.15       597\n",
      "           1       0.30      0.38      0.33      1676\n",
      "           2       0.67      0.24      0.35        17\n",
      "           3       0.68      0.70      0.69      4964\n",
      "           4       0.99      0.61      0.75      2159\n",
      "\n",
      "    accuracy                           0.59      9413\n",
      "   macro avg       0.55      0.42      0.46      9413\n",
      "weighted avg       0.65      0.59      0.61      9413\n",
      "\n",
      "Accuracy: 0.5887602252204398\n"
     ]
    }
   ],
   "source": [
    "xgb_model = XGBClassifier(eval_metric='mlogloss', enable_categorical=True, random_state=42)  \n",
    "xgb_model.fit(X_train,y_train)\n",
    "y_pred = xgb_model.predict(X_test_imputed)\n",
    "\n",
    "evaluate_model(y_test, y_pred, \"XGBoost\")"
   ]
  },
  {
   "cell_type": "markdown",
   "metadata": {},
   "source": [
    "## Using Autoencoder embeddings learnt"
   ]
  },
  {
   "cell_type": "code",
   "execution_count": null,
   "metadata": {},
   "outputs": [],
   "source": [
    "# Function to impute values based on learned embeddings\n",
    "def impute_with_embeddings_model(model, X_masked, mask_value='mask'):\n",
    "    \"\"\"\n",
    "    Impute masked values in the dataset using the reconstructed output from a trained autoencoder.\n",
    "\n",
    "    Args:\n",
    "        autoencoder_model (nn.Module): Trained autoencoder model.\n",
    "        X_masked (np.ndarray): Dataset with masked values ('mask').\n",
    "        mask_value: The value indicating masked entries.\n",
    "\n",
    "    Returns:\n",
    "        np.ndarray: Dataset with imputed values.\n",
    "    \"\"\"\n",
    "    # Identify masked entries\n",
    "    mask = (X_masked == mask_value)\n",
    "    \n",
    "    # Replace 'mask' with a placeholder value (e.g., 0) for tensor compatibility\n",
    "    X_numeric = np.where(mask, 0, X_masked).astype(float)\n",
    "\n",
    "    # Convert to PyTorch tensor\n",
    "    X_tensor = torch.FloatTensor(X_numeric)\n",
    "    \n",
    "    # Ensure the autoencoder is in evaluation mode\n",
    "    model.eval()\n",
    "\n",
    "    with torch.no_grad():\n",
    "        # Get reconstructed output\n",
    "        if model in [Autoencoder_model, SimCLR_model]:\n",
    "            embeddings, reconstructed = model(X_tensor)\n",
    "            \n",
    "        if model in [LSTM_model]:\n",
    "            embeddings,reconstructed = model(X_tensor.unsqueeze(1))\n",
    "            reconstructed = reconstructed.squeeze(1)\n",
    "        \n",
    "        print(embeddings.shape,reconstructed.shape)\n",
    "        \n",
    "        # Replace masked values with the corresponding values from the reconstruction\n",
    "        reconstructed_np = reconstructed.numpy()\n",
    "        X_imputed = X_numeric.copy()\n",
    "        X_imputed[mask] = reconstructed_np[mask]\n",
    "        return embeddings, X_imputed"
   ]
  },
  {
   "cell_type": "code",
   "execution_count": 112,
   "metadata": {},
   "outputs": [
    {
     "data": {
      "text/plain": [
       "torch.Size([37648, 32])"
      ]
     },
     "execution_count": 112,
     "metadata": {},
     "output_type": "execute_result"
    }
   ],
   "source": [
    "Autoencoder_train_embeddings_torch = torch.tensor(Autoencoder_train_embeddings).float()\n",
    "Autoencoder_train_embeddings_torch.shape"
   ]
  },
  {
   "cell_type": "code",
   "execution_count": 113,
   "metadata": {},
   "outputs": [
    {
     "name": "stdout",
     "output_type": "stream",
     "text": [
      "(37648, 8) (37648,)\n"
     ]
    }
   ],
   "source": [
    "print(X_train.shape, y_train.shape)"
   ]
  },
  {
   "cell_type": "code",
   "execution_count": 114,
   "metadata": {},
   "outputs": [
    {
     "data": {
      "text/html": [
       "<div>\n",
       "<style scoped>\n",
       "    .dataframe tbody tr th:only-of-type {\n",
       "        vertical-align: middle;\n",
       "    }\n",
       "\n",
       "    .dataframe tbody tr th {\n",
       "        vertical-align: top;\n",
       "    }\n",
       "\n",
       "    .dataframe thead th {\n",
       "        text-align: right;\n",
       "    }\n",
       "</style>\n",
       "<table border=\"1\" class=\"dataframe\">\n",
       "  <thead>\n",
       "    <tr style=\"text-align: right;\">\n",
       "      <th></th>\n",
       "      <th>Open</th>\n",
       "      <th>High</th>\n",
       "      <th>Low</th>\n",
       "      <th>Close</th>\n",
       "      <th>Adj Close</th>\n",
       "      <th>Volume</th>\n",
       "      <th>Daily Return</th>\n",
       "      <th>Volatility</th>\n",
       "    </tr>\n",
       "    <tr>\n",
       "      <th>Date</th>\n",
       "      <th></th>\n",
       "      <th></th>\n",
       "      <th></th>\n",
       "      <th></th>\n",
       "      <th></th>\n",
       "      <th></th>\n",
       "      <th></th>\n",
       "      <th></th>\n",
       "    </tr>\n",
       "  </thead>\n",
       "  <tbody>\n",
       "    <tr>\n",
       "      <th>2020-12-07</th>\n",
       "      <td>1.132704</td>\n",
       "      <td>1.164829</td>\n",
       "      <td>1.141837</td>\n",
       "      <td>1.129477</td>\n",
       "      <td>1.231870</td>\n",
       "      <td>-0.124233</td>\n",
       "      <td>1.164054</td>\n",
       "      <td>2.639256</td>\n",
       "    </tr>\n",
       "    <tr>\n",
       "      <th>2018-01-02</th>\n",
       "      <td>0.537889</td>\n",
       "      <td>0.541485</td>\n",
       "      <td>0.548416</td>\n",
       "      <td>0.555361</td>\n",
       "      <td>0.645903</td>\n",
       "      <td>-0.406398</td>\n",
       "      <td>0.678384</td>\n",
       "      <td>0.254991</td>\n",
       "    </tr>\n",
       "    <tr>\n",
       "      <th>2018-05-22</th>\n",
       "      <td>0.418356</td>\n",
       "      <td>0.405399</td>\n",
       "      <td>0.417643</td>\n",
       "      <td>0.404023</td>\n",
       "      <td>0.364531</td>\n",
       "      <td>-0.307692</td>\n",
       "      <td>-0.418183</td>\n",
       "      <td>-0.874581</td>\n",
       "    </tr>\n",
       "    <tr>\n",
       "      <th>2019-11-01</th>\n",
       "      <td>-0.569142</td>\n",
       "      <td>-0.571749</td>\n",
       "      <td>-0.565413</td>\n",
       "      <td>-0.569134</td>\n",
       "      <td>-0.548160</td>\n",
       "      <td>-0.363614</td>\n",
       "      <td>0.464335</td>\n",
       "      <td>-0.854902</td>\n",
       "    </tr>\n",
       "    <tr>\n",
       "      <th>2020-09-17</th>\n",
       "      <td>2.048331</td>\n",
       "      <td>2.057617</td>\n",
       "      <td>2.074713</td>\n",
       "      <td>2.070545</td>\n",
       "      <td>1.989753</td>\n",
       "      <td>-0.400307</td>\n",
       "      <td>-0.487292</td>\n",
       "      <td>-0.175093</td>\n",
       "    </tr>\n",
       "    <tr>\n",
       "      <th>...</th>\n",
       "      <td>...</td>\n",
       "      <td>...</td>\n",
       "      <td>...</td>\n",
       "      <td>...</td>\n",
       "      <td>...</td>\n",
       "      <td>...</td>\n",
       "      <td>...</td>\n",
       "      <td>...</td>\n",
       "    </tr>\n",
       "    <tr>\n",
       "      <th>2017-07-21</th>\n",
       "      <td>-0.905333</td>\n",
       "      <td>-0.905334</td>\n",
       "      <td>-0.906114</td>\n",
       "      <td>-0.905800</td>\n",
       "      <td>-0.881253</td>\n",
       "      <td>0.174981</td>\n",
       "      <td>-0.346347</td>\n",
       "      <td>-0.354157</td>\n",
       "    </tr>\n",
       "    <tr>\n",
       "      <th>2021-10-11</th>\n",
       "      <td>1.018773</td>\n",
       "      <td>1.052161</td>\n",
       "      <td>1.028718</td>\n",
       "      <td>1.018205</td>\n",
       "      <td>1.118301</td>\n",
       "      <td>-0.361947</td>\n",
       "      <td>-0.031343</td>\n",
       "      <td>0.160355</td>\n",
       "    </tr>\n",
       "    <tr>\n",
       "      <th>2020-11-05</th>\n",
       "      <td>0.013236</td>\n",
       "      <td>0.012000</td>\n",
       "      <td>0.019086</td>\n",
       "      <td>0.018463</td>\n",
       "      <td>0.059222</td>\n",
       "      <td>-0.327078</td>\n",
       "      <td>1.555745</td>\n",
       "      <td>0.333144</td>\n",
       "    </tr>\n",
       "    <tr>\n",
       "      <th>2016-05-27</th>\n",
       "      <td>-0.781571</td>\n",
       "      <td>-0.778977</td>\n",
       "      <td>-0.779558</td>\n",
       "      <td>-0.776868</td>\n",
       "      <td>-0.714722</td>\n",
       "      <td>-0.109991</td>\n",
       "      <td>0.701120</td>\n",
       "      <td>-0.511509</td>\n",
       "    </tr>\n",
       "    <tr>\n",
       "      <th>2017-09-13</th>\n",
       "      <td>-0.643767</td>\n",
       "      <td>-0.646235</td>\n",
       "      <td>-0.642073</td>\n",
       "      <td>-0.643189</td>\n",
       "      <td>-0.671110</td>\n",
       "      <td>-0.313138</td>\n",
       "      <td>-0.154925</td>\n",
       "      <td>-0.571510</td>\n",
       "    </tr>\n",
       "  </tbody>\n",
       "</table>\n",
       "<p>37648 rows × 8 columns</p>\n",
       "</div>"
      ],
      "text/plain": [
       "                Open      High       Low     Close  Adj Close    Volume  \\\n",
       "Date                                                                      \n",
       "2020-12-07  1.132704  1.164829  1.141837  1.129477   1.231870 -0.124233   \n",
       "2018-01-02  0.537889  0.541485  0.548416  0.555361   0.645903 -0.406398   \n",
       "2018-05-22  0.418356  0.405399  0.417643  0.404023   0.364531 -0.307692   \n",
       "2019-11-01 -0.569142 -0.571749 -0.565413 -0.569134  -0.548160 -0.363614   \n",
       "2020-09-17  2.048331  2.057617  2.074713  2.070545   1.989753 -0.400307   \n",
       "...              ...       ...       ...       ...        ...       ...   \n",
       "2017-07-21 -0.905333 -0.905334 -0.906114 -0.905800  -0.881253  0.174981   \n",
       "2021-10-11  1.018773  1.052161  1.028718  1.018205   1.118301 -0.361947   \n",
       "2020-11-05  0.013236  0.012000  0.019086  0.018463   0.059222 -0.327078   \n",
       "2016-05-27 -0.781571 -0.778977 -0.779558 -0.776868  -0.714722 -0.109991   \n",
       "2017-09-13 -0.643767 -0.646235 -0.642073 -0.643189  -0.671110 -0.313138   \n",
       "\n",
       "            Daily Return  Volatility  \n",
       "Date                                  \n",
       "2020-12-07      1.164054    2.639256  \n",
       "2018-01-02      0.678384    0.254991  \n",
       "2018-05-22     -0.418183   -0.874581  \n",
       "2019-11-01      0.464335   -0.854902  \n",
       "2020-09-17     -0.487292   -0.175093  \n",
       "...                  ...         ...  \n",
       "2017-07-21     -0.346347   -0.354157  \n",
       "2021-10-11     -0.031343    0.160355  \n",
       "2020-11-05      1.555745    0.333144  \n",
       "2016-05-27      0.701120   -0.511509  \n",
       "2017-09-13     -0.154925   -0.571510  \n",
       "\n",
       "[37648 rows x 8 columns]"
      ]
     },
     "execution_count": 114,
     "metadata": {},
     "output_type": "execute_result"
    }
   ],
   "source": [
    "X_train"
   ]
  },
  {
   "cell_type": "code",
   "execution_count": 117,
   "metadata": {},
   "outputs": [
    {
     "data": {
      "text/plain": [
       "array([['mask', 'mask', '0.4687814077069574', ..., 'mask',\n",
       "        '-0.18916643934774724', 'mask'],\n",
       "       ['mask', '-0.8883118008364503', '-0.8911466603991057', ...,\n",
       "        '0.5356961710888082', '0.05719476663244477', 'mask'],\n",
       "       ['2.167008925881267', '2.217403290839459', '2.148110989488955',\n",
       "        ..., '-0.30917346394838463', '0.7524786646824694', 'mask'],\n",
       "       ...,\n",
       "       ['mask', 'mask', '0.08077871334859014', ..., 'mask', 'mask',\n",
       "        '0.024253709411664225'],\n",
       "       ['mask', '-0.6605298809145265', '-0.6576158980820483', ...,\n",
       "        'mask', '0.08959588123326918', 'mask'],\n",
       "       ['mask', '-0.9683458261449942', 'mask', ..., '0.1768543120075158',\n",
       "        '0.31748240416549', '0.15659891280728302']], dtype='<U32')"
      ]
     },
     "execution_count": 117,
     "metadata": {},
     "output_type": "execute_result"
    }
   ],
   "source": [
    "X_test_masked"
   ]
  },
  {
   "cell_type": "code",
   "execution_count": null,
   "metadata": {},
   "outputs": [
    {
     "name": "stdout",
     "output_type": "stream",
     "text": [
      "torch.Size([9413, 32]) torch.Size([9413, 8])\n"
     ]
    },
    {
     "data": {
      "text/plain": [
       "tensor([[0.0000, 0.3165, 0.0000,  ..., 1.2522, 0.0000, 0.0000],\n",
       "        [3.3482, 0.0000, 2.7171,  ..., 1.3681, 2.6830, 1.6545],\n",
       "        [0.0000, 0.8020, 0.0000,  ..., 2.3257, 0.0000, 0.0000],\n",
       "        ...,\n",
       "        [0.2587, 0.3291, 0.0000,  ..., 1.2385, 0.1877, 0.1982],\n",
       "        [1.7877, 0.1837, 1.3451,  ..., 1.8065, 2.0545, 0.8136],\n",
       "        [2.0430, 0.0000, 1.7413,  ..., 0.2560, 1.2775, 1.5757]])"
      ]
     },
     "execution_count": 118,
     "metadata": {},
     "output_type": "execute_result"
    }
   ],
   "source": [
    "# Get imputed X_test and full embeddings\n",
    "embeddings, X_test_imputed = impute_with_embeddings_model(Autoencoder_model,X_test_masked, mask_value='mask')\n",
    "X_test = torch.tensor(X_test_imputed).float()\n",
    "Autoencoder_test_embeddings_torch = torch.tensor(embeddings).float()\n",
    "\n",
    "Autoencoder_test_embeddings_torch"
   ]
  },
  {
   "cell_type": "markdown",
   "metadata": {},
   "source": [
    "### Models on imputed X_test only"
   ]
  },
  {
   "cell_type": "code",
   "execution_count": null,
   "metadata": {},
   "outputs": [
    {
     "name": "stdout",
     "output_type": "stream",
     "text": [
      "Evaluation for Logistic Regression:\n",
      "Confusion Matrix:\n",
      "[[ 319  229    0   47    2]\n",
      " [ 756  653    0  265    2]\n",
      " [   3    1    9    0    4]\n",
      " [2003 1563    0 1395    3]\n",
      " [ 525  393    5   25 1211]]\n",
      "\n",
      "Classification Report:\n",
      "              precision    recall  f1-score   support\n",
      "\n",
      "           0       0.09      0.53      0.15       597\n",
      "           1       0.23      0.39      0.29      1676\n",
      "           2       0.64      0.53      0.58        17\n",
      "           3       0.81      0.28      0.42      4964\n",
      "           4       0.99      0.56      0.72      2159\n",
      "\n",
      "    accuracy                           0.38      9413\n",
      "   macro avg       0.55      0.46      0.43      9413\n",
      "weighted avg       0.70      0.38      0.45      9413\n",
      "\n",
      "Accuracy: 0.3810687347285669\n"
     ]
    }
   ],
   "source": [
    "log_reg = LogisticRegression(max_iter=1000, class_weight='balanced')\n",
    "log_reg.fit(X_train, y_train)\n",
    "y_pred = log_reg.predict(X_test)\n",
    "\n",
    "# Evaluate the model\n",
    "evaluate_model(y_test, y_pred, \"Logistic Regression\")"
   ]
  },
  {
   "cell_type": "code",
   "execution_count": null,
   "metadata": {},
   "outputs": [
    {
     "name": "stdout",
     "output_type": "stream",
     "text": [
      "Evaluation for Random Forest:\n",
      "Confusion Matrix:\n",
      "[[  40   17    0  540    0]\n",
      " [  29  187    0 1460    0]\n",
      " [   0    0   11    2    4]\n",
      " [  81  156    0 4727    0]\n",
      " [  28   61    0  750 1320]]\n",
      "\n",
      "Classification Report:\n",
      "              precision    recall  f1-score   support\n",
      "\n",
      "           0       0.22      0.07      0.10       597\n",
      "           1       0.44      0.11      0.18      1676\n",
      "           2       1.00      0.65      0.79        17\n",
      "           3       0.63      0.95      0.76      4964\n",
      "           4       1.00      0.61      0.76      2159\n",
      "\n",
      "    accuracy                           0.67      9413\n",
      "   macro avg       0.66      0.48      0.52      9413\n",
      "weighted avg       0.66      0.67      0.61      9413\n",
      "\n",
      "Accuracy: 0.6676936152130033\n"
     ]
    }
   ],
   "source": [
    "rf_model = RandomForestClassifier(class_weight='balanced', random_state=42)\n",
    "rf_model.fit(X_train, y_train)\n",
    "y_pred = rf_model.predict(X_test.numpy())\n",
    "\n",
    "evaluate_model(y_test, y_pred, \"Random Forest\")"
   ]
  },
  {
   "cell_type": "code",
   "execution_count": null,
   "metadata": {},
   "outputs": [
    {
     "name": "stdout",
     "output_type": "stream",
     "text": [
      "Evaluation for XGBoost:\n",
      "Confusion Matrix:\n",
      "[[ 133  138    0  326    0]\n",
      " [ 234  577    0  864    1]\n",
      " [   1    1    4    5    6]\n",
      " [ 523  944    0 3495    2]\n",
      " [ 185  259    3  399 1313]]\n",
      "\n",
      "Classification Report:\n",
      "              precision    recall  f1-score   support\n",
      "\n",
      "           0       0.12      0.22      0.16       597\n",
      "           1       0.30      0.34      0.32      1676\n",
      "           2       0.57      0.24      0.33        17\n",
      "           3       0.69      0.70      0.70      4964\n",
      "           4       0.99      0.61      0.75      2159\n",
      "\n",
      "    accuracy                           0.59      9413\n",
      "   macro avg       0.54      0.42      0.45      9413\n",
      "weighted avg       0.65      0.59      0.61      9413\n",
      "\n",
      "Accuracy: 0.5866355040900881\n"
     ]
    }
   ],
   "source": [
    "xgb_model = XGBClassifier(eval_metric='mlogloss', enable_categorical=True, random_state=42)  \n",
    "xgb_model.fit(X_train, y_train)\n",
    "y_pred = xgb_model.predict(X_test.numpy())\n",
    "\n",
    "evaluate_model(y_test, y_pred, \"XGBoost\")"
   ]
  },
  {
   "cell_type": "markdown",
   "metadata": {},
   "source": [
    "### Models on imputed X_test and embediings combined"
   ]
  },
  {
   "cell_type": "code",
   "execution_count": 123,
   "metadata": {},
   "outputs": [
    {
     "name": "stdout",
     "output_type": "stream",
     "text": [
      "torch.Size([37648, 40]) torch.Size([9413, 40])\n"
     ]
    }
   ],
   "source": [
    "concatenated_train_tensor = torch.cat((X_train_tensor, Autoencoder_train_embeddings_torch), dim=1)\n",
    "concatenated_test_tensor = torch.cat((X_test_tensor, Autoencoder_test_embeddings_torch), dim=1)\n",
    "print(concatenated_train_tensor.shape, concatenated_test_tensor.shape)"
   ]
  },
  {
   "cell_type": "code",
   "execution_count": null,
   "metadata": {},
   "outputs": [
    {
     "name": "stdout",
     "output_type": "stream",
     "text": [
      "Evaluation for Logistic Regression:\n",
      "Confusion Matrix:\n",
      "[[ 377  148    0   64    8]\n",
      " [ 863  532    0  268   13]\n",
      " [   0    0   10    0    7]\n",
      " [1893 1422    0 1634   15]\n",
      " [ 403  267    8    4 1477]]\n",
      "\n",
      "Classification Report:\n",
      "              precision    recall  f1-score   support\n",
      "\n",
      "           0       0.11      0.63      0.18       597\n",
      "           1       0.22      0.32      0.26      1676\n",
      "           2       0.56      0.59      0.57        17\n",
      "           3       0.83      0.33      0.47      4964\n",
      "           4       0.97      0.68      0.80      2159\n",
      "\n",
      "    accuracy                           0.43      9413\n",
      "   macro avg       0.54      0.51      0.46      9413\n",
      "weighted avg       0.71      0.43      0.49      9413\n",
      "\n",
      "Accuracy: 0.42813130776585573\n"
     ]
    }
   ],
   "source": [
    "log_reg = LogisticRegression(max_iter=1000, class_weight='balanced')\n",
    "log_reg.fit(concatenated_train_tensor.numpy(), y_train)\n",
    "y_pred = log_reg.predict(concatenated_test_tensor.numpy())\n",
    "\n",
    "evaluate_model(y_test, y_pred, \"Logistic Regression\")"
   ]
  },
  {
   "cell_type": "code",
   "execution_count": null,
   "metadata": {},
   "outputs": [
    {
     "name": "stdout",
     "output_type": "stream",
     "text": [
      "Evaluation for Random Forest:\n",
      "Confusion Matrix:\n",
      "[[  16   16    0  564    1]\n",
      " [   6  114    0 1555    1]\n",
      " [   0    0   11    0    6]\n",
      " [  16   93    0 4849    6]\n",
      " [   0    0    0   12 2147]]\n",
      "\n",
      "Classification Report:\n",
      "              precision    recall  f1-score   support\n",
      "\n",
      "           0       0.42      0.03      0.05       597\n",
      "           1       0.51      0.07      0.12      1676\n",
      "           2       1.00      0.65      0.79        17\n",
      "           3       0.69      0.98      0.81      4964\n",
      "           4       0.99      0.99      0.99      2159\n",
      "\n",
      "    accuracy                           0.76      9413\n",
      "   macro avg       0.72      0.54      0.55      9413\n",
      "weighted avg       0.71      0.76      0.68      9413\n",
      "\n",
      "Accuracy: 0.7582067353659833\n"
     ]
    }
   ],
   "source": [
    "rf_model = RandomForestClassifier(class_weight='balanced', random_state=42)\n",
    "rf_model.fit(concatenated_train_tensor.numpy(), y_train)\n",
    "y_pred = rf_model.predict(concatenated_test_tensor.numpy())\n",
    "\n",
    "evaluate_model(y_test, y_pred, \"Random Forest\")"
   ]
  },
  {
   "cell_type": "code",
   "execution_count": null,
   "metadata": {},
   "outputs": [
    {
     "name": "stdout",
     "output_type": "stream",
     "text": [
      "Evaluation for XGBoost:\n",
      "Confusion Matrix:\n",
      "[[  80  162    0  355    0]\n",
      " [ 113  555    0 1004    4]\n",
      " [   0    0    7    0   10]\n",
      " [ 226 1058    0 3677    3]\n",
      " [   0    3    1    1 2154]]\n",
      "\n",
      "Classification Report:\n",
      "              precision    recall  f1-score   support\n",
      "\n",
      "           0       0.19      0.13      0.16       597\n",
      "           1       0.31      0.33      0.32      1676\n",
      "           2       0.88      0.41      0.56        17\n",
      "           3       0.73      0.74      0.74      4964\n",
      "           4       0.99      1.00      0.99      2159\n",
      "\n",
      "    accuracy                           0.69      9413\n",
      "   macro avg       0.62      0.52      0.55      9413\n",
      "weighted avg       0.68      0.69      0.68      9413\n",
      "\n",
      "Accuracy: 0.6876659938383087\n"
     ]
    }
   ],
   "source": [
    "xgb_model = XGBClassifier(eval_metric='mlogloss', enable_categorical=True, random_state=42)  \n",
    "xgb_model.fit(concatenated_train_tensor.numpy(), y_train)\n",
    "y_pred = xgb_model.predict(concatenated_test_tensor.numpy())\n",
    "\n",
    "evaluate_model(y_test, y_pred, \"XGBoost\")"
   ]
  },
  {
   "cell_type": "markdown",
   "metadata": {},
   "source": [
    "## Using LSTM encodings learnt"
   ]
  },
  {
   "cell_type": "code",
   "execution_count": 127,
   "metadata": {},
   "outputs": [
    {
     "data": {
      "text/plain": [
       "torch.Size([37648, 64])"
      ]
     },
     "execution_count": 127,
     "metadata": {},
     "output_type": "execute_result"
    }
   ],
   "source": [
    "LSTM_train_embeddings_torch = torch.tensor(LSTM_train_embeddings).float()\n",
    "LSTM_train_embeddings_torch.shape"
   ]
  },
  {
   "cell_type": "code",
   "execution_count": 128,
   "metadata": {},
   "outputs": [
    {
     "name": "stdout",
     "output_type": "stream",
     "text": [
      "(37648, 8) (37648,)\n"
     ]
    }
   ],
   "source": [
    "print(X_train.shape, y_train.shape)"
   ]
  },
  {
   "cell_type": "code",
   "execution_count": 130,
   "metadata": {},
   "outputs": [
    {
     "data": {
      "text/html": [
       "<div>\n",
       "<style scoped>\n",
       "    .dataframe tbody tr th:only-of-type {\n",
       "        vertical-align: middle;\n",
       "    }\n",
       "\n",
       "    .dataframe tbody tr th {\n",
       "        vertical-align: top;\n",
       "    }\n",
       "\n",
       "    .dataframe thead th {\n",
       "        text-align: right;\n",
       "    }\n",
       "</style>\n",
       "<table border=\"1\" class=\"dataframe\">\n",
       "  <thead>\n",
       "    <tr style=\"text-align: right;\">\n",
       "      <th></th>\n",
       "      <th>Open</th>\n",
       "      <th>High</th>\n",
       "      <th>Low</th>\n",
       "      <th>Close</th>\n",
       "      <th>Adj Close</th>\n",
       "      <th>Volume</th>\n",
       "      <th>Daily Return</th>\n",
       "      <th>Volatility</th>\n",
       "    </tr>\n",
       "    <tr>\n",
       "      <th>Date</th>\n",
       "      <th></th>\n",
       "      <th></th>\n",
       "      <th></th>\n",
       "      <th></th>\n",
       "      <th></th>\n",
       "      <th></th>\n",
       "      <th></th>\n",
       "      <th></th>\n",
       "    </tr>\n",
       "  </thead>\n",
       "  <tbody>\n",
       "    <tr>\n",
       "      <th>2020-12-07</th>\n",
       "      <td>1.132704</td>\n",
       "      <td>1.164829</td>\n",
       "      <td>1.141837</td>\n",
       "      <td>1.129477</td>\n",
       "      <td>1.231870</td>\n",
       "      <td>-0.124233</td>\n",
       "      <td>1.164054</td>\n",
       "      <td>2.639256</td>\n",
       "    </tr>\n",
       "    <tr>\n",
       "      <th>2018-01-02</th>\n",
       "      <td>0.537889</td>\n",
       "      <td>0.541485</td>\n",
       "      <td>0.548416</td>\n",
       "      <td>0.555361</td>\n",
       "      <td>0.645903</td>\n",
       "      <td>-0.406398</td>\n",
       "      <td>0.678384</td>\n",
       "      <td>0.254991</td>\n",
       "    </tr>\n",
       "    <tr>\n",
       "      <th>2018-05-22</th>\n",
       "      <td>0.418356</td>\n",
       "      <td>0.405399</td>\n",
       "      <td>0.417643</td>\n",
       "      <td>0.404023</td>\n",
       "      <td>0.364531</td>\n",
       "      <td>-0.307692</td>\n",
       "      <td>-0.418183</td>\n",
       "      <td>-0.874581</td>\n",
       "    </tr>\n",
       "    <tr>\n",
       "      <th>2019-11-01</th>\n",
       "      <td>-0.569142</td>\n",
       "      <td>-0.571749</td>\n",
       "      <td>-0.565413</td>\n",
       "      <td>-0.569134</td>\n",
       "      <td>-0.548160</td>\n",
       "      <td>-0.363614</td>\n",
       "      <td>0.464335</td>\n",
       "      <td>-0.854902</td>\n",
       "    </tr>\n",
       "    <tr>\n",
       "      <th>2020-09-17</th>\n",
       "      <td>2.048331</td>\n",
       "      <td>2.057617</td>\n",
       "      <td>2.074713</td>\n",
       "      <td>2.070545</td>\n",
       "      <td>1.989753</td>\n",
       "      <td>-0.400307</td>\n",
       "      <td>-0.487292</td>\n",
       "      <td>-0.175093</td>\n",
       "    </tr>\n",
       "    <tr>\n",
       "      <th>...</th>\n",
       "      <td>...</td>\n",
       "      <td>...</td>\n",
       "      <td>...</td>\n",
       "      <td>...</td>\n",
       "      <td>...</td>\n",
       "      <td>...</td>\n",
       "      <td>...</td>\n",
       "      <td>...</td>\n",
       "    </tr>\n",
       "    <tr>\n",
       "      <th>2017-07-21</th>\n",
       "      <td>-0.905333</td>\n",
       "      <td>-0.905334</td>\n",
       "      <td>-0.906114</td>\n",
       "      <td>-0.905800</td>\n",
       "      <td>-0.881253</td>\n",
       "      <td>0.174981</td>\n",
       "      <td>-0.346347</td>\n",
       "      <td>-0.354157</td>\n",
       "    </tr>\n",
       "    <tr>\n",
       "      <th>2021-10-11</th>\n",
       "      <td>1.018773</td>\n",
       "      <td>1.052161</td>\n",
       "      <td>1.028718</td>\n",
       "      <td>1.018205</td>\n",
       "      <td>1.118301</td>\n",
       "      <td>-0.361947</td>\n",
       "      <td>-0.031343</td>\n",
       "      <td>0.160355</td>\n",
       "    </tr>\n",
       "    <tr>\n",
       "      <th>2020-11-05</th>\n",
       "      <td>0.013236</td>\n",
       "      <td>0.012000</td>\n",
       "      <td>0.019086</td>\n",
       "      <td>0.018463</td>\n",
       "      <td>0.059222</td>\n",
       "      <td>-0.327078</td>\n",
       "      <td>1.555745</td>\n",
       "      <td>0.333144</td>\n",
       "    </tr>\n",
       "    <tr>\n",
       "      <th>2016-05-27</th>\n",
       "      <td>-0.781571</td>\n",
       "      <td>-0.778977</td>\n",
       "      <td>-0.779558</td>\n",
       "      <td>-0.776868</td>\n",
       "      <td>-0.714722</td>\n",
       "      <td>-0.109991</td>\n",
       "      <td>0.701120</td>\n",
       "      <td>-0.511509</td>\n",
       "    </tr>\n",
       "    <tr>\n",
       "      <th>2017-09-13</th>\n",
       "      <td>-0.643767</td>\n",
       "      <td>-0.646235</td>\n",
       "      <td>-0.642073</td>\n",
       "      <td>-0.643189</td>\n",
       "      <td>-0.671110</td>\n",
       "      <td>-0.313138</td>\n",
       "      <td>-0.154925</td>\n",
       "      <td>-0.571510</td>\n",
       "    </tr>\n",
       "  </tbody>\n",
       "</table>\n",
       "<p>37648 rows × 8 columns</p>\n",
       "</div>"
      ],
      "text/plain": [
       "                Open      High       Low     Close  Adj Close    Volume  \\\n",
       "Date                                                                      \n",
       "2020-12-07  1.132704  1.164829  1.141837  1.129477   1.231870 -0.124233   \n",
       "2018-01-02  0.537889  0.541485  0.548416  0.555361   0.645903 -0.406398   \n",
       "2018-05-22  0.418356  0.405399  0.417643  0.404023   0.364531 -0.307692   \n",
       "2019-11-01 -0.569142 -0.571749 -0.565413 -0.569134  -0.548160 -0.363614   \n",
       "2020-09-17  2.048331  2.057617  2.074713  2.070545   1.989753 -0.400307   \n",
       "...              ...       ...       ...       ...        ...       ...   \n",
       "2017-07-21 -0.905333 -0.905334 -0.906114 -0.905800  -0.881253  0.174981   \n",
       "2021-10-11  1.018773  1.052161  1.028718  1.018205   1.118301 -0.361947   \n",
       "2020-11-05  0.013236  0.012000  0.019086  0.018463   0.059222 -0.327078   \n",
       "2016-05-27 -0.781571 -0.778977 -0.779558 -0.776868  -0.714722 -0.109991   \n",
       "2017-09-13 -0.643767 -0.646235 -0.642073 -0.643189  -0.671110 -0.313138   \n",
       "\n",
       "            Daily Return  Volatility  \n",
       "Date                                  \n",
       "2020-12-07      1.164054    2.639256  \n",
       "2018-01-02      0.678384    0.254991  \n",
       "2018-05-22     -0.418183   -0.874581  \n",
       "2019-11-01      0.464335   -0.854902  \n",
       "2020-09-17     -0.487292   -0.175093  \n",
       "...                  ...         ...  \n",
       "2017-07-21     -0.346347   -0.354157  \n",
       "2021-10-11     -0.031343    0.160355  \n",
       "2020-11-05      1.555745    0.333144  \n",
       "2016-05-27      0.701120   -0.511509  \n",
       "2017-09-13     -0.154925   -0.571510  \n",
       "\n",
       "[37648 rows x 8 columns]"
      ]
     },
     "execution_count": 130,
     "metadata": {},
     "output_type": "execute_result"
    }
   ],
   "source": [
    "X_train"
   ]
  },
  {
   "cell_type": "code",
   "execution_count": null,
   "metadata": {},
   "outputs": [
    {
     "name": "stdout",
     "output_type": "stream",
     "text": [
      "torch.Size([9413, 64]) torch.Size([9413, 8])\n"
     ]
    },
    {
     "data": {
      "text/plain": [
       "tensor([[-0.8340, -0.4546, -0.4433,  ..., -0.3011, -0.5738,  0.0949],\n",
       "        [ 1.3326, -0.0700, -0.7338,  ...,  0.6375, -0.7418, -1.1679],\n",
       "        [ 0.5628,  0.7459,  0.3960,  ...,  0.1326,  0.2207, -0.8833],\n",
       "        ...,\n",
       "        [ 0.1167, -0.0682,  0.4032,  ..., -0.2407, -0.2629, -0.1185],\n",
       "        [-0.0032, -0.0210, -0.1851,  ..., -0.0285,  0.1032,  0.0930],\n",
       "        [ 0.8719, -0.7049, -0.5956,  ..., -0.2326,  0.5511,  0.8713]])"
      ]
     },
     "execution_count": 133,
     "metadata": {},
     "output_type": "execute_result"
    }
   ],
   "source": [
    "# X_test imputed and embeddings from LSTM model\n",
    "embeddings, X_test_imputed = impute_with_embeddings_model(LSTM_model,X_test_masked, mask_value='mask')\n",
    "X_test = torch.tensor(X_test_imputed).float()\n",
    "LSTM_test_embeddings_torch = torch.tensor(embeddings).float()\n",
    "\n",
    "LSTM_test_embeddings_torch"
   ]
  },
  {
   "cell_type": "markdown",
   "metadata": {},
   "source": [
    "### Models on X_test imputed only"
   ]
  },
  {
   "cell_type": "code",
   "execution_count": null,
   "metadata": {},
   "outputs": [
    {
     "name": "stdout",
     "output_type": "stream",
     "text": [
      "Evaluation for Logistic Regression:\n",
      "Confusion Matrix:\n",
      "[[ 298  255    0   42    2]\n",
      " [ 730  713    0  231    2]\n",
      " [   2    2    9    0    4]\n",
      " [1957 1752    0 1250    5]\n",
      " [ 501  443    5   16 1194]]\n",
      "\n",
      "Classification Report:\n",
      "              precision    recall  f1-score   support\n",
      "\n",
      "           0       0.09      0.50      0.15       597\n",
      "           1       0.23      0.43      0.29      1676\n",
      "           2       0.64      0.53      0.58        17\n",
      "           3       0.81      0.25      0.38      4964\n",
      "           4       0.99      0.55      0.71      2159\n",
      "\n",
      "    accuracy                           0.37      9413\n",
      "   macro avg       0.55      0.45      0.42      9413\n",
      "weighted avg       0.70      0.37      0.43      9413\n",
      "\n",
      "Accuracy: 0.3680016997769043\n"
     ]
    }
   ],
   "source": [
    "log_reg = LogisticRegression(max_iter=1000, class_weight='balanced')\n",
    "log_reg.fit(X_train, y_train)\n",
    "y_pred = log_reg.predict(X_test)\n",
    "\n",
    "# Evaluate the model\n",
    "evaluate_model(y_test, y_pred, \"Logistic Regression\")"
   ]
  },
  {
   "cell_type": "code",
   "execution_count": null,
   "metadata": {},
   "outputs": [
    {
     "name": "stdout",
     "output_type": "stream",
     "text": [
      "Evaluation for Random Forest:\n",
      "Confusion Matrix:\n",
      "[[  29   11    0  557    0]\n",
      " [  20  145    0 1511    0]\n",
      " [   0    0   11    2    4]\n",
      " [  45   95    0 4824    0]\n",
      " [  19   52    0  771 1317]]\n",
      "\n",
      "Classification Report:\n",
      "              precision    recall  f1-score   support\n",
      "\n",
      "           0       0.26      0.05      0.08       597\n",
      "           1       0.48      0.09      0.15      1676\n",
      "           2       1.00      0.65      0.79        17\n",
      "           3       0.63      0.97      0.76      4964\n",
      "           4       1.00      0.61      0.76      2159\n",
      "\n",
      "    accuracy                           0.67      9413\n",
      "   macro avg       0.67      0.47      0.51      9413\n",
      "weighted avg       0.66      0.67      0.61      9413\n",
      "\n",
      "Accuracy: 0.6720492935302241\n"
     ]
    }
   ],
   "source": [
    "rf_model = RandomForestClassifier(class_weight='balanced', random_state=42)\n",
    "rf_model.fit(X_train, y_train)\n",
    "y_pred = rf_model.predict(X_test.numpy())\n",
    "evaluate_model(y_test, y_pred, \"Random Forest\")"
   ]
  },
  {
   "cell_type": "code",
   "execution_count": null,
   "metadata": {},
   "outputs": [
    {
     "name": "stdout",
     "output_type": "stream",
     "text": [
      "Evaluation for XGBoost:\n",
      "Confusion Matrix:\n",
      "[[ 106   98    0  392    1]\n",
      " [ 186  415    0 1074    1]\n",
      " [   1    1    5    5    5]\n",
      " [ 443  643    0 3873    5]\n",
      " [ 163  158    2  525 1311]]\n",
      "\n",
      "Classification Report:\n",
      "              precision    recall  f1-score   support\n",
      "\n",
      "           0       0.12      0.18      0.14       597\n",
      "           1       0.32      0.25      0.28      1676\n",
      "           2       0.71      0.29      0.42        17\n",
      "           3       0.66      0.78      0.72      4964\n",
      "           4       0.99      0.61      0.75      2159\n",
      "\n",
      "    accuracy                           0.61      9413\n",
      "   macro avg       0.56      0.42      0.46      9413\n",
      "weighted avg       0.64      0.61      0.61      9413\n",
      "\n",
      "Accuracy: 0.6066078827153936\n"
     ]
    }
   ],
   "source": [
    "xgb_model = XGBClassifier(eval_metric='mlogloss', enable_categorical=True, random_state=42)  \n",
    "xgb_model.fit(X_train, y_train)\n",
    "y_pred = xgb_model.predict(X_test.numpy())\n",
    "evaluate_model(y_test, y_pred, \"XGBoost\")"
   ]
  },
  {
   "cell_type": "markdown",
   "metadata": {},
   "source": [
    "### Models on X_test imputed combined with embeddings"
   ]
  },
  {
   "cell_type": "code",
   "execution_count": 138,
   "metadata": {},
   "outputs": [
    {
     "name": "stdout",
     "output_type": "stream",
     "text": [
      "torch.Size([37648, 40]) torch.Size([9413, 40])\n"
     ]
    }
   ],
   "source": [
    "concatenated_train_tensor = torch.cat((X_train_tensor, Autoencoder_train_embeddings_torch), dim=1)\n",
    "concatenated_test_tensor = torch.cat((X_test_tensor, Autoencoder_test_embeddings_torch), dim=1)\n",
    "print(concatenated_train_tensor.shape, concatenated_test_tensor.shape)"
   ]
  },
  {
   "cell_type": "code",
   "execution_count": 139,
   "metadata": {},
   "outputs": [
    {
     "name": "stdout",
     "output_type": "stream",
     "text": [
      "Evaluation for Logistic Regression:\n",
      "Confusion Matrix:\n",
      "[[ 377  148    0   64    8]\n",
      " [ 863  532    0  268   13]\n",
      " [   0    0   10    0    7]\n",
      " [1893 1422    0 1634   15]\n",
      " [ 403  267    8    4 1477]]\n",
      "\n",
      "Classification Report:\n",
      "              precision    recall  f1-score   support\n",
      "\n",
      "           0       0.11      0.63      0.18       597\n",
      "           1       0.22      0.32      0.26      1676\n",
      "           2       0.56      0.59      0.57        17\n",
      "           3       0.83      0.33      0.47      4964\n",
      "           4       0.97      0.68      0.80      2159\n",
      "\n",
      "    accuracy                           0.43      9413\n",
      "   macro avg       0.54      0.51      0.46      9413\n",
      "weighted avg       0.71      0.43      0.49      9413\n",
      "\n",
      "Accuracy: 0.42813130776585573\n"
     ]
    }
   ],
   "source": [
    "log_reg = LogisticRegression(max_iter=1000, class_weight='balanced')\n",
    "# log_reg.fit(X_train_resampled, y_train_resampled)\n",
    "log_reg.fit(concatenated_train_tensor.numpy(), y_train)\n",
    "y_pred = log_reg.predict(concatenated_test_tensor.numpy())\n",
    "\n",
    "evaluate_model(y_test, y_pred, \"Logistic Regression\")"
   ]
  },
  {
   "cell_type": "code",
   "execution_count": 140,
   "metadata": {},
   "outputs": [
    {
     "name": "stdout",
     "output_type": "stream",
     "text": [
      "Evaluation for Random Forest:\n",
      "Confusion Matrix:\n",
      "[[  16   16    0  564    1]\n",
      " [   6  114    0 1555    1]\n",
      " [   0    0   11    0    6]\n",
      " [  16   93    0 4849    6]\n",
      " [   0    0    0   12 2147]]\n",
      "\n",
      "Classification Report:\n",
      "              precision    recall  f1-score   support\n",
      "\n",
      "           0       0.42      0.03      0.05       597\n",
      "           1       0.51      0.07      0.12      1676\n",
      "           2       1.00      0.65      0.79        17\n",
      "           3       0.69      0.98      0.81      4964\n",
      "           4       0.99      0.99      0.99      2159\n",
      "\n",
      "    accuracy                           0.76      9413\n",
      "   macro avg       0.72      0.54      0.55      9413\n",
      "weighted avg       0.71      0.76      0.68      9413\n",
      "\n",
      "Accuracy: 0.7582067353659833\n"
     ]
    }
   ],
   "source": [
    "rf_model = RandomForestClassifier(class_weight='balanced', random_state=42)\n",
    "# rf_model.fit(X_train_resampled, y_train_resampled)\n",
    "rf_model.fit(concatenated_train_tensor.numpy(), y_train)\n",
    "y_pred = rf_model.predict(concatenated_test_tensor.numpy())\n",
    "evaluate_model(y_test, y_pred, \"Random Forest\")"
   ]
  },
  {
   "cell_type": "code",
   "execution_count": 141,
   "metadata": {},
   "outputs": [
    {
     "name": "stdout",
     "output_type": "stream",
     "text": [
      "Evaluation for XGBoost:\n",
      "Confusion Matrix:\n",
      "[[  80  162    0  355    0]\n",
      " [ 113  555    0 1004    4]\n",
      " [   0    0    7    0   10]\n",
      " [ 226 1058    0 3677    3]\n",
      " [   0    3    1    1 2154]]\n",
      "\n",
      "Classification Report:\n",
      "              precision    recall  f1-score   support\n",
      "\n",
      "           0       0.19      0.13      0.16       597\n",
      "           1       0.31      0.33      0.32      1676\n",
      "           2       0.88      0.41      0.56        17\n",
      "           3       0.73      0.74      0.74      4964\n",
      "           4       0.99      1.00      0.99      2159\n",
      "\n",
      "    accuracy                           0.69      9413\n",
      "   macro avg       0.62      0.52      0.55      9413\n",
      "weighted avg       0.68      0.69      0.68      9413\n",
      "\n",
      "Accuracy: 0.6876659938383087\n"
     ]
    }
   ],
   "source": [
    "xgb_model = XGBClassifier(eval_metric='mlogloss', enable_categorical=True, random_state=42)  \n",
    "# xgb_model.fit(X_train_resampled, y_train_resampled)\n",
    "xgb_model.fit(concatenated_train_tensor.numpy(), y_train)\n",
    "y_pred = xgb_model.predict(concatenated_test_tensor.numpy())\n",
    "evaluate_model(y_test, y_pred, \"XGBoost\")"
   ]
  },
  {
   "cell_type": "markdown",
   "metadata": {},
   "source": [
    "## Using SimCLR encodings learnt"
   ]
  },
  {
   "cell_type": "code",
   "execution_count": 142,
   "metadata": {},
   "outputs": [
    {
     "data": {
      "text/plain": [
       "torch.Size([37648, 64])"
      ]
     },
     "execution_count": 142,
     "metadata": {},
     "output_type": "execute_result"
    }
   ],
   "source": [
    "SimCLR_train_embeddings_torch = torch.tensor(SimCLR_train_embeddings).float()\n",
    "SimCLR_train_embeddings_torch.shape"
   ]
  },
  {
   "cell_type": "code",
   "execution_count": 143,
   "metadata": {},
   "outputs": [
    {
     "name": "stdout",
     "output_type": "stream",
     "text": [
      "(37648, 8) (37648,)\n"
     ]
    }
   ],
   "source": [
    "print(X_train.shape, y_train.shape)"
   ]
  },
  {
   "cell_type": "code",
   "execution_count": 145,
   "metadata": {},
   "outputs": [
    {
     "data": {
      "text/html": [
       "<div>\n",
       "<style scoped>\n",
       "    .dataframe tbody tr th:only-of-type {\n",
       "        vertical-align: middle;\n",
       "    }\n",
       "\n",
       "    .dataframe tbody tr th {\n",
       "        vertical-align: top;\n",
       "    }\n",
       "\n",
       "    .dataframe thead th {\n",
       "        text-align: right;\n",
       "    }\n",
       "</style>\n",
       "<table border=\"1\" class=\"dataframe\">\n",
       "  <thead>\n",
       "    <tr style=\"text-align: right;\">\n",
       "      <th></th>\n",
       "      <th>Open</th>\n",
       "      <th>High</th>\n",
       "      <th>Low</th>\n",
       "      <th>Close</th>\n",
       "      <th>Adj Close</th>\n",
       "      <th>Volume</th>\n",
       "      <th>Daily Return</th>\n",
       "      <th>Volatility</th>\n",
       "    </tr>\n",
       "    <tr>\n",
       "      <th>Date</th>\n",
       "      <th></th>\n",
       "      <th></th>\n",
       "      <th></th>\n",
       "      <th></th>\n",
       "      <th></th>\n",
       "      <th></th>\n",
       "      <th></th>\n",
       "      <th></th>\n",
       "    </tr>\n",
       "  </thead>\n",
       "  <tbody>\n",
       "    <tr>\n",
       "      <th>2020-12-07</th>\n",
       "      <td>1.132704</td>\n",
       "      <td>1.164829</td>\n",
       "      <td>1.141837</td>\n",
       "      <td>1.129477</td>\n",
       "      <td>1.231870</td>\n",
       "      <td>-0.124233</td>\n",
       "      <td>1.164054</td>\n",
       "      <td>2.639256</td>\n",
       "    </tr>\n",
       "    <tr>\n",
       "      <th>2018-01-02</th>\n",
       "      <td>0.537889</td>\n",
       "      <td>0.541485</td>\n",
       "      <td>0.548416</td>\n",
       "      <td>0.555361</td>\n",
       "      <td>0.645903</td>\n",
       "      <td>-0.406398</td>\n",
       "      <td>0.678384</td>\n",
       "      <td>0.254991</td>\n",
       "    </tr>\n",
       "    <tr>\n",
       "      <th>2018-05-22</th>\n",
       "      <td>0.418356</td>\n",
       "      <td>0.405399</td>\n",
       "      <td>0.417643</td>\n",
       "      <td>0.404023</td>\n",
       "      <td>0.364531</td>\n",
       "      <td>-0.307692</td>\n",
       "      <td>-0.418183</td>\n",
       "      <td>-0.874581</td>\n",
       "    </tr>\n",
       "    <tr>\n",
       "      <th>2019-11-01</th>\n",
       "      <td>-0.569142</td>\n",
       "      <td>-0.571749</td>\n",
       "      <td>-0.565413</td>\n",
       "      <td>-0.569134</td>\n",
       "      <td>-0.548160</td>\n",
       "      <td>-0.363614</td>\n",
       "      <td>0.464335</td>\n",
       "      <td>-0.854902</td>\n",
       "    </tr>\n",
       "    <tr>\n",
       "      <th>2020-09-17</th>\n",
       "      <td>2.048331</td>\n",
       "      <td>2.057617</td>\n",
       "      <td>2.074713</td>\n",
       "      <td>2.070545</td>\n",
       "      <td>1.989753</td>\n",
       "      <td>-0.400307</td>\n",
       "      <td>-0.487292</td>\n",
       "      <td>-0.175093</td>\n",
       "    </tr>\n",
       "    <tr>\n",
       "      <th>...</th>\n",
       "      <td>...</td>\n",
       "      <td>...</td>\n",
       "      <td>...</td>\n",
       "      <td>...</td>\n",
       "      <td>...</td>\n",
       "      <td>...</td>\n",
       "      <td>...</td>\n",
       "      <td>...</td>\n",
       "    </tr>\n",
       "    <tr>\n",
       "      <th>2017-07-21</th>\n",
       "      <td>-0.905333</td>\n",
       "      <td>-0.905334</td>\n",
       "      <td>-0.906114</td>\n",
       "      <td>-0.905800</td>\n",
       "      <td>-0.881253</td>\n",
       "      <td>0.174981</td>\n",
       "      <td>-0.346347</td>\n",
       "      <td>-0.354157</td>\n",
       "    </tr>\n",
       "    <tr>\n",
       "      <th>2021-10-11</th>\n",
       "      <td>1.018773</td>\n",
       "      <td>1.052161</td>\n",
       "      <td>1.028718</td>\n",
       "      <td>1.018205</td>\n",
       "      <td>1.118301</td>\n",
       "      <td>-0.361947</td>\n",
       "      <td>-0.031343</td>\n",
       "      <td>0.160355</td>\n",
       "    </tr>\n",
       "    <tr>\n",
       "      <th>2020-11-05</th>\n",
       "      <td>0.013236</td>\n",
       "      <td>0.012000</td>\n",
       "      <td>0.019086</td>\n",
       "      <td>0.018463</td>\n",
       "      <td>0.059222</td>\n",
       "      <td>-0.327078</td>\n",
       "      <td>1.555745</td>\n",
       "      <td>0.333144</td>\n",
       "    </tr>\n",
       "    <tr>\n",
       "      <th>2016-05-27</th>\n",
       "      <td>-0.781571</td>\n",
       "      <td>-0.778977</td>\n",
       "      <td>-0.779558</td>\n",
       "      <td>-0.776868</td>\n",
       "      <td>-0.714722</td>\n",
       "      <td>-0.109991</td>\n",
       "      <td>0.701120</td>\n",
       "      <td>-0.511509</td>\n",
       "    </tr>\n",
       "    <tr>\n",
       "      <th>2017-09-13</th>\n",
       "      <td>-0.643767</td>\n",
       "      <td>-0.646235</td>\n",
       "      <td>-0.642073</td>\n",
       "      <td>-0.643189</td>\n",
       "      <td>-0.671110</td>\n",
       "      <td>-0.313138</td>\n",
       "      <td>-0.154925</td>\n",
       "      <td>-0.571510</td>\n",
       "    </tr>\n",
       "  </tbody>\n",
       "</table>\n",
       "<p>37648 rows × 8 columns</p>\n",
       "</div>"
      ],
      "text/plain": [
       "                Open      High       Low     Close  Adj Close    Volume  \\\n",
       "Date                                                                      \n",
       "2020-12-07  1.132704  1.164829  1.141837  1.129477   1.231870 -0.124233   \n",
       "2018-01-02  0.537889  0.541485  0.548416  0.555361   0.645903 -0.406398   \n",
       "2018-05-22  0.418356  0.405399  0.417643  0.404023   0.364531 -0.307692   \n",
       "2019-11-01 -0.569142 -0.571749 -0.565413 -0.569134  -0.548160 -0.363614   \n",
       "2020-09-17  2.048331  2.057617  2.074713  2.070545   1.989753 -0.400307   \n",
       "...              ...       ...       ...       ...        ...       ...   \n",
       "2017-07-21 -0.905333 -0.905334 -0.906114 -0.905800  -0.881253  0.174981   \n",
       "2021-10-11  1.018773  1.052161  1.028718  1.018205   1.118301 -0.361947   \n",
       "2020-11-05  0.013236  0.012000  0.019086  0.018463   0.059222 -0.327078   \n",
       "2016-05-27 -0.781571 -0.778977 -0.779558 -0.776868  -0.714722 -0.109991   \n",
       "2017-09-13 -0.643767 -0.646235 -0.642073 -0.643189  -0.671110 -0.313138   \n",
       "\n",
       "            Daily Return  Volatility  \n",
       "Date                                  \n",
       "2020-12-07      1.164054    2.639256  \n",
       "2018-01-02      0.678384    0.254991  \n",
       "2018-05-22     -0.418183   -0.874581  \n",
       "2019-11-01      0.464335   -0.854902  \n",
       "2020-09-17     -0.487292   -0.175093  \n",
       "...                  ...         ...  \n",
       "2017-07-21     -0.346347   -0.354157  \n",
       "2021-10-11     -0.031343    0.160355  \n",
       "2020-11-05      1.555745    0.333144  \n",
       "2016-05-27      0.701120   -0.511509  \n",
       "2017-09-13     -0.154925   -0.571510  \n",
       "\n",
       "[37648 rows x 8 columns]"
      ]
     },
     "execution_count": 145,
     "metadata": {},
     "output_type": "execute_result"
    }
   ],
   "source": [
    "X_train"
   ]
  },
  {
   "cell_type": "code",
   "execution_count": 148,
   "metadata": {},
   "outputs": [
    {
     "data": {
      "text/plain": [
       "array([['mask', 'mask', '0.4687814077069574', ..., 'mask',\n",
       "        '-0.18916643934774724', 'mask'],\n",
       "       ['mask', '-0.8883118008364503', '-0.8911466603991057', ...,\n",
       "        '0.5356961710888082', '0.05719476663244477', 'mask'],\n",
       "       ['2.167008925881267', '2.217403290839459', '2.148110989488955',\n",
       "        ..., '-0.30917346394838463', '0.7524786646824694', 'mask'],\n",
       "       ...,\n",
       "       ['mask', 'mask', '0.08077871334859014', ..., 'mask', 'mask',\n",
       "        '0.024253709411664225'],\n",
       "       ['mask', '-0.6605298809145265', '-0.6576158980820483', ...,\n",
       "        'mask', '0.08959588123326918', 'mask'],\n",
       "       ['mask', '-0.9683458261449942', 'mask', ..., '0.1768543120075158',\n",
       "        '0.31748240416549', '0.15659891280728302']], dtype='<U32')"
      ]
     },
     "execution_count": 148,
     "metadata": {},
     "output_type": "execute_result"
    }
   ],
   "source": [
    "X_test_masked"
   ]
  },
  {
   "cell_type": "code",
   "execution_count": null,
   "metadata": {},
   "outputs": [
    {
     "name": "stdout",
     "output_type": "stream",
     "text": [
      "torch.Size([9413, 64]) torch.Size([9413, 8])\n"
     ]
    },
    {
     "data": {
      "text/plain": [
       "tensor([[-0.1062, -0.2752,  0.0381,  ..., -0.0258,  0.1209,  0.0390],\n",
       "        [ 0.1285,  0.3402,  0.0450,  ..., -0.0693, -0.1181,  0.0566],\n",
       "        [ 0.8203, -0.2521, -0.8088,  ..., -0.1490,  0.8101, -0.0160],\n",
       "        ...,\n",
       "        [ 0.0430, -0.4336, -0.0889,  ..., -0.0586,  0.0310,  0.0156],\n",
       "        [-0.0122,  0.1477, -0.1289,  ...,  0.0614, -0.0994, -0.0358],\n",
       "        [ 0.0921, -0.0848, -0.1383,  ..., -0.0288, -0.2187,  0.1570]])"
      ]
     },
     "execution_count": 150,
     "metadata": {},
     "output_type": "execute_result"
    }
   ],
   "source": [
    "# X_test imputed and embeddings learnt using SimCLR model\n",
    "embeddings, X_test_imputed = impute_with_embeddings_model(SimCLR_model,X_test_masked, mask_value='mask')\n",
    "X_test = torch.tensor(X_test_imputed).float()\n",
    "SimCLR_test_encoddings = torch.tensor(embeddings).float()\n",
    "\n",
    "SimCLR_test_encoddings"
   ]
  },
  {
   "cell_type": "markdown",
   "metadata": {},
   "source": [
    "### Models on X_test imputed only"
   ]
  },
  {
   "cell_type": "code",
   "execution_count": null,
   "metadata": {},
   "outputs": [
    {
     "name": "stdout",
     "output_type": "stream",
     "text": [
      "Evaluation for Logistic Regression:\n",
      "Confusion Matrix:\n",
      "[[ 316  237    0   41    3]\n",
      " [ 751  687    0  235    3]\n",
      " [   1    1   11    0    4]\n",
      " [1991 1639    0 1330    4]\n",
      " [ 487  393    8    8 1263]]\n",
      "\n",
      "Classification Report:\n",
      "              precision    recall  f1-score   support\n",
      "\n",
      "           0       0.09      0.53      0.15       597\n",
      "           1       0.23      0.41      0.30      1676\n",
      "           2       0.58      0.65      0.61        17\n",
      "           3       0.82      0.27      0.40      4964\n",
      "           4       0.99      0.58      0.74      2159\n",
      "\n",
      "    accuracy                           0.38      9413\n",
      "   macro avg       0.54      0.49      0.44      9413\n",
      "weighted avg       0.71      0.38      0.45      9413\n",
      "\n",
      "Accuracy: 0.3831934558589185\n"
     ]
    }
   ],
   "source": [
    "log_reg = LogisticRegression(max_iter=1000, class_weight='balanced')\n",
    "log_reg.fit(X_train, y_train)\n",
    "y_pred = log_reg.predict(X_test)\n",
    "\n",
    "# Evaluate the model\n",
    "evaluate_model(y_test, y_pred, \"Logistic Regression\")"
   ]
  },
  {
   "cell_type": "code",
   "execution_count": null,
   "metadata": {},
   "outputs": [
    {
     "name": "stdout",
     "output_type": "stream",
     "text": [
      "Evaluation for Random Forest:\n",
      "Confusion Matrix:\n",
      "[[  33   20    0  543    1]\n",
      " [  25  184    0 1466    1]\n",
      " [   0    0   11    2    4]\n",
      " [  71  160    0 4732    1]\n",
      " [  26   67    0  689 1377]]\n",
      "\n",
      "Classification Report:\n",
      "              precision    recall  f1-score   support\n",
      "\n",
      "           0       0.21      0.06      0.09       597\n",
      "           1       0.43      0.11      0.17      1676\n",
      "           2       1.00      0.65      0.79        17\n",
      "           3       0.64      0.95      0.76      4964\n",
      "           4       0.99      0.64      0.78      2159\n",
      "\n",
      "    accuracy                           0.67      9413\n",
      "   macro avg       0.65      0.48      0.52      9413\n",
      "weighted avg       0.66      0.67      0.62      9413\n",
      "\n",
      "Accuracy: 0.6732178901519176\n"
     ]
    }
   ],
   "source": [
    "rf_model = RandomForestClassifier(class_weight='balanced', random_state=42)\n",
    "rf_model.fit(X_train, y_train)\n",
    "y_pred = rf_model.predict(X_test.numpy())\n",
    "evaluate_model(y_test, y_pred, \"Random Forest\")"
   ]
  },
  {
   "cell_type": "code",
   "execution_count": null,
   "metadata": {},
   "outputs": [
    {
     "name": "stdout",
     "output_type": "stream",
     "text": [
      "Evaluation for XGBoost:\n",
      "Confusion Matrix:\n",
      "[[ 135  141    0  320    1]\n",
      " [ 240  549    0  885    2]\n",
      " [   0    1    5    1   10]\n",
      " [ 548  872    0 3541    3]\n",
      " [ 174  239    2  373 1371]]\n",
      "\n",
      "Classification Report:\n",
      "              precision    recall  f1-score   support\n",
      "\n",
      "           0       0.12      0.23      0.16       597\n",
      "           1       0.30      0.33      0.32      1676\n",
      "           2       0.71      0.29      0.42        17\n",
      "           3       0.69      0.71      0.70      4964\n",
      "           4       0.99      0.64      0.77      2159\n",
      "\n",
      "    accuracy                           0.60      9413\n",
      "   macro avg       0.56      0.44      0.47      9413\n",
      "weighted avg       0.65      0.60      0.61      9413\n",
      "\n",
      "Accuracy: 0.5950281525549772\n"
     ]
    }
   ],
   "source": [
    "xgb_model = XGBClassifier(eval_metric='mlogloss', enable_categorical=True, random_state=42)  \n",
    "xgb_model.fit(X_train, y_train)\n",
    "y_pred = xgb_model.predict(X_test.numpy())\n",
    "evaluate_model(y_test, y_pred, \"XGBoost\")"
   ]
  },
  {
   "cell_type": "markdown",
   "metadata": {},
   "source": [
    "### Models on X_test imputed combined with embeddings"
   ]
  },
  {
   "cell_type": "code",
   "execution_count": 155,
   "metadata": {},
   "outputs": [
    {
     "name": "stdout",
     "output_type": "stream",
     "text": [
      "torch.Size([37648, 40]) torch.Size([9413, 40])\n"
     ]
    }
   ],
   "source": [
    "concatenated_train_tensor = torch.cat((X_train_tensor, Autoencoder_train_embeddings_torch), dim=1)\n",
    "concatenated_test_tensor = torch.cat((X_test_tensor, Autoencoder_test_embeddings_torch), dim=1)\n",
    "print(concatenated_train_tensor.shape, concatenated_test_tensor.shape)"
   ]
  },
  {
   "cell_type": "code",
   "execution_count": null,
   "metadata": {},
   "outputs": [
    {
     "name": "stdout",
     "output_type": "stream",
     "text": [
      "Evaluation for Logistic Regression:\n",
      "Confusion Matrix:\n",
      "[[ 377  148    0   64    8]\n",
      " [ 863  532    0  268   13]\n",
      " [   0    0   10    0    7]\n",
      " [1893 1422    0 1634   15]\n",
      " [ 403  267    8    4 1477]]\n",
      "\n",
      "Classification Report:\n",
      "              precision    recall  f1-score   support\n",
      "\n",
      "           0       0.11      0.63      0.18       597\n",
      "           1       0.22      0.32      0.26      1676\n",
      "           2       0.56      0.59      0.57        17\n",
      "           3       0.83      0.33      0.47      4964\n",
      "           4       0.97      0.68      0.80      2159\n",
      "\n",
      "    accuracy                           0.43      9413\n",
      "   macro avg       0.54      0.51      0.46      9413\n",
      "weighted avg       0.71      0.43      0.49      9413\n",
      "\n",
      "Accuracy: 0.42813130776585573\n"
     ]
    }
   ],
   "source": [
    "log_reg = LogisticRegression(max_iter=1000, class_weight='balanced')\n",
    "log_reg.fit(concatenated_train_tensor.numpy(), y_train)\n",
    "y_pred = log_reg.predict(concatenated_test_tensor.numpy())\n",
    "\n",
    "evaluate_model(y_test, y_pred, \"Logistic Regression\")"
   ]
  },
  {
   "cell_type": "code",
   "execution_count": null,
   "metadata": {},
   "outputs": [
    {
     "name": "stdout",
     "output_type": "stream",
     "text": [
      "Evaluation for Random Forest:\n",
      "Confusion Matrix:\n",
      "[[  16   16    0  564    1]\n",
      " [   6  114    0 1555    1]\n",
      " [   0    0   11    0    6]\n",
      " [  16   93    0 4849    6]\n",
      " [   0    0    0   12 2147]]\n",
      "\n",
      "Classification Report:\n",
      "              precision    recall  f1-score   support\n",
      "\n",
      "           0       0.42      0.03      0.05       597\n",
      "           1       0.51      0.07      0.12      1676\n",
      "           2       1.00      0.65      0.79        17\n",
      "           3       0.69      0.98      0.81      4964\n",
      "           4       0.99      0.99      0.99      2159\n",
      "\n",
      "    accuracy                           0.76      9413\n",
      "   macro avg       0.72      0.54      0.55      9413\n",
      "weighted avg       0.71      0.76      0.68      9413\n",
      "\n",
      "Accuracy: 0.7582067353659833\n"
     ]
    }
   ],
   "source": [
    "rf_model = RandomForestClassifier(class_weight='balanced', random_state=42)\n",
    "rf_model.fit(concatenated_train_tensor.numpy(), y_train)\n",
    "y_pred = rf_model.predict(concatenated_test_tensor.numpy())\n",
    "evaluate_model(y_test, y_pred, \"Random Forest\")"
   ]
  },
  {
   "cell_type": "code",
   "execution_count": null,
   "metadata": {},
   "outputs": [
    {
     "name": "stdout",
     "output_type": "stream",
     "text": [
      "Evaluation for XGBoost:\n",
      "Confusion Matrix:\n",
      "[[  80  162    0  355    0]\n",
      " [ 113  555    0 1004    4]\n",
      " [   0    0    7    0   10]\n",
      " [ 226 1058    0 3677    3]\n",
      " [   0    3    1    1 2154]]\n",
      "\n",
      "Classification Report:\n",
      "              precision    recall  f1-score   support\n",
      "\n",
      "           0       0.19      0.13      0.16       597\n",
      "           1       0.31      0.33      0.32      1676\n",
      "           2       0.88      0.41      0.56        17\n",
      "           3       0.73      0.74      0.74      4964\n",
      "           4       0.99      1.00      0.99      2159\n",
      "\n",
      "    accuracy                           0.69      9413\n",
      "   macro avg       0.62      0.52      0.55      9413\n",
      "weighted avg       0.68      0.69      0.68      9413\n",
      "\n",
      "Accuracy: 0.6876659938383087\n"
     ]
    }
   ],
   "source": [
    "xgb_model = XGBClassifier(eval_metric='mlogloss', enable_categorical=True, random_state=42)  \n",
    "xgb_model.fit(concatenated_train_tensor.numpy(), y_train)\n",
    "y_pred = xgb_model.predict(concatenated_test_tensor.numpy())\n",
    "evaluate_model(y_test, y_pred, \"XGBoost\")"
   ]
  }
 ],
 "metadata": {
  "kernelspec": {
   "display_name": "ML1",
   "language": "python",
   "name": "python3"
  },
  "language_info": {
   "codemirror_mode": {
    "name": "ipython",
    "version": 3
   },
   "file_extension": ".py",
   "mimetype": "text/x-python",
   "name": "python",
   "nbconvert_exporter": "python",
   "pygments_lexer": "ipython3",
   "version": "3.12.5"
  }
 },
 "nbformat": 4,
 "nbformat_minor": 2
}
